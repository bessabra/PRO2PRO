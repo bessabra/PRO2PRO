{
  "cells": [
    {
      "cell_type": "markdown",
      "metadata": {
        "id": "view-in-github",
        "colab_type": "text"
      },
      "source": [
        "<a href=\"https://colab.research.google.com/github/bessabra/PRO2PRO/blob/main/ListaSeiRevisao.ipynb\" target=\"_parent\"><img src=\"https://colab.research.google.com/assets/colab-badge.svg\" alt=\"Open In Colab\"/></a>"
      ]
    },
    {
      "cell_type": "code",
      "execution_count": null,
      "metadata": {
        "colab": {
          "base_uri": "https://localhost:8080/"
        },
        "id": "32YBInZFnkDM",
        "outputId": "ced33e0b-d820-45f3-f8a2-e43ff834d2d7"
      },
      "outputs": [
        {
          "output_type": "stream",
          "name": "stdout",
          "text": [
            "Looking in indexes: https://pypi.org/simple, https://us-python.pkg.dev/colab-wheels/public/simple/\n",
            "Collecting xlsxwriter\n",
            "  Downloading XlsxWriter-3.0.7-py3-none-any.whl (152 kB)\n",
            "\u001b[2K     \u001b[90m━━━━━━━━━━━━━━━━━━━━━━━━━━━━━━━━━━━━━━━\u001b[0m \u001b[32m152.8/152.8 KB\u001b[0m \u001b[31m4.6 MB/s\u001b[0m eta \u001b[36m0:00:00\u001b[0m\n",
            "\u001b[?25hInstalling collected packages: xlsxwriter\n",
            "Successfully installed xlsxwriter-3.0.7\n"
          ]
        }
      ],
      "source": [
        "# !pip install fuzzywuzzy\n",
        "# !pip install levenshtein\n",
        "# !pip install xlsxwriter"
      ]
    },
    {
      "cell_type": "code",
      "execution_count": null,
      "metadata": {
        "colab": {
          "base_uri": "https://localhost:8080/"
        },
        "id": "tD-RbSuoyZsW",
        "outputId": "04d06106-016f-4929-ebe5-d5b1c5e7904f"
      },
      "outputs": [
        {
          "output_type": "stream",
          "name": "stderr",
          "text": [
            "/usr/local/lib/python3.8/dist-packages/fuzzywuzzy/fuzz.py:11: UserWarning: Using slow pure-python SequenceMatcher. Install python-Levenshtein to remove this warning\n",
            "  warnings.warn('Using slow pure-python SequenceMatcher. Install python-Levenshtein to remove this warning')\n"
          ]
        }
      ],
      "source": [
        "import pandas as pd\n",
        "from fuzzywuzzy import fuzz\n",
        "from datetime import datetime, timedelta\n",
        "\n",
        "basedf = pd.read_excel('/content/Prof Pioneiros Referencia tudo.xlsx', sheet_name='285715-CNV')"
      ]
    },
    {
      "cell_type": "code",
      "execution_count": null,
      "metadata": {
        "id": "doCg3sktmHdp"
      },
      "outputs": [],
      "source": [
        "# basedf.info()"
      ]
    },
    {
      "cell_type": "code",
      "execution_count": null,
      "metadata": {
        "id": "QjO5YbIQqPgt"
      },
      "outputs": [],
      "source": [
        "#Adiciona uma cópia da coluna SIAPE\n",
        "basedf.insert(11, 'IT-NO-SIAPE', basedf['Siape'])\n",
        "\n",
        "#Altera o nome da coluna \"Siape\" para \"SIAPE\", dessa forma o nome ficará igual entre a basedf e baserq\n",
        "basedf = basedf.rename(\n",
        "    columns = {'Siape':'SIAPE'}\n",
        "    )\n",
        "\n",
        "#Concatena Cargo e Cargo.1 em IT-CO-CARGO-EMPREGO\n",
        "basedf['IT-CO-CARGO-EMPREGO'] = basedf['Cargo'].astype(str) + ' - ' + basedf['Cargo.1'].astype(str)"
      ]
    },
    {
      "cell_type": "code",
      "execution_count": 161,
      "metadata": {
        "id": "kizB4uGnWgD2"
      },
      "outputs": [],
      "source": [
        "#Lista SEI de requerimentos para selecionar 40801-AP 40803-RO 40804-RR\n",
        "\n",
        "# baserq = pd.read_excel('/content/LISTA_SEI_PROFESSORES_COMPLEMENTO_40804_09_01_2023.xlsx')\n",
        "baserq = pd.read_excel('/content/LISTA_SEI_PROFESSORES_COMPLEMENTO_40801_09_01_2023.xlsx')\n",
        "# baserq = pd.read_excel('/content/LISTA_SEI_PROFESSORES_COMPLEMENTO_40801_23_01_2023.xlsx')\n",
        "# baserq = pd.read_excel('/content/LISTA_SEI_PROFESSORES_40801_26_12_2022.xlsx')\n",
        "# baserq = pd.read_excel('/content/LISTA_SEI_PROFESSORES_40803_27_12_2022.xlsx', sheet_name='Ok')\n",
        "# baserq = pd.read_excel('/content/LISTA_SEI_PROFESSORES_40804_27_12_2022.xlsx')\n",
        "\n",
        "Original = baserq\n",
        "Original['DATA DO REQUERIMENTO'] = pd.to_datetime(Original['DATA DO REQUERIMENTO'], errors=\"coerce\")"
      ]
    },
    {
      "cell_type": "code",
      "execution_count": 162,
      "metadata": {
        "id": "Ca5OUWp_UJN5"
      },
      "outputs": [],
      "source": [
        "#Renomeia as colunas para evitar conflitos no merge\n",
        "baserq = baserq.rename(\n",
        "    columns = {'DESCRIÇÃO':'ASSUNTO'}\n",
        "    )"
      ]
    },
    {
      "cell_type": "code",
      "execution_count": 163,
      "metadata": {
        "id": "_D9ruUiyeCTc"
      },
      "outputs": [],
      "source": [
        "# baserq.info()"
      ]
    },
    {
      "cell_type": "code",
      "execution_count": 164,
      "metadata": {
        "id": "C8iIJ1oF_TgG"
      },
      "outputs": [],
      "source": [
        "baserq['DATA DO REQUERIMENTO'] = pd.to_datetime(baserq['DATA DO REQUERIMENTO'], errors=\"coerce\")\n",
        "\n",
        "#Muda os caracteres para maiúsculos\n",
        "baserq['INTERESSADO'] = baserq['INTERESSADO'].str.upper()\n",
        "baserq['DATA DO REQUERIMENTO'] = baserq['DATA DO REQUERIMENTO'].dt.strftime('%d/%m/%Y')"
      ]
    },
    {
      "cell_type": "code",
      "execution_count": 165,
      "metadata": {
        "id": "TaE8vwf7rAJF"
      },
      "outputs": [],
      "source": [
        "#Corrige os números SIAPE dos servidores MARIA JOSÉ BARBOSA DA SILVA, ANA HELENA FIGUEIREDO SILVA, FRANCISCO SILVA CUSTÓDIO e CIPRIANA DOS SANTOS MACEDO em 40801.\n",
        "\n",
        "# Dicionário com as informações de mudança\n",
        "substituicoes = {10109595:1009595, \n",
        "                 101117:1011117, \n",
        "                 101527:1011527, \n",
        "                 1111456:1011456}\n",
        "\n",
        "#Substituindo\n",
        "for valor_antigo, valor_novo in substituicoes.items():\n",
        "    baserq.loc[baserq['SIAPE'] == valor_antigo, 'SIAPE'] = valor_novo"
      ]
    },
    {
      "cell_type": "code",
      "execution_count": 166,
      "metadata": {
        "id": "yGVDhwr-QI0L"
      },
      "outputs": [],
      "source": [
        "# #Corrige os números SIAPE dos servidores em 40804. \n",
        "# # JOSUÉ DA SILVA, OSBELTO RIBEIRO TRINDADE, SILVANA RODRIGUES DA SILVA, \n",
        "# # MIRIAN FERNANDES DE MELO, ANA AMELIA ALMEIDA SILVA, MARILENE EUSEBIO TOME MUNHOZ, \n",
        "# # ELANI DO SOCORRO FERNANDES PINHEIRO STUART, MARLEDE C.SCHWAB e ROSANGELA DA COSTA WERMOUTH \n",
        "\n",
        "# # Dicionário com as informações de mudança\n",
        "# substituicoes = {700955:709955, \n",
        "#                  1149046:707477, \n",
        "#                  6713577:713577, \n",
        "#                  7058489:705848,\n",
        "#                  7095619:709561, \n",
        "#                  7115326:711532, \n",
        "#                  7135882:713588, \n",
        "#                  10365133:1036513, \n",
        "#                  1148996:707406}\n",
        "\n",
        "# #Substituindo\n",
        "# for valor_antigo, valor_novo in substituicoes.items():\n",
        "#     baserq.loc[baserq['SIAPE'] == valor_antigo, 'SIAPE'] = valor_novo"
      ]
    },
    {
      "cell_type": "code",
      "source": [
        "# #Corrige os números SIAPE dos servidores EUGENIA MARIA FONSECA DOS REIS em 40801.\n",
        "\n",
        "# # Dicionário com as informações de mudança\n",
        "# substituicoes = {1030350:1010350}\n",
        "\n",
        "# #Substituindo\n",
        "# for valor_antigo, valor_novo in substituicoes.items():\n",
        "#     baserq.loc[baserq['SIAPE'] == valor_antigo, 'SIAPE'] = valor_novo"
      ],
      "metadata": {
        "id": "FluBig_KJ8Qt"
      },
      "execution_count": 167,
      "outputs": []
    },
    {
      "cell_type": "code",
      "execution_count": 168,
      "metadata": {
        "id": "xjTSf4tRy1XK"
      },
      "outputs": [],
      "source": [
        "# Junta as planilhas basedf e baserq pra identificar correspondência de SIAPE\n",
        "mixResultadoGeral = baserq.merge(\n",
        "    basedf, on=['SIAPE'], \n",
        "    how='outer', \n",
        "    # how='right', \n",
        "    suffixes=['', '_'], \n",
        "    indicator=True\n",
        "    )\n",
        "\n",
        "# Adiciona uma coluna com legendas para cada situação\n",
        "mixResultadoGeral.loc[(mixResultadoGeral['_merge'] == 'left_only'), 'CONDIÇÃO']   = 'Número SIAPE não encontrado em Prof Pioneiros Referencia tudo'\n",
        "mixResultadoGeral.loc[(mixResultadoGeral['_merge'] == 'both'), 'CONDIÇÃO']        = 'Número SIAPE encontrado em Prof Pioneiros Referencia tudo'\n",
        "\n",
        "\n",
        "# Lista de colunas para manter\n",
        "colunas_manter = ['PROCESSO SEI', \n",
        "                  'DATA DO REQUERIMENTO', \n",
        "                  'SIAPE', \n",
        "                  'INTERESSADO',\n",
        "                  'ASSUNTO',\n",
        "                  'GR-MATRICULA',\n",
        "                  'Órgão',\n",
        "                  'IT-NU-IDEN-SERV-ORIGEM',\n",
        "                  'IT-NO-SIAPE',\n",
        "                  'IT-NO-SERVIDOR',\n",
        "                  'IT-NU-CPF',\n",
        "                  '_merge',\n",
        "                  'IT-CO-CARGO-EMPREGO']\n",
        "\n",
        "# Exclusão das colunas que não estão na lista\n",
        "mixResultadoGeral = mixResultadoGeral[colunas_manter]\n",
        "\n",
        "\n",
        "#Calcula a similaridade entre os nomes dos interessados e dos servidores usando cálculo de distância de Levenshtein. Indentificar se o servidor foi o requerente.\n",
        "mixResultadoGeral['SIMILARIDADE'] = mixResultadoGeral.apply(lambda row: fuzz.partial_ratio(str(row['INTERESSADO']), str(row['IT-NO-SERVIDOR'])) if (isinstance(row['INTERESSADO'],str) and isinstance(row['IT-NO-SERVIDOR'],str)) else None, axis=1)\n"
      ]
    },
    {
      "cell_type": "code",
      "execution_count": 169,
      "metadata": {
        "id": "WZxXKyh7JWm-"
      },
      "outputs": [],
      "source": [
        "colunas_manter_sim = ['PROCESSO SEI', \n",
        "                  'DATA DO REQUERIMENTO', \n",
        "                  'SIAPE', \n",
        "                  'INTERESSADO',\n",
        "                  'ASSUNTO',\n",
        "                  'GR-MATRICULA',\n",
        "                  'Órgão',\n",
        "                  'IT-NU-IDEN-SERV-ORIGEM',\n",
        "                  'IT-NO-SIAPE',\n",
        "                  'IT-NO-SERVIDOR',\n",
        "                  'IT-NU-CPF', \n",
        "                  '_merge',\n",
        "                  'IT-CO-CARGO-EMPREGO',\n",
        "                  'SIMILARIDADE']\n",
        "\n",
        "SimilaridadeMenor50   = mixResultadoGeral.loc[(mixResultadoGeral['SIMILARIDADE'] <= 50)]\n",
        "SimilaridadeMaior50   = mixResultadoGeral.loc[(mixResultadoGeral['SIMILARIDADE'] > 50)]\n",
        "SimilaridadeMenor50   = SimilaridadeMenor50[colunas_manter_sim]\n",
        "SimilaridadeMaior50   = SimilaridadeMaior50[colunas_manter_sim]"
      ]
    },
    {
      "cell_type": "code",
      "execution_count": 170,
      "metadata": {
        "colab": {
          "base_uri": "https://localhost:8080/"
        },
        "id": "FiDIGiMRbHXR",
        "outputId": "2d0656fa-e980-49c7-a22d-c57c39186685"
      },
      "outputs": [
        {
          "output_type": "stream",
          "name": "stdout",
          "text": [
            "O DataFrame servNao está vazio, arquivo não será criado.\n"
          ]
        }
      ],
      "source": [
        "# Cria uma nova planilha somente com os servidores não encontrados na Prof Pioneiros Referencia tudo\n",
        "servNao = mixResultadoGeral.loc[(mixResultadoGeral['_merge'] == 'left_only')]\n",
        "# servNao = SimilaridadeMenor50.loc[(SimilaridadeMenor50['_merge'] == 'both')]\n",
        "\n",
        "# Cria uma nova planilha somente com os servidores encontrados Prof Pioneiros Referencia tudo\n",
        "# servEnc = mixResultadoGeral.loc[(mixResultadoGeral['_merge'] == 'both')]\n",
        "servEncMaior = SimilaridadeMaior50.loc[(SimilaridadeMaior50['_merge'] == 'both')]\n",
        "servEncMenor = SimilaridadeMenor50.loc[(SimilaridadeMenor50['_merge'] == 'both')]\n",
        "#Gerando as planilhas de Encontrados e Não Encontrados\n",
        "now = datetime.now()\n",
        "\n",
        "if not servNao.empty:\n",
        "    servNaoEnc = f\"servNao{now.strftime('%Y-%m-%d %H:%M:%S')}.xlsx\"\n",
        "    servNao.to_excel(servNaoEnc, index=False)\n",
        "else:\n",
        "    print(\"O DataFrame servNao está vazio, arquivo não será criado.\")"
      ]
    },
    {
      "cell_type": "code",
      "source": [
        "#Exclue a coluna _merge\n",
        "servEncMaior.drop('_merge', axis = 1, inplace=True)\n",
        "servEncMenor.drop('_merge', axis = 1, inplace=True)"
      ],
      "metadata": {
        "id": "L9ljjGDGHhA_"
      },
      "execution_count": 171,
      "outputs": []
    },
    {
      "cell_type": "code",
      "execution_count": 172,
      "metadata": {
        "id": "hmn4PtWRXe0X"
      },
      "outputs": [],
      "source": [
        "#Agrupa as primeiras ocorrências dos SIAPEs alvos\n",
        "resultadoMaior = servEncMaior.groupby('SIAPE').first().reset_index()\n",
        "resultadoMenor = servEncMenor.groupby('SIAPE').first().reset_index()\n",
        "\n",
        "#Ajusta o formato da data para dd/mm/aaaa\n",
        "resultadoMaior['DATA DO REQUERIMENTO'] = pd.to_datetime(resultadoMaior['DATA DO REQUERIMENTO'], errors=\"coerce\")\n",
        "resultadoMaior['DATA DO REQUERIMENTO'] = resultadoMaior['DATA DO REQUERIMENTO'].dt.strftime('%d/%m/%Y')\n",
        "resultadoMenor['DATA DO REQUERIMENTO'] = pd.to_datetime(resultadoMenor['DATA DO REQUERIMENTO'], errors=\"coerce\")\n",
        "resultadoMenor['DATA DO REQUERIMENTO'] = resultadoMenor['DATA DO REQUERIMENTO'].dt.strftime('%d/%m/%Y')\n",
        "Original['DATA DO REQUERIMENTO']  = Original['DATA DO REQUERIMENTO'].dt.strftime('%d/%m/%Y')\n",
        "\n",
        "#colunas\n",
        "cols = resultadoMaior.columns.tolist()\n",
        "colsmenor = resultadoMenor.columns.tolist()\n",
        "\n",
        "#colocando SIAPE na posição 2\n",
        "cols.insert(2, cols.pop(cols.index('SIAPE')))\n",
        "colsmenor.insert(2, colsmenor.pop(colsmenor.index('SIAPE')))\n",
        "\n",
        "#atribuindo as novas colunas\n",
        "resultadoMaior = resultadoMaior[cols]\n",
        "resultadoMenor = resultadoMenor[colsmenor]\n",
        "\n",
        "\n",
        "#Gerando a planilha ResultadoRevisao\n",
        "# now = datetime.now()\n",
        "# ResultadoRevisao = f\"ResultadoRevisao{now.strftime('%Y-%m-%d %H:%M:%S')}.xlsx\"\n",
        "# resultado.to_excel(ResultadoRevisao, index=False)\n",
        "\n",
        "# Usando o ExcelWriter, cria um doc .xlsx, usando engine='xlsxwriter'\n",
        "ResultadoRevisao = f\"ResultadoRevisao{now.strftime('%Y-%m-%d %H:%M:%S')}.xlsx\"\n",
        "writer = pd.ExcelWriter(ResultadoRevisao, engine='xlsxwriter')\n",
        "\n",
        "# Armazena cada df em uma planilha diferente do mesmo arquivo\n",
        "Original.to_excel(writer, sheet_name='AP_ORIGINAL')\n",
        "resultadoMaior.to_excel(writer, sheet_name='AP_TRATADA')\n",
        "resultadoMenor.to_excel(writer, sheet_name='AP_PEDENCIAS')\n",
        "\n",
        "\n",
        "# Fecha o ExcelWriter e gera o arquivo .xlsx\n",
        "writer.save()\n"
      ]
    }
  ],
  "metadata": {
    "colab": {
      "provenance": [],
      "authorship_tag": "ABX9TyM79m0BLN7d0MTSP1+2+REr",
      "include_colab_link": true
    },
    "kernelspec": {
      "display_name": "Python 3",
      "name": "python3"
    },
    "language_info": {
      "name": "python"
    }
  },
  "nbformat": 4,
  "nbformat_minor": 0
}