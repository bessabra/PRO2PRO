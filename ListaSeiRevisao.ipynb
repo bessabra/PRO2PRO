{
  "nbformat": 4,
  "nbformat_minor": 0,
  "metadata": {
    "colab": {
      "provenance": [],
      "authorship_tag": "ABX9TyMqmTgxUU0PzMnln3CBLLl6",
      "include_colab_link": true
    },
    "kernelspec": {
      "name": "python3",
      "display_name": "Python 3"
    },
    "language_info": {
      "name": "python"
    }
  },
  "cells": [
    {
      "cell_type": "markdown",
      "metadata": {
        "id": "view-in-github",
        "colab_type": "text"
      },
      "source": [
        "<a href=\"https://colab.research.google.com/github/bessabra/PRO2PRO/blob/main/ListaSeiRevisao.ipynb\" target=\"_parent\"><img src=\"https://colab.research.google.com/assets/colab-badge.svg\" alt=\"Open In Colab\"/></a>"
      ]
    },
    {
      "cell_type": "code",
      "source": [
        "# !pip install fuzzywuzzy\n",
        "# !pip install levenshtein"
      ],
      "metadata": {
        "id": "32YBInZFnkDM"
      },
      "execution_count": 114,
      "outputs": []
    },
    {
      "cell_type": "code",
      "execution_count": 115,
      "metadata": {
        "id": "tD-RbSuoyZsW"
      },
      "outputs": [],
      "source": [
        "import pandas as pd\n",
        "from fuzzywuzzy import fuzz\n",
        "from datetime import datetime, timedelta\n",
        "\n",
        "basedf = pd.read_excel('/content/Prof Pioneiros Referencia tudo.xlsx', sheet_name='285715-CNV')\n"
      ]
    },
    {
      "cell_type": "code",
      "source": [
        "#Lista SEI de requerimentos para selecionar 40801 40803 40804\n",
        "\n",
        "baserq = pd.read_excel('/content/LISTA_SEI_PROFESSORES_COMPLEMENTO_40804_09_01_2023.xlsx')\n",
        "# baserq = pd.read_excel('/content/LISTA_SEI_PROFESSORES_COMPLEMENTO_40801_09_01_2023.xlsx')"
      ],
      "metadata": {
        "id": "kizB4uGnWgD2"
      },
      "execution_count": null,
      "outputs": []
    },
    {
      "cell_type": "code",
      "source": [
        "#Altera o nome da coluna \"Siape\" para \"SIAPE\", dessa forma o nome ficará igual entre a basedf e baserq\n",
        "basedf = basedf.rename(\n",
        "    columns = {'Siape':'SIAPE'}\n",
        "    )\n",
        "baserq['INTERESSADO'] = baserq['INTERESSADO'].str.upper()"
      ],
      "metadata": {
        "id": "C8iIJ1oF_TgG"
      },
      "execution_count": 131,
      "outputs": []
    },
    {
      "cell_type": "code",
      "source": [
        "#Habilitar linha de acordo com o alvo\n",
        "\n",
        "#Retira todo servidor de orgão diferente de 40801\n",
        "# basedf = basedf[basedf['Órgão'] == 40801]\n",
        "\n",
        "#Retira todo servidor de orgão diferente de 40803\n",
        "# basedf = basedf[basedf['Órgão'] == 40803]\n",
        "\n",
        "#Retira todo servidor de orgão diferente de 40804\n",
        "basedf = basedf[basedf['Órgão'] == 40804]"
      ],
      "metadata": {
        "id": "Fu--K0APGH0e"
      },
      "execution_count": 132,
      "outputs": []
    },
    {
      "cell_type": "code",
      "source": [
        "#Corrige os números SIAPE dos servidores MARIA JOSÉ BARBOSA DA SILVA, ANA HELENA FIGUEIREDO SILVA, FRANCISCO SILVA CUSTÓDIO e CIPRIANA DOS SANTOS MACEDO em 40801.\n",
        "\n",
        "# Dicionário com as informações de mudança\n",
        "substituicoes = {10109595:1009595, 101117:1011117, 101527:1011527, 1111456:1011456}\n",
        "\n",
        "#Substituindo\n",
        "for valor_antigo, valor_novo in substituicoes.items():\n",
        "    baserq.loc[baserq['SIAPE'] == valor_antigo, 'SIAPE'] = valor_novo"
      ],
      "metadata": {
        "id": "TaE8vwf7rAJF"
      },
      "execution_count": 133,
      "outputs": []
    },
    {
      "cell_type": "code",
      "source": [
        "#Corrige os números SIAPE dos servidores em 40804. \n",
        "# JOSUÉ DA SILVA, OSBELTO RIBEIRO TRINDADE, SILVANA RODRIGUES DA SILVA, \n",
        "# MIRIAN FERNANDES DE MELO, ANA AMELIA ALMEIDA SILVA, MARILENE EUSEBIO TOME MUNHOZ, \n",
        "# ELANI DO SOCORRO FERNANDES PINHEIRO STUART, MARLEDE C.SCHWAB e ROSANGELA DA COSTA WERMOUTH \n",
        "\n",
        "# Dicionário com as informações de mudança\n",
        "substituicoes = {700955:709955, \n",
        "                 1149046:707477, \n",
        "                 6713577:713577, \n",
        "                 7058489:705848,\n",
        "                 7095619:709561, \n",
        "                 7115326:711532, \n",
        "                 7135882:713588, \n",
        "                 10365133:1036513, \n",
        "                 1148996:707406}\n",
        "\n",
        "#Substituindo\n",
        "for valor_antigo, valor_novo in substituicoes.items():\n",
        "    baserq.loc[baserq['SIAPE'] == valor_antigo, 'SIAPE'] = valor_novo\n"
      ],
      "metadata": {
        "id": "yGVDhwr-QI0L"
      },
      "execution_count": 134,
      "outputs": []
    },
    {
      "cell_type": "code",
      "source": [
        "# Junta as planilhas basedf e baserq pra identificar correspondência de SIAPE\n",
        "mixResultadoGeral = baserq.merge(\n",
        "    basedf, on=['SIAPE'], \n",
        "    how='outer', \n",
        "    # how='right', \n",
        "    suffixes=['', '_'], \n",
        "    indicator=True\n",
        "    )\n",
        "\n",
        "\n",
        "# Adiciona uma coluna com legendas para cada situação\n",
        "mixResultadoGeral.loc[(mixResultadoGeral['_merge'] == 'left_only'), 'CONDIÇÃO']   = 'Número SIPAE não encontrado em Prof Pioneiros Referencia tudo'\n",
        "mixResultadoGeral.loc[(mixResultadoGeral['_merge'] == 'both'), 'CONDIÇÃO']        = 'Número SIPAE encontrado em Prof Pioneiros Referencia tudo'\n",
        "# Lista de colunas para manter\n",
        "colunas_manter = ['PROCESSO SEI', \n",
        "                  'DATA DO REQUERIMENTO', \n",
        "                  'SIAPE', \n",
        "                  'INTERESSADO',\n",
        "                  'ASSUNTO',\n",
        "                  'GR-MATRICULA',\n",
        "                  'Órgão',\n",
        "                  'IT-NU-IDEN-SERV-ORIGEM',\n",
        "                  'IT-NO-SERVIDOR',\n",
        "                  'IT-NU-CPF',\n",
        "                  'CONDIÇÃO', \n",
        "                  '_merge',\n",
        "                  'IT-CO-CARGO-EMPREGO']\n",
        "\n",
        "# Exclusão das colunas que não estão na lista\n",
        "mixResultadoGeral = mixResultadoGeral[colunas_manter]\n",
        "\n",
        "# Cria uma nova planilha somente com os servidores não encontrados na Prof Pioneiros Referencia tudo\n",
        "servNao = mixResultadoGeral.loc[(mixResultadoGeral['_merge'] == 'left_only')]\n",
        "\n",
        "# Cria uma nova planilha somente com os servidores encontrados Prof Pioneiros Referencia tudo\n",
        "servEnc = mixResultadoGeral.loc[(mixResultadoGeral['_merge'] == 'both')]\n"
      ],
      "metadata": {
        "id": "xjTSf4tRy1XK"
      },
      "execution_count": 135,
      "outputs": []
    },
    {
      "cell_type": "code",
      "source": [
        "#Calcula a similaridade entre os nomes dos interessados e dos servidores. Indentificar se o servidor foi o requerente.\n",
        "servEnc[\"SIMILARIDADE\"] = servEnc.apply(lambda row: fuzz.partial_ratio(str(row[\"INTERESSADO\"]), str(row[\"IT-NO-SERVIDOR\"])) if (isinstance(row[\"INTERESSADO\"],str) and isinstance(row[\"IT-NO-SERVIDOR\"],str)) else None, axis=1)\n",
        "\n",
        "\n",
        "#Exclue colunas de merge\n",
        "servNao.drop('_merge', axis = 1, inplace=True)\n",
        "servEnc.drop('_merge', axis = 1, inplace=True)"
      ],
      "metadata": {
        "id": "V9B8mNqaL1pO"
      },
      "execution_count": null,
      "outputs": []
    },
    {
      "cell_type": "code",
      "source": [
        "#Gerando as planilhas\n",
        "servNao.to_excel('RevisaoListaSeiV22.01.07.xlsx')\n",
        "servEnc.to_excel('EncontradosRefTudoSimilaridadev22.01.07.xlsx')"
      ],
      "metadata": {
        "id": "Nk-cxW4h5OP9"
      },
      "execution_count": 138,
      "outputs": []
    }
  ]
}