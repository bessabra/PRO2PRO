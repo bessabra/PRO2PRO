{
  "nbformat": 4,
  "nbformat_minor": 0,
  "metadata": {
    "colab": {
      "provenance": [],
      "mount_file_id": "1tm8qByny-9KADjaIg9X78Stm6fBZyyRV",
      "authorship_tag": "ABX9TyP7uU4M0t6esUyAjudKQi2O",
      "include_colab_link": true
    },
    "kernelspec": {
      "name": "python3",
      "display_name": "Python 3"
    },
    "language_info": {
      "name": "python"
    }
  },
  "cells": [
    {
      "cell_type": "markdown",
      "metadata": {
        "id": "view-in-github",
        "colab_type": "text"
      },
      "source": [
        "<a href=\"https://colab.research.google.com/github/bessabra/bessabra/blob/main/pro2pro.ipynb\" target=\"_parent\"><img src=\"https://colab.research.google.com/assets/colab-badge.svg\" alt=\"Open In Colab\"/></a>"
      ]
    },
    {
      "cell_type": "code",
      "execution_count": 5,
      "metadata": {
        "id": "qFDoVJSRaBYZ"
      },
      "outputs": [],
      "source": [
        "import pandas as pd\n",
        "from datetime import datetime, timedelta\n",
        "\n",
        "base = pd.read_csv('/content/drive/MyDrive/Progressão Professores/Versões v19.12/servEncontradosv19.12.csv')"
      ]
    },
    {
      "cell_type": "code",
      "source": [
        "#Mudando o tipo de veriavel para datetime\n",
        "base['INATIVIDADE']           = pd.to_datetime(base['INATIVIDADE'], errors=\"coerce\")\n",
        "base['OBITO']                 = pd.to_datetime(base['OBITO'], errors=\"coerce\")\n",
        "base['DATA DO REQUERIMENTO']  = pd.to_datetime(base['DATA DO REQUERIMENTO'], errors=\"coerce\")\n",
        "\n",
        "#Subtrai 5 anos da Data Requerimento\n",
        "base['DR5'] = base['DATA DO REQUERIMENTO'] - timedelta(days=1825)"
      ],
      "metadata": {
        "id": "x7h48SDckQwf"
      },
      "execution_count": 6,
      "outputs": []
    },
    {
      "cell_type": "code",
      "source": [
        "#Requerimento antes da aposentadoria ou obito\n",
        "base.loc[(base['DATA DO REQUERIMENTO'] < base['INATIVIDADE']) | (base['DATA DO REQUERIMENTO'] < base['OBITO']), 'DRstatus'] ='01 - ATIVO PERMANENTE ou 08 - ATIVO EM OUTRO ORGAO'\n",
        "base.loc[(base['DATA DO REQUERIMENTO'] > base['INATIVIDADE']) | (base['DATA DO REQUERIMENTO'] > base['OBITO']), 'DRstatus'] ='02 – APOSENTADO ou 15 - INSTITUIDOR PENSAO;'\n",
        "base.loc[(base['DR5'] < base['INATIVIDADE']) | (base['DR5'] < base['OBITO']), 'DR5status'] ='01 - ATIVO PERMANENTE ou 08 - ATIVO EM OUTRO ORGAO'\n",
        "base.loc[(base['DR5'] > base['INATIVIDADE']) | (base['DR5'] > base['OBITO']), 'DR5status'] ='02 – APOSENTADO ou 15 - INSTITUIDOR PENSAO;'\n",
        "\n",
        "#Situação após o filtro de intervalo de cobertura\n",
        "base.loc[(base['SITUAÇÃO'] == '01 - ATIVO PERMANENTE'), 'REQUERIMENTO'] ='ANÁLISE'\n",
        "base.loc[(base['DRstatus'] == '02 – APOSENTADO ou 15 - INSTITUIDOR PENSAO;') & (base['DR5status']         == '02 – APOSENTADO ou 15 - INSTITUIDOR PENSAO;'), 'REQUERIMENTO'] ='INDEFERIDO'\n",
        "base.loc[(base['DRstatus'] == '02 – APOSENTADO ou 15 - INSTITUIDOR PENSAO;') & (base['DR5status']         == '01 - ATIVO PERMANENTE ou 08 - ATIVO EM OUTRO ORGAO'), 'REQUERIMENTO'] ='A DECIDIR'\n",
        "base.loc[(base['DRstatus'] == '01 - ATIVO PERMANENTE ou 08 - ATIVO EM OUTRO ORGAO') & (base['DR5status']  == '01 - ATIVO PERMANENTE ou 08 - ATIVO EM OUTRO ORGAO'), 'REQUERIMENTO'] ='ANÁLISE'\n",
        "\n",
        "base.to_excel('ResultadoPreliminar.xlsx')"
      ],
      "metadata": {
        "id": "VblfVuAPcgBD"
      },
      "execution_count": 7,
      "outputs": []
    },
    {
      "cell_type": "code",
      "source": [
        "baseAnalise   = base.loc[(base['REQUERIMENTO'] == 'ANÁLISE') | ((base['DRstatus'] == '01 - ATIVO PERMANENTE ou 08 - ATIVO EM OUTRO ORGAO') & (base['DR5status'] == '01 - ATIVO PERMANENTE ou 08 - ATIVO EM OUTRO ORGAO'))]\n",
        "baseIdeferido = base.loc[(base['DRstatus']     == '02 – APOSENTADO ou 15 - INSTITUIDOR PENSAO;') & (base['DR5status'] == '02 – APOSENTADO ou 15 - INSTITUIDOR PENSAO;')]\n",
        "baseADecidir  = base.loc[(base['DRstatus']     == '02 – APOSENTADO ou 15 - INSTITUIDOR PENSAO;') & (base['DR5status'] == '01 - ATIVO PERMANENTE ou 08 - ATIVO EM OUTRO ORGAO')]\n",
        "\n",
        "baseAnalise.to_excel('baseAnalisev19.12.xlsx')\n",
        "baseIdeferido.to_excel('baseIdeferidov19.12.xlsx')\n",
        "baseADecidir.to_excel('baseADecidirv19.12.xlsx')"
      ],
      "metadata": {
        "id": "jeQxGkmU4U72"
      },
      "execution_count": 8,
      "outputs": []
    }
  ]
}