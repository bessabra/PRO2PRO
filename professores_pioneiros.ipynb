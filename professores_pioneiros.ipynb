{
  "cells": [
    {
      "cell_type": "markdown",
      "metadata": {
        "id": "view-in-github",
        "colab_type": "text"
      },
      "source": [
        "<a href=\"https://colab.research.google.com/github/bessabra/PRO2PRO/blob/main/professores_pioneiros.ipynb\" target=\"_parent\"><img src=\"https://colab.research.google.com/assets/colab-badge.svg\" alt=\"Open In Colab\"/></a>"
      ]
    },
    {
      "cell_type": "code",
      "execution_count": 1,
      "metadata": {
        "colab": {
          "base_uri": "https://localhost:8080/"
        },
        "id": "32YBInZFnkDM",
        "outputId": "ea91d03c-5ab9-402b-d003-d785b4978f93"
      },
      "outputs": [
        {
          "output_type": "stream",
          "name": "stdout",
          "text": [
            "Looking in indexes: https://pypi.org/simple, https://us-python.pkg.dev/colab-wheels/public/simple/\n",
            "Collecting fuzzywuzzy\n",
            "  Downloading fuzzywuzzy-0.18.0-py2.py3-none-any.whl (18 kB)\n",
            "Installing collected packages: fuzzywuzzy\n",
            "Successfully installed fuzzywuzzy-0.18.0\n",
            "Looking in indexes: https://pypi.org/simple, https://us-python.pkg.dev/colab-wheels/public/simple/\n",
            "Collecting levenshtein\n",
            "  Downloading Levenshtein-0.20.9-cp38-cp38-manylinux_2_17_x86_64.manylinux2014_x86_64.whl (174 kB)\n",
            "\u001b[2K     \u001b[90m━━━━━━━━━━━━━━━━━━━━━━━━━━━━━━━━━━━━━━━\u001b[0m \u001b[32m174.0/174.0 KB\u001b[0m \u001b[31m6.9 MB/s\u001b[0m eta \u001b[36m0:00:00\u001b[0m\n",
            "\u001b[?25hCollecting rapidfuzz<3.0.0,>=2.3.0\n",
            "  Downloading rapidfuzz-2.13.7-cp38-cp38-manylinux_2_17_x86_64.manylinux2014_x86_64.whl (2.2 MB)\n",
            "\u001b[2K     \u001b[90m━━━━━━━━━━━━━━━━━━━━━━━━━━━━━━━━━━━━━━━━\u001b[0m \u001b[32m2.2/2.2 MB\u001b[0m \u001b[31m44.5 MB/s\u001b[0m eta \u001b[36m0:00:00\u001b[0m\n",
            "\u001b[?25hInstalling collected packages: rapidfuzz, levenshtein\n",
            "Successfully installed levenshtein-0.20.9 rapidfuzz-2.13.7\n",
            "Looking in indexes: https://pypi.org/simple, https://us-python.pkg.dev/colab-wheels/public/simple/\n",
            "Collecting xlsxwriter\n",
            "  Downloading XlsxWriter-3.0.8-py3-none-any.whl (152 kB)\n",
            "\u001b[2K     \u001b[90m━━━━━━━━━━━━━━━━━━━━━━━━━━━━━━━━━━━━━━━\u001b[0m \u001b[32m152.8/152.8 KB\u001b[0m \u001b[31m4.4 MB/s\u001b[0m eta \u001b[36m0:00:00\u001b[0m\n",
            "\u001b[?25hInstalling collected packages: xlsxwriter\n",
            "Successfully installed xlsxwriter-3.0.8\n"
          ]
        }
      ],
      "source": [
        "!pip install fuzzywuzzy\n",
        "!pip install levenshtein\n",
        "!pip install xlsxwriter"
      ]
    },
    {
      "cell_type": "markdown",
      "source": [
        "`ListaSeiRevisao.ipynb`\n",
        "\n",
        "\n",
        "---\n",
        "\n",
        "\n",
        "\n",
        "---\n",
        "\n"
      ],
      "metadata": {
        "id": "V24KLnroenl-"
      }
    },
    {
      "cell_type": "code",
      "source": [
        "import pandas      as pd\n",
        "from   fuzzywuzzy  import fuzz\n",
        "from   datetime    import datetime, timedelta\n",
        "import xlsxwriter\n",
        "import chardet\n",
        "import pyarrow.parquet as pq\n"
      ],
      "metadata": {
        "id": "0iuyFwIZhl72"
      },
      "execution_count": 2,
      "outputs": []
    },
    {
      "cell_type": "code",
      "execution_count": 3,
      "metadata": {
        "id": "tD-RbSuoyZsW"
      },
      "outputs": [],
      "source": [
        "parquet_file = r'/content/Prof Pioneiros Referencia tudo.parquet'\n",
        "\n",
        "base_ref_parquet = pd.read_parquet(parquet_file)"
      ]
    },
    {
      "cell_type": "code",
      "execution_count": 4,
      "metadata": {
        "id": "QjO5YbIQqPgt"
      },
      "outputs": [],
      "source": [
        "# Adiciona uma cópia da coluna SIAPE\n",
        "base_ref_parquet.insert(11, 'IT-NO-SIAPE', base_ref_parquet['Siape'])\n",
        "\n",
        "# Altera o nome da coluna \"Siape\" para \"SIAPE\", dessa forma o nome ficará igual entre a basedf e baserq\n",
        "base_ref_parquet = base_ref_parquet.rename(\n",
        "    columns = {'Siape':'SIAPE'}\n",
        "    )\n",
        "\n",
        "# Concatena Cargo e Cargo.1 em IT-CO-CARGO-EMPREGO\n",
        "base_ref_parquet['IT-CO-CARGO-EMPREGO'] = base_ref_parquet['Cargo'].astype(str) + ' - ' + base_ref_parquet['Cargo.1'].astype(str)"
      ]
    },
    {
      "cell_type": "markdown",
      "source": [
        "Rodar a partir daqui após carregar Prof Pioneiros Referencia tudo.xlsx\n",
        "\n",
        "\n",
        "---\n",
        "\n"
      ],
      "metadata": {
        "id": "Hmiojn4XLq2q"
      }
    },
    {
      "cell_type": "code",
      "source": [
        "values_dict = {\n",
        "    '40801_26_12': 'AP',\n",
        "    '40801_09_01': 'AP',\n",
        "    '40801_23_01': 'AP',\n",
        "    '40803_27_12': 'RO',\n",
        "    '40804_27_12': 'RR',\n",
        "    '40804_09_01': 'RR'\n",
        "    }\n",
        "\n",
        "origem =   {\n",
        "    '40801_26_12': 'LISTA_SEI_PROFESSORES_40801_26_12_2022',\n",
        "    '40801_09_01': 'LISTA_SEI_PROFESSORES_COMPLEMENTO_40801_09_01_2023',\n",
        "    '40801_23_01': 'LISTA_SEI_PROFESSORES_COMPLEMENTO_40801_23_01_2023',\n",
        "    '40803_27_12': 'LISTA_SEI_PROFESSORES_40803_27_12_2022',\n",
        "    '40804_27_12': 'LISTA_SEI_PROFESSORES_40804_27_12_2022',\n",
        "    '40804_09_01': 'LISTA_SEI_PROFESSORES_40804_09_01_2023'\n",
        "    }\n",
        "\n",
        "sheetlist = [\n",
        "    '40801_26_12',             \n",
        "    '40801_09_01',             \n",
        "    '40801_23_01',            \n",
        "    '40803_27_12',             \n",
        "    '40804_27_12',             \n",
        "    '40804_09_01'\n",
        "    ]\n",
        "    \n",
        "base_sheet_list = []\n",
        "\n",
        "for sheet in sheetlist:\n",
        "    baseListaSEI = pd.read_excel('/content/LISTAS_SEI_GERAL.xlsx', sheet_name=sheet, index_col=None)\n",
        "    if sheet in values_dict and sheet in origem:\n",
        "        baseListaSEI['ESTADO'] = values_dict[sheet]\n",
        "        baseListaSEI['LISTA'] = origem[sheet]\n",
        "    base_sheet_list.append(baseListaSEI)\n",
        "\n",
        "baserq = pd.concat(base_sheet_list, axis=0, ignore_index=True)\n",
        "\n",
        "Original = baserq.copy()\n",
        "Original['DATA DO REQUERIMENTO'] = pd.to_datetime(Original['DATA DO REQUERIMENTO'], errors=\"coerce\")"
      ],
      "metadata": {
        "id": "-Agk2YfSRyz-"
      },
      "execution_count": 5,
      "outputs": []
    },
    {
      "cell_type": "code",
      "execution_count": 6,
      "metadata": {
        "id": "kizB4uGnWgD2"
      },
      "outputs": [],
      "source": [
        "#Lista SEI de requerimentos para selecionar 40801-AP 40803-RO 40804-RR\n",
        "baserq['DATA DO REQUERIMENTO'] = pd.to_datetime(baserq['DATA DO REQUERIMENTO'], errors=\"coerce\")"
      ]
    },
    {
      "cell_type": "code",
      "execution_count": 7,
      "metadata": {
        "id": "Ca5OUWp_UJN5"
      },
      "outputs": [],
      "source": [
        "# Renomeia as colunas para evitar conflitos no merge\n",
        "baserq = baserq.rename(\n",
        "    columns = {'DESCRIÇÃO':'ASSUNTO'}\n",
        "    )"
      ]
    },
    {
      "cell_type": "code",
      "execution_count": 8,
      "metadata": {
        "id": "C8iIJ1oF_TgG"
      },
      "outputs": [],
      "source": [
        "# Muda os caracteres para maiúsculos\n",
        "baserq['INTERESSADO']           = baserq['INTERESSADO'].str.upper()\n",
        "baserq['DATA DO REQUERIMENTO']  = baserq['DATA DO REQUERIMENTO'].dt.strftime('%d/%m/%Y')"
      ]
    },
    {
      "cell_type": "code",
      "execution_count": 9,
      "metadata": {
        "id": "xjTSf4tRy1XK"
      },
      "outputs": [],
      "source": [
        "# Junta as planilhas basedf e baserq pra identificar correspondência de SIAPE\n",
        "mixResultadoGeral = baserq.merge(\n",
        "    base_ref_parquet, on=['SIAPE'], \n",
        "    how='outer', \n",
        "    # how='right', \n",
        "    suffixes=['', '_'], \n",
        "    indicator=True\n",
        "    )\n",
        "\n",
        "# Adiciona uma coluna com legendas para cada situação\n",
        "mixResultadoGeral.loc[(mixResultadoGeral['_merge'] == 'left_only'), 'CONDIÇÃO']   = 'Número SIAPE não encontrado em Prof Pioneiros Referencia tudo'\n",
        "mixResultadoGeral.loc[(mixResultadoGeral['_merge'] == 'both'), 'CONDIÇÃO']        = 'Número SIAPE encontrado em Prof Pioneiros Referencia tudo'\n",
        "\n",
        "\n",
        "# Lista de colunas para manter\n",
        "colunas_manter = [\n",
        "    'PROCESSO SEI', \n",
        "    'DATA DO REQUERIMENTO', \n",
        "    'SIAPE', \n",
        "    'INTERESSADO',\n",
        "    'ASSUNTO',\n",
        "    'ESTADO',\n",
        "    'LISTA',\n",
        "    'GR-MATRICULA',\n",
        "    'Órgão',\n",
        "    'IT-NU-IDEN-SERV-ORIGEM',\n",
        "    'IT-NO-SIAPE',\n",
        "    'IT-NO-SERVIDOR',\n",
        "    'IT-NU-CPF',\n",
        "    '_merge',\n",
        "    'IT-CO-CARGO-EMPREGO'\n",
        "    ]\n",
        "\n",
        "# Exclusão das colunas que não estão na lista\n",
        "mixResultadoGeral = mixResultadoGeral[colunas_manter]\n",
        "\n",
        "\n",
        "# Calcula a similaridade entre os nomes dos interessados e dos servidores usando cálculo de distância de Levenshtein. Indentificar se o servidor foi o requerente.\n",
        "mixResultadoGeral['SIMILARIDADE'] = mixResultadoGeral.apply(lambda row: fuzz.partial_ratio(str(row['INTERESSADO']),str(row['IT-NO-SERVIDOR']))if(isinstance(row['INTERESSADO'],str) and isinstance(row['IT-NO-SERVIDOR'],str))else None, axis=1)\n"
      ]
    },
    {
      "cell_type": "code",
      "execution_count": 10,
      "metadata": {
        "id": "WZxXKyh7JWm-"
      },
      "outputs": [],
      "source": [
        "colunas_manter_sim = [\n",
        "    'PROCESSO SEI', \n",
        "    'DATA DO REQUERIMENTO', \n",
        "    'SIAPE', \n",
        "    'INTERESSADO',\n",
        "    'ASSUNTO',\n",
        "    'ESTADO',\n",
        "    'LISTA',\n",
        "    'GR-MATRICULA',\n",
        "    'Órgão',\n",
        "    'IT-NU-IDEN-SERV-ORIGEM',\n",
        "    'IT-NO-SIAPE',\n",
        "    'IT-NO-SERVIDOR',\n",
        "    'IT-NU-CPF', \n",
        "    '_merge',\n",
        "    'IT-CO-CARGO-EMPREGO',\n",
        "    'SIMILARIDADE'\n",
        "    ]\n",
        "\n",
        "SimilaridadeMenor50   = mixResultadoGeral.loc[(mixResultadoGeral['SIMILARIDADE'] <= 50)]\n",
        "SimilaridadeMaior50   = mixResultadoGeral.loc[(mixResultadoGeral['SIMILARIDADE'] > 50)]\n",
        "SimilaridadeMenor50   = SimilaridadeMenor50[colunas_manter_sim]\n",
        "SimilaridadeMaior50   = SimilaridadeMaior50[colunas_manter_sim]"
      ]
    },
    {
      "cell_type": "code",
      "execution_count": 11,
      "metadata": {
        "colab": {
          "base_uri": "https://localhost:8080/"
        },
        "id": "FiDIGiMRbHXR",
        "outputId": "5653609d-1b88-4b41-b387-e7fa29654c39"
      },
      "outputs": [
        {
          "output_type": "stream",
          "name": "stdout",
          "text": [
            "O DataFrame servNao está vazio, arquivo não será criado.\n"
          ]
        }
      ],
      "source": [
        "# Cria uma nova planilha somente com os servidores não encontrados na Prof Pioneiros Referencia tudo\n",
        "servNao = mixResultadoGeral.loc[(mixResultadoGeral['_merge'] == 'left_only')]\n",
        "# servNao = SimilaridadeMenor50.loc[(SimilaridadeMenor50['_merge'] == 'both')]\n",
        "\n",
        "# Cria uma nova planilha somente com os servidores encontrados Prof Pioneiros Referencia tudo\n",
        "# servEnc = mixResultadoGeral.loc[(mixResultadoGeral['_merge'] == 'both')]\n",
        "servEncMaior = SimilaridadeMaior50.loc[(SimilaridadeMaior50['_merge'] == 'both')]\n",
        "servEncMenor = SimilaridadeMenor50.loc[(SimilaridadeMenor50['_merge'] == 'both')]\n",
        "# Gerando as planilhas de Encontrados e Não Encontrados\n",
        "now = datetime.now()\n",
        "\n",
        "if not servNao.empty:\n",
        "    servNaoEnc = f\"servNao{now.strftime('%Y-%m-%d %H:%M:%S')}.xlsx\"\n",
        "    servNao.to_excel(servNaoEnc, index=False)\n",
        "else:\n",
        "    print(\"O DataFrame servNao está vazio, arquivo não será criado.\")"
      ]
    },
    {
      "cell_type": "code",
      "source": [
        "# Exclue a coluna _merge\n",
        "servEncMaior.drop('_merge', axis = 1, inplace=True)\n",
        "servEncMenor.drop('_merge', axis = 1, inplace=True)"
      ],
      "metadata": {
        "id": "L9ljjGDGHhA_"
      },
      "execution_count": 12,
      "outputs": []
    },
    {
      "cell_type": "code",
      "execution_count": 13,
      "metadata": {
        "id": "hmn4PtWRXe0X"
      },
      "outputs": [],
      "source": [
        "# Agrupa as primeiras ocorrências dos SIAPEs alvos\n",
        "resultadoMaior = servEncMaior.groupby('SIAPE').first().reset_index()\n",
        "resultadoMenor = servEncMenor.groupby('SIAPE').first().reset_index()\n",
        "\n",
        "Original['DATA DO REQUERIMENTO']        = Original['DATA DO REQUERIMENTO'].dt.strftime('%d/%m/%Y')\n",
        "\n",
        "# Colunas\n",
        "cols      = resultadoMaior.columns.tolist()\n",
        "colsmenor = resultadoMenor.columns.tolist()\n",
        "\n",
        "# Colocando SIAPE na posição 2\n",
        "cols.insert(2, cols.pop(cols.index('SIAPE')))\n",
        "colsmenor.insert(2, colsmenor.pop(colsmenor.index('SIAPE')))\n",
        "\n",
        "# Atribuindo as novas colunas\n",
        "resultadoMaior = resultadoMaior[cols]\n",
        "resultadoMenor = resultadoMenor[colsmenor]"
      ]
    },
    {
      "cell_type": "code",
      "source": [
        "#Cria uma base contendo apenas as duplicadas\n",
        "resultadoDuplicadas = Original[Original.duplicated(subset=['SIAPE'], keep=False)]"
      ],
      "metadata": {
        "id": "m85Jost-OKXt"
      },
      "execution_count": 14,
      "outputs": []
    },
    {
      "cell_type": "code",
      "source": [
        "# Criar um arquivo Excel com ExcelWriter, usando a engine='xlsxwriter'\n",
        "now = datetime.now()\n",
        "Resultado = f\"01 Lista SEI {now.strftime('%Y-%m-%d %H:%M:%S')}.xlsx\"\n",
        "writer = pd.ExcelWriter(Resultado, engine='xlsxwriter')\n",
        "\n",
        "# Escreva os dataframes no arquivo Excel\n",
        "Original.to_excel(writer, sheet_name='ORIGINAL', index=False)\n",
        "resultadoMaior.to_excel(writer, sheet_name='TRATADA', index=False)\n",
        "resultadoDuplicadas.to_excel(writer, sheet_name='DUPLICADAS', index = False)\n",
        "resultadoMenor.to_excel(writer, sheet_name='NOMES_DIFERENTES', index=False)\n",
        "\n",
        "# Definir formato, filtros e cabeçalho para cada planilha\n",
        "for sheet_name in ['ORIGINAL', 'TRATADA', 'NOMES_DIFERENTES', 'DUPLICADAS']:\n",
        "    worksheet = writer.sheets[sheet_name]\n",
        "\n",
        "    # Definir o formato de célula centralizado\n",
        "    cell_format = writer.book.add_format({'align': 'center', 'valign': 'center'})\n",
        "\n",
        "    # Aplicar o formato de célula centralizado às colunas da planilha\n",
        "    num_cols = len(Original.columns)\n",
        "    num_rows = len(Original)\n",
        "\n",
        "     # Ajustar a largura da coluna de modo a mostrar todo o texto\n",
        "    for col_num, col_width in enumerate(Original.iloc[:, col_num].astype(str).str.len().max() for col_num in range(len(Original.columns))):\n",
        "        worksheet.set_column(col_num, col_num, col_width + 1, cell_format)\n",
        "\n",
        "    for row_num in range(num_rows):\n",
        "        worksheet.set_row(row_num, None, cell_format)\n",
        "\n",
        "    # Adicionar filtros às colunas da planilha\n",
        "    worksheet.autofilter(0, 0, num_rows - 1, num_cols - 1)\n",
        "\n",
        "    # Congelar a primeira linha\n",
        "    worksheet.freeze_panes(1, 0)\n",
        "\n",
        "    # Definir a cor azul para os nomes das colunas\n",
        "    header_format = writer.book.add_format({'bold': True, 'bg_color': '#0070C0', 'color': 'white'})\n",
        "    for col_num, value in enumerate(Original.columns.values):\n",
        "        worksheet.write(0, col_num, value, header_format)\n",
        "\n",
        "# Salve o arquivo\n",
        "writer.save()"
      ],
      "metadata": {
        "id": "DTpOWz3tsQ3O"
      },
      "execution_count": 15,
      "outputs": []
    },
    {
      "cell_type": "markdown",
      "source": [
        "Aqui é o trecho que filtra a carreira  `consolidaLista.ipynb`\n",
        "\n",
        "\n",
        "---\n",
        "\n",
        "\n",
        "\n",
        "\n",
        "---\n",
        "\n"
      ],
      "metadata": {
        "id": "n8Yb9WpUeM3L"
      }
    },
    {
      "cell_type": "code",
      "source": [
        "# Lista de colunas para manter\n",
        "colunas_manter = [\n",
        "    'PROCESSO SEI',\n",
        "    'DATA DO REQUERIMENTO', \n",
        "    'SIAPE', \n",
        "    'INTERESSADO',\n",
        "    'IT-NO-SERVIDOR',\n",
        "    'IT-NU-CPF',\n",
        "    'IT-CO-CARGO-EMPREGO',\n",
        "    'LISTA', \n",
        "    'ESTADO'\n",
        "    ]\n",
        "\n",
        "# Exclusão das colunas que não estão na lista\n",
        "base_carreira = resultadoMaior[colunas_manter].copy()"
      ],
      "metadata": {
        "id": "K0fxUatBXsk7"
      },
      "execution_count": 16,
      "outputs": []
    },
    {
      "cell_type": "code",
      "source": [
        "base_carreira = base_carreira.rename(columns = {'IT-NO-SERVIDOR':'SERVIDOR', 'IT-NU-CPF':'CPF', 'IT-CO-CARGO-EMPREGO':'CARGO'})\n"
      ],
      "metadata": {
        "id": "YTFF_vsqYzNT"
      },
      "execution_count": 17,
      "outputs": []
    },
    {
      "cell_type": "code",
      "source": [
        "# Identifica os seis valores possíveis de cargo e carreira\n",
        "CARGO_LISTA = ['709001 - CARREIRA MAGIST ENS BASICO EX-TERRITORIO - PROFESSOR DO ENSINO BASICO EX-TERRITORIO',\n",
        "               '709001 - PROFESSOR DO ENSINO BASICO EX-TERRITORIO',\n",
        "               '707001 - PROFESSOR ENS BASICO TECN TECNOLOGICO',\n",
        "               '707001 - CARREIRA MAGIST ENS BAS TEC TECNOL - PROFESSOR ENS BASICO TECN TECNOLOGICO',\n",
        "               '704001 - CAR.MAG.ENSINO BASICO EX-TERRITORIO - PROFESSOR DO ENSINO BASICO EX-TERRITORIO',\n",
        "               '704001 - PROFESSOR DO ENSINO BASICO EX-TERRITORIO']\n",
        "\n",
        "for cargo in CARGO_LISTA:\n",
        "    base_carreira.loc[~base_carreira['CARGO'].isin(CARGO_LISTA), 'CARREIRA'] = 'FORA DO ESCOPO'"
      ],
      "metadata": {
        "id": "Cm3A0qlCZl4U"
      },
      "execution_count": 18,
      "outputs": []
    },
    {
      "cell_type": "code",
      "source": [
        "# Elimina carreiras fora do escopo\n",
        "foraEscopo = base_carreira.loc[(base_carreira['CARREIRA'] == 'FORA DO ESCOPO')].copy()\n",
        "\n",
        "# Cria uma base eliminando carreiras fora do escopo\n",
        "base_carreira = base_carreira[base_carreira.CARREIRA != 'FORA DO ESCOPO']"
      ],
      "metadata": {
        "id": "PX0DExlaZzJj"
      },
      "execution_count": 19,
      "outputs": []
    },
    {
      "cell_type": "code",
      "source": [
        "base_consolidada = base_carreira.drop('CARREIRA', axis=1).copy()"
      ],
      "metadata": {
        "id": "5vqSie_7aLYT"
      },
      "execution_count": 20,
      "outputs": []
    },
    {
      "cell_type": "code",
      "source": [
        "# Gerando a planilha ResultadoRevisao\n",
        "now = datetime.now()\n",
        "\n",
        "# Usando o ExcelWriter, cria um doc .xlsx, usando engine='xlsxwriter'\n",
        "now = datetime.now()\n",
        "Resultado = f\"02 LISTA_SEI_PROFESSORES_CONSOLIDADA{now.strftime('%Y-%m-%d %H:%M:%S')}.xlsx\"\n",
        "writer = pd.ExcelWriter(Resultado, engine='xlsxwriter')\n",
        "\n",
        "# Armazena cada df em uma planilha diferente do mesmo arquivo\n",
        "base_consolidada.to_excel(writer, sheet_name='CONSOLIDADA', index = False)\n",
        "foraEscopo.to_excel(writer, sheet_name='CARREIRA_FORA_DO_ESCOPO', index = False)\n",
        "\n",
        "\n",
        "# Definir formato, filtros e cabeçalho para cada planilha\n",
        "for sheet_name in ['CONSOLIDADA','CARREIRA_FORA_DO_ESCOPO']:\n",
        "    worksheet = writer.sheets[sheet_name]\n",
        "  \n",
        "    # Definir o formato de célula centralizado\n",
        "    cell_format   = (\n",
        "        writer\n",
        "        .book\n",
        "        .add_format(\n",
        "            {'align': 'center',\n",
        "             'valign': 'center'}\n",
        "             )\n",
        "        )\n",
        "    \n",
        "    header_format = (\n",
        "        writer\n",
        "        .book\n",
        "        .add_format(\n",
        "            {'bold': True,\n",
        "             'bg_color': '#0070C0',\n",
        "             'color': 'white',\n",
        "             'align': 'center',\n",
        "             'valign': 'center'}\n",
        "             )\n",
        "        )\n",
        "    \n",
        "    worksheet.set_column(0, 0, options={'hidden': True})\n",
        "\n",
        "    # Aplicar o formato de célula centralizado às colunas da planilha\n",
        "    num_cols = len(base_consolidada.columns)\n",
        "    num_rows = len(base_consolidada)\n",
        "\n",
        "    # Ajustar a largura da coluna de modo a mostrar todo o texto\n",
        "    for col_num in range(len(base_consolidada.columns)):\n",
        "        col_width = (\n",
        "            base_consolidada\n",
        "            .iloc[:, col_num]\n",
        "            .astype(str)\n",
        "            .str\n",
        "            .len()\n",
        "            .max()\n",
        "            )\n",
        "        \n",
        "        worksheet.set_column(col_num, col_num, col_width, cell_format)\n",
        "\n",
        "    for row_num in range(num_rows):\n",
        "        worksheet.set_row(row_num, None, cell_format)\n",
        "\n",
        "    # Adicionar filtros às colunas da planilha\n",
        "    worksheet.autofilter(0, 0, num_rows - 1, num_cols - 1)\n",
        "\n",
        "    # Congelar a primeira linha\n",
        "    worksheet.freeze_panes(1, 0)\n",
        "    \n",
        "    # # Definir a cor azul para os nomes das colunas\n",
        "    for col_num, value in enumerate(base_consolidada.columns):\n",
        "        worksheet.write(0, col_num, value, header_format)\n",
        "\n",
        "\n",
        "# Salve o arquivo\n",
        "writer.save()"
      ],
      "metadata": {
        "id": "Q_5-A4x3x2VW"
      },
      "execution_count": 21,
      "outputs": []
    },
    {
      "cell_type": "markdown",
      "source": [
        "Aqui é feita a conferência com Dados Funcionais.xlsx `DadosMixSei.ipynb`\n",
        "\n",
        "---\n",
        "\n",
        "\n",
        "\n",
        "---\n",
        "\n"
      ],
      "metadata": {
        "id": "fzUyT_Owe3MK"
      }
    },
    {
      "cell_type": "code",
      "execution_count": 22,
      "metadata": {
        "id": "GASZDqNtfH9Q"
      },
      "outputs": [],
      "source": [
        "# Cria a base_funcionais com os dados de Dados Funcionais v15.02.xlsx\n",
        "base_funcionais = pd.read_excel('/content/Dados Funcionais v15.02.xlsx')"
      ]
    },
    {
      "cell_type": "code",
      "source": [
        "# Altera o nome da coluna \"Siape\" para \"SIAPE\", dessa forma o nome ficará igual entre a base_funcionais e base_consolidada\n",
        "base_funcionais = base_funcionais.rename(\n",
        "    columns = {'Siape':'SIAPE'}\n",
        "    )"
      ],
      "metadata": {
        "id": "UFgzoboADM4Z"
      },
      "execution_count": 23,
      "outputs": []
    },
    {
      "cell_type": "code",
      "execution_count": 24,
      "metadata": {
        "id": "qIdh-t8lfH9Q"
      },
      "outputs": [],
      "source": [
        "base_funcionais['IT-DA-OCOR-INATIVIDADE-SERV'] = pd.to_datetime(base_funcionais['IT-DA-OCOR-INATIVIDADE-SERV'], errors=\"coerce\")\n",
        "base_funcionais['IT-DA-OBITO']       = pd.to_datetime(base_funcionais['IT-DA-OBITO'], errors=\"coerce\")"
      ]
    },
    {
      "cell_type": "code",
      "execution_count": 25,
      "metadata": {
        "id": "RQTRvM7AfH9Q"
      },
      "outputs": [],
      "source": [
        "# Junta as planilhas basedf e baserq pra identificar correspondência de SIAPE\n",
        "consolidadeMixFuncionais = base_consolidada.merge(\n",
        "    base_funcionais, on=['SIAPE'], \n",
        "    how='outer', \n",
        "    suffixes=['_dados_funcionais', '_lista'], \n",
        "    indicator=True\n",
        "    )"
      ]
    },
    {
      "cell_type": "code",
      "source": [
        "# Renomeia a coluna _merge\n",
        "consolidadeMixFuncionais = consolidadeMixFuncionais.rename(\n",
        "    columns = {'_merge':'CONDIÇÃO'}\n",
        "    )\n",
        "\n",
        "# Renomeia as categorias da coluna condição\n",
        "consolidadeMixFuncionais['CONDIÇÃO'] = (\n",
        "   consolidadeMixFuncionais['CONDIÇÃO']\n",
        "   .cat\n",
        "   .rename_categories(\n",
        "       { 'right_only' :'Servidor_não_fez_requerimento',\n",
        "        'left_only'   :'Servidor_não_encontrado_em_Dados_Funcionais',\n",
        "        'both'        :'Servidor_encontrado_em_Dados_Funcionais'\n",
        "        })\n",
        "   ).copy()\n",
        "\n",
        "# Cria duas novas bases de servidor_não_enconcontrado e servidor_enconcontrado\n",
        "servidor_não_enconcontrado  =(\n",
        "    consolidadeMixFuncionais\n",
        "    .query('CONDIÇÃO == \"Servidor_não_encontrado_em_Dados_Funcionais\"')\n",
        "    .copy()\n",
        "    )\n",
        "servidor_enconcontrado      = (\n",
        "    consolidadeMixFuncionais\n",
        "    .query('CONDIÇÃO == \"Servidor_encontrado_em_Dados_Funcionais\"')\n",
        "    .copy()\n",
        "    )"
      ],
      "metadata": {
        "id": "PmQdEPXyfH9Q"
      },
      "execution_count": 49,
      "outputs": []
    },
    {
      "cell_type": "code",
      "source": [
        "# Gerando a planilha ResultadoRevisao\n",
        "now = datetime.now()\n",
        "\n",
        "# Usando o ExcelWriter, cria um doc .xlsx, usando engine='xlsxwriter'\n",
        "ResultadoRevisao = f\"03 Merge Lista e Dados - Resultado {now.strftime('%Y-%m-%d %H:%M:%S')}.xlsx\"\n",
        "writer = pd.ExcelWriter(ResultadoRevisao, engine='xlsxwriter')\n",
        "\n",
        "# Armazena cada df em uma planilha diferente do mesmo arquivo\n",
        "servidor_enconcontrado.to_excel(writer, sheet_name='ENCONTRADOS_DADOS_FUN', index= False)\n",
        "servidor_não_enconcontrado.to_excel(writer, sheet_name='NÃO_ENCONTRADOS_DADOS_FUN', index= False)\n",
        "\n",
        "\n",
        "# Definir formato, filtros e cabeçalho para cada planilha\n",
        "for sheet_name in ['ENCONTRADOS_DADOS_FUN', 'NÃO_ENCONTRADOS_DADOS_FUN']:\n",
        "    worksheet = writer.sheets[sheet_name]\n",
        "  \n",
        "    # Definir o formato de célula centralizado\n",
        "    cell_format   = (\n",
        "        writer\n",
        "        .book\n",
        "        .add_format(\n",
        "            {'align': 'center',\n",
        "             'valign': 'center'}\n",
        "             )\n",
        "        )\n",
        "    \n",
        "    header_format = (\n",
        "        writer\n",
        "        .book\n",
        "        .add_format(\n",
        "            {'bold': True,\n",
        "             'bg_color': '#0070C0',\n",
        "             'color': 'white',\n",
        "             'align': 'center',\n",
        "             'valign': 'center'}\n",
        "             )\n",
        "        )\n",
        "    \n",
        "    worksheet.set_column(0, 0, options={'hidden': True})\n",
        "\n",
        "    # Aplicar o formato de célula centralizado às colunas da planilha\n",
        "    num_cols = len(servidor_enconcontrado.columns)\n",
        "    num_rows = len(servidor_enconcontrado)\n",
        "\n",
        "    # Ajustar a largura da coluna de modo a mostrar todo o texto\n",
        "    for col_num in range(len(servidor_enconcontrado.columns)):\n",
        "        col_width = (\n",
        "            servidor_enconcontrado\n",
        "            .iloc[:, col_num]\n",
        "            .astype(str)\n",
        "            .str\n",
        "            .len()\n",
        "            .max()\n",
        "            )\n",
        "        \n",
        "        worksheet.set_column(col_num, col_num, col_width, cell_format)\n",
        "\n",
        "    for row_num in range(num_rows):\n",
        "        worksheet.set_row(row_num, None, cell_format)\n",
        "\n",
        "    # Adicionar filtros às colunas da planilha\n",
        "    worksheet.autofilter(0, 0, num_rows - 1, num_cols - 1)\n",
        "\n",
        "    # Congelar a primeira linha\n",
        "    worksheet.freeze_panes(1, 0)\n",
        "    \n",
        "    # # Definir a cor azul para os nomes das colunas\n",
        "    for col_num, value in enumerate(servidor_enconcontrado.columns):\n",
        "        worksheet.write(0, col_num, value, header_format)\n",
        "\n",
        "\n",
        "# Salve o arquivo\n",
        "writer.save()"
      ],
      "metadata": {
        "id": "P9MX2-NFfH9Q"
      },
      "execution_count": 28,
      "outputs": []
    },
    {
      "cell_type": "markdown",
      "source": [
        "\n",
        "\n",
        "---\n",
        "\n",
        "\n",
        "\n",
        "---\n",
        "\n",
        "\n",
        "\n",
        "---\n",
        "\n"
      ],
      "metadata": {
        "id": "WWhzRLDNSijY"
      }
    },
    {
      "cell_type": "code",
      "execution_count": 50,
      "metadata": {
        "id": "qFDoVJSRaBYZ"
      },
      "outputs": [],
      "source": [
        "base_servidor_enconcontrado = servidor_enconcontrado.copy()"
      ]
    },
    {
      "cell_type": "code",
      "source": [
        "# Renomeia as colunas sem underline\n",
        "base_servidor_enconcontrado = base_servidor_enconcontrado.rename(\n",
        "    columns = {\n",
        "        'DATA DO REQUERIMENTO':'DATA_DO_REQUERIMENTO',\n",
        "        'PROCESSO SEI':'PROCESSO_SEI',\n",
        "        'IT-DA-OCOR-EXCLUSAO-SERV':'DATA_EXCLUSÃO',\n",
        "        'Cad Ativo/Excluído':'SITUAÇÃO_CADASTRO',\n",
        "        'IT-DA-OBITO':'OBITO',\n",
        "        'IT-DA-OCOR-INATIVIDADE-SERV':'INATIVIDADE',\n",
        "        'IT-CO-SITUACAO-SERVIDOR':'SITUAÇÃO',\n",
        "        'IT-CO-OCOR-EXCLUSAO':'EXCLUSÃO'\n",
        "        }\n",
        "    )"
      ],
      "metadata": {
        "id": "eoYBNB__VY-8"
      },
      "execution_count": 52,
      "outputs": []
    },
    {
      "cell_type": "code",
      "source": [
        "#Mudando o tipo de veriavel para datetime\n",
        "base_servidor_enconcontrado['INATIVIDADE']           = pd.to_datetime(base_servidor_enconcontrado['INATIVIDADE'], errors=\"coerce\")\n",
        "base_servidor_enconcontrado['OBITO']                 = pd.to_datetime(base_servidor_enconcontrado['OBITO'], errors=\"coerce\")\n",
        "base_servidor_enconcontrado['DATA_DO_REQUERIMENTO']  = pd.to_datetime(base_servidor_enconcontrado['DATA_DO_REQUERIMENTO'], errors=\"coerce\")\n",
        "\n",
        "#Subtrai 5 anos da Data Requerimento\n",
        "base_servidor_enconcontrado['DR5'] = base_servidor_enconcontrado['DATA_DO_REQUERIMENTO'] - timedelta(days=1825)"
      ],
      "metadata": {
        "id": "x7h48SDckQwf"
      },
      "execution_count": 54,
      "outputs": []
    },
    {
      "cell_type": "code",
      "source": [
        "# Requerimento antes da aposentadoria ou obito\n",
        "base_servidor_enconcontrado.loc[(base_servidor_enconcontrado['DATA_DO_REQUERIMENTO'] < base_servidor_enconcontrado['INATIVIDADE']) | (base_servidor_enconcontrado['DATA_DO_REQUERIMENTO'] < base_servidor_enconcontrado['OBITO']), 'DRstatus'] ='01 - ATIVO PERMANENTE ou 08 - ATIVO EM OUTRO ORGAO'\n",
        "base_servidor_enconcontrado.loc[(base_servidor_enconcontrado['DATA_DO_REQUERIMENTO'] > base_servidor_enconcontrado['INATIVIDADE']) | (base_servidor_enconcontrado['DATA_DO_REQUERIMENTO'] > base_servidor_enconcontrado['OBITO']), 'DRstatus'] ='02 – APOSENTADO ou 15 - INSTITUIDOR PENSAO'\n",
        "base_servidor_enconcontrado.loc[(base_servidor_enconcontrado['DR5'] < base_servidor_enconcontrado['INATIVIDADE']) | (base_servidor_enconcontrado['DR5'] < base_servidor_enconcontrado['OBITO']), 'DR5status'] ='01 - ATIVO PERMANENTE ou 08 - ATIVO EM OUTRO ORGAO'\n",
        "base_servidor_enconcontrado.loc[(base_servidor_enconcontrado['DR5'] > base_servidor_enconcontrado['INATIVIDADE']) | (base_servidor_enconcontrado['DR5'] > base_servidor_enconcontrado['OBITO']), 'DR5status'] ='02 – APOSENTADO ou 15 - INSTITUIDOR PENSAO'\n",
        "\n",
        "# Situação após o filtro de intervalo de cobertura\n",
        "base_servidor_enconcontrado.loc[(base_servidor_enconcontrado['SITUAÇÃO'] == '01 - ATIVO PERMANENTE'), 'RESULTADO'] ='ANÁLISE'\n",
        "base_servidor_enconcontrado.loc[(base_servidor_enconcontrado['DRstatus'] == '02 – APOSENTADO ou 15 - INSTITUIDOR PENSAO') & (base_servidor_enconcontrado['DR5status']         == '02 – APOSENTADO ou 15 - INSTITUIDOR PENSAO'), 'RESULTADO'] ='INDEFERIDO'\n",
        "base_servidor_enconcontrado.loc[(base_servidor_enconcontrado['DRstatus'] == '02 – APOSENTADO ou 15 - INSTITUIDOR PENSAO') & (base_servidor_enconcontrado['DR5status']         == '01 - ATIVO PERMANENTE ou 08 - ATIVO EM OUTRO ORGAO'), 'RESULTADO'] ='A DECIDIR'\n",
        "base_servidor_enconcontrado.loc[(base_servidor_enconcontrado['DRstatus'] == '01 - ATIVO PERMANENTE ou 08 - ATIVO EM OUTRO ORGAO') & (base_servidor_enconcontrado['DR5status']  == '01 - ATIVO PERMANENTE ou 08 - ATIVO EM OUTRO ORGAO'), 'RESULTADO'] ='ANÁLISE'"
      ],
      "metadata": {
        "id": "VblfVuAPcgBD"
      },
      "execution_count": 55,
      "outputs": []
    },
    {
      "cell_type": "code",
      "source": [
        "colunas_conv_data = ['DATA_DO_REQUERIMENTO', \n",
        "                     'OBITO',\n",
        "                     'INATIVIDADE',\n",
        "                     'DATA_EXCLUSÃO',\n",
        "                     'DR5']       \n",
        "\n",
        "#Substituindo\n",
        "for coluna in colunas_conv_data:\n",
        "  base_servidor_enconcontrado[coluna] = pd.to_datetime(base_servidor_enconcontrado[coluna]).dt.strftime('%d/%m/%Y')"
      ],
      "metadata": {
        "id": "7s8LgWnFynaw"
      },
      "execution_count": 56,
      "outputs": []
    },
    {
      "cell_type": "code",
      "source": [
        "colunas_manter = ['RESULTADO',\n",
        "                  'PROCESSO_SEI',\n",
        "                  'ESTADO', \n",
        "                  'DATA_DO_REQUERIMENTO', \n",
        "                  'SIAPE', \n",
        "                  'INTERESSADO',\n",
        "                  'CPF',\n",
        "                  'SERVIDOR',\n",
        "                  'CARGO',\n",
        "                  'LISTA',\n",
        "                  'SITUAÇÃO',\n",
        "                  'OBITO', \n",
        "                  'INATIVIDADE',\n",
        "                  'EXCLUSÃO',\n",
        "                  'DATA_EXCLUSÃO',\n",
        "                  'SITUAÇÃO_CADASTRO',\n",
        "                  'DR5',\n",
        "                  'DRstatus',\n",
        "                  'DR5status']              \t\t\t\t\t\t\t\t\t\t\t \t\t\t\t\n",
        "\n",
        "# Exclusão das colunas que não estão na lista\n",
        "base = base_servidor_enconcontrado[colunas_manter].copy()"
      ],
      "metadata": {
        "id": "TsryIAElZnru"
      },
      "execution_count": 57,
      "outputs": []
    },
    {
      "cell_type": "code",
      "source": [
        "# base_resumo = pd.concat([baseC, baseE, baseI, baseD], ignore_index=True)\n",
        "resultado = base['SITUAÇÃO_CADASTRO'].value_counts().reset_index()\n",
        "resultado.columns = [\"SITUAÇÃO_CADASTRO_GERAL\", \"Quantidade\"]\n"
      ],
      "metadata": {
        "id": "2ueJxVPN5eLW"
      },
      "execution_count": 58,
      "outputs": []
    },
    {
      "cell_type": "code",
      "source": [
        "resultado_cad_ativo = (\n",
        "    base\n",
        "    .query('SITUAÇÃO_CADASTRO == \"Cad Ativo\" | SITUAÇÃO_CADASTRO == \"Cad Ativo Inst\"')\n",
        "    .copy()\n",
        "    )\n",
        "\n",
        "resultado_cad_excluido = (\n",
        "    base\n",
        "    .query('SITUAÇÃO_CADASTRO == \"Cad Excluído\" | SITUAÇÃO_CADASTRO == \"Cad Excluído Inst\"')\n",
        "    .copy()\n",
        "    )\n"
      ],
      "metadata": {
        "id": "mYYepVIyle-r"
      },
      "execution_count": 59,
      "outputs": []
    },
    {
      "cell_type": "code",
      "source": [
        "resultado_analise = baseAnalise  =(\n",
        "    base\n",
        "    .query('RESULTADO == \"ANÁLISE\"')\n",
        "    .copy()\n",
        "    )\n",
        "resultado_indeferido = baseIdeferido  =(\n",
        "    base\n",
        "    .query('RESULTADO == \"INDEFERIDO\"')\n",
        "    .copy()\n",
        "    )\n",
        "\n",
        "resultado_decidrir = baseADecidir  =(\n",
        "    base\n",
        "    .query('RESULTADO == \"A DECIDIR\"')\n",
        "    .copy()\n",
        "    )\n",
        "\n",
        "resultado_faltou = baseFaltou  =(\n",
        "    base\n",
        "    .query('RESULTADO != \"ANÁLISE\" & RESULTADO != \"INDEFERIDO\" & RESULTADO != \"A DECIDIR\"')\n",
        "    .copy()\n",
        "    )\n"
      ],
      "metadata": {
        "id": "XKp8S4E9kmpj"
      },
      "execution_count": 60,
      "outputs": []
    },
    {
      "cell_type": "code",
      "source": [
        "resultado2 = baseAnalise['SITUAÇÃO_CADASTRO'].value_counts().reset_index()\n",
        "resultado2.columns = [\"Análise\", \"Quantidade\"]\n",
        "\n",
        "resultado3 = baseIdeferido['SITUAÇÃO_CADASTRO'].value_counts().reset_index()\n",
        "resultado3.columns = [\"Ideferidos\", \"Quantidade\"]\n",
        "\n",
        "resultado4 = baseADecidir['SITUAÇÃO_CADASTRO'].value_counts().reset_index()\n",
        "resultado4.columns = [\"A Decidir\", \"Quantidade\"]\n",
        "\n",
        "resultado5 = resultado_faltou['ESTADO'].value_counts().reset_index()\n",
        "resultado5.columns = [\"Faltaram\", \"Quantidade\"]\n",
        "\n",
        "resultados = [resultado, resultado2, resultado3, resultado4, resultado5]\n",
        "\n",
        "Resumo_de_resultados = pd.concat(resultados, axis=1)"
      ],
      "metadata": {
        "id": "2HSKMNt85_l_"
      },
      "execution_count": 61,
      "outputs": []
    },
    {
      "cell_type": "code",
      "source": [
        "# # Criar um arquivo Excel com ExcelWriter, usando a engine='xlsxwriter'\n",
        "now = datetime.now()\n",
        "ResultadoPreliminar = f\"04 Análise Preliminar - Resultado {now.strftime('%Y-%m-%d %H:%M:%S')}.xlsx\"\n",
        "writer = pd.ExcelWriter(ResultadoPreliminar, engine='xlsxwriter')\n",
        "\n",
        "# Escreva os dataframes no arquivo Excel\n",
        "baseAnalise.to_excel            (writer, sheet_name ='ANÁLISE_NIVEL_4'        , index=False)\n",
        "baseIdeferido.to_excel          (writer, sheet_name ='INDEFERIDO_NIVEL_4'     , index=False)\n",
        "baseADecidir.to_excel           (writer, sheet_name ='DECIDIR_NIVEL_4'        , index=False)\n",
        "resultado_cad_ativo.to_excel    (writer, sheet_name ='CAD_ATIVO_NIVEL_3'      , index=False)\n",
        "resultado_cad_excluido.to_excel (writer, sheet_name ='CAD_EXCLUÍDO_NIVEL_3'   , index=False)\n",
        "resultado_faltou.to_excel       (writer, sheet_name ='NÃO_ENCONTRADOS', index=False)\n",
        "\n",
        "Resumo_de_resultados.to_excel(writer, sheet_name ='RESUMO', index=False)\n",
        "\n",
        "cell_format   = writer.book.add_format({'align': 'center', 'valign': 'center'})\n",
        "for row_num in range(len(Resumo_de_resultados)):\n",
        "    writer.sheets['RESUMO'].set_row(row_num, None, cell_format)\n",
        "\n",
        "for col_num in range(len(Resumo_de_resultados.columns)):\n",
        "    col_width = Resumo_de_resultados.iloc[:, col_num].astype(str).str.len().max()\n",
        "    writer.sheets['RESUMO'].set_column(col_num, col_num, col_width, cell_format)\n",
        "\n",
        "# Definir formato, filtros e cabeçalho para cada planilha\n",
        "for sheet_name in ['ANÁLISE_NIVEL_4', 'INDEFERIDO_NIVEL_4', 'DECIDIR_NIVEL_4', 'NÃO_ENCONTRADOS', 'CAD_ATIVO_NIVEL_3', 'CAD_EXCLUÍDO_NIVEL_3']:\n",
        "    worksheet = writer.sheets[sheet_name]\n",
        "  \n",
        "    # Definir o formato de célula centralizado\n",
        "    header_format = writer.book.add_format({'bold': True, 'bg_color': '#0070C0', 'color': 'white', 'align': 'center', 'valign': 'center'})\n",
        "    worksheet.set_column(0, 0, options={'hidden': True})\n",
        "\n",
        "    # Aplicar o formato de célula centralizado às colunas da planilha\n",
        "    num_cols = len(baseAnalise.columns)\n",
        "    num_rows = len(baseAnalise)\n",
        "\n",
        "    # Ajustar a largura da coluna de modo a mostrar todo o texto\n",
        "    for col_num in range(len(baseAnalise.columns)):\n",
        "        col_width = baseAnalise.iloc[:, col_num].astype(str).str.len().max()\n",
        "        worksheet.set_column(col_num, col_num, col_width, cell_format)\n",
        "\n",
        "    for row_num in range(num_rows):\n",
        "        worksheet.set_row(row_num, None, cell_format)\n",
        "\n",
        "    # Adicionar filtros às colunas da planilha\n",
        "    worksheet.autofilter(0, 0, num_rows - 1, num_cols - 1)\n",
        "\n",
        "    # Congelar a primeira linha\n",
        "    worksheet.freeze_panes(1, 0)\n",
        "    \n",
        "    # # Definir a cor azul para os nomes das colunas\n",
        "    for col_num, value in enumerate(baseAnalise.columns):\n",
        "        worksheet.write(0, col_num, value, header_format)\n",
        "\n",
        "\n",
        "# Salve o arquivo\n",
        "writer.save()"
      ],
      "metadata": {
        "id": "UM316UNM0YmU"
      },
      "execution_count": 66,
      "outputs": []
    },
    {
      "cell_type": "markdown",
      "source": [
        "\n",
        "\n",
        "---\n",
        "\n",
        "\n",
        "\n",
        "---\n",
        "\n",
        "\n",
        "\n",
        "---\n",
        "\n"
      ],
      "metadata": {
        "id": "kRz-0ynFL_9B"
      }
    },
    {
      "cell_type": "code",
      "execution_count": 70,
      "metadata": {
        "id": "QlnV5HuhKopS"
      },
      "outputs": [],
      "source": [
        "base  = pd.read_excel('/content/CACOPOSPRO V15.02.xlsx')\n",
        "base_analise = baseAnalise.copy()\n"
      ]
    },
    {
      "cell_type": "code",
      "source": [
        "base.info()"
      ],
      "metadata": {
        "colab": {
          "base_uri": "https://localhost:8080/"
        },
        "id": "PDPx97OPNBxE",
        "outputId": "d569aab4-4865-4ddc-dcbc-69abe32d195d"
      },
      "execution_count": 71,
      "outputs": [
        {
          "output_type": "stream",
          "name": "stdout",
          "text": [
            "<class 'pandas.core.frame.DataFrame'>\n",
            "RangeIndex: 72908 entries, 0 to 72907\n",
            "Data columns (total 12 columns):\n",
            " #   Column            Non-Null Count  Dtype \n",
            "---  ------            --------------  ----- \n",
            " 0   Órgão             72908 non-null  int64 \n",
            " 1   SIAPE             72908 non-null  int64 \n",
            " 2   CPF               72908 non-null  int64 \n",
            " 3   SiapeCad          72908 non-null  int64 \n",
            " 4   Nome              72908 non-null  object\n",
            " 5   Cargo             72908 non-null  object\n",
            " 6   Cargo Inicial     71755 non-null  object\n",
            " 7   Cargo Final       63151 non-null  object\n",
            " 8   Posicionamento    49742 non-null  object\n",
            " 9   Vigencia Inicial  49742 non-null  object\n",
            " 10  Vigencia Final    48295 non-null  object\n",
            " 11  Vigencia Status   49742 non-null  object\n",
            "dtypes: int64(4), object(8)\n",
            "memory usage: 6.7+ MB\n"
          ]
        }
      ]
    },
    {
      "cell_type": "code",
      "source": [
        "# Renomeia as colunas sem underline\n",
        "base = base.rename(\n",
        "    columns = {\n",
        "        'Vigencia Final':'VIGENCIA_FINAL',\n",
        "        'Vigencia Inicial':'VIGENCIA_INICIAL'\n",
        "        }\n",
        "    )"
      ],
      "metadata": {
        "id": "iQcvPKMXqnRB"
      },
      "execution_count": 72,
      "outputs": []
    },
    {
      "cell_type": "markdown",
      "source": [
        "Redefinição de tipos das variáveis."
      ],
      "metadata": {
        "id": "Mf3HkP4rAEMz"
      }
    },
    {
      "cell_type": "code",
      "source": [
        "colunas_conv_data_base = ['VIGENCIA_INICIAL', \n",
        "                          'VIGENCIA_FINAL']\n",
        "\n",
        "colunas_conv_data_base2 = ['DATA_DO_REQUERIMENTO',\n",
        "                          'OBITO',\n",
        "                          'INATIVIDADE',\n",
        "                          'DATA_EXCLUSÃO',\n",
        "                          'DR5']       \n",
        "\n",
        "#Substituindo\n",
        "for coluna in colunas_conv_data_base2:\n",
        "  base_analise[coluna] = pd.to_datetime(base_analise[coluna], errors=\"coerce\")\n",
        "\n",
        "#Substituindo\n",
        "for coluna in colunas_conv_data_base:\n",
        "  base[coluna] = pd.to_datetime(base[coluna], errors=\"coerce\")"
      ],
      "metadata": {
        "id": "NNsGoQ4PkccE"
      },
      "execution_count": 73,
      "outputs": []
    },
    {
      "cell_type": "markdown",
      "source": [
        "Filtrando SIAPEs presentes em CACOPOSPRO e baseAnalise"
      ],
      "metadata": {
        "id": "1PG0YwzlALEQ"
      }
    },
    {
      "cell_type": "code",
      "source": [
        "#Merge entre a base e base2\n",
        "servEncontradosCaco = base.merge(\n",
        "    base_analise, on=['SIAPE'], \n",
        "    # how='outer',\n",
        "    how='inner',\n",
        "    suffixes=['', '_'], \n",
        "    indicator=True\n",
        "    )\n",
        "\n",
        "#Calculando a diferença entre a VIGENCIA INICIAL do CNR e a DATA DO REQUERIMENTO em dias\n",
        "servEncontradosCaco['DiasDiffDR'] = (servEncontradosCaco['VIGENCIA_INICIAL'] - servEncontradosCaco['DATA_DO_REQUERIMENTO']).dt.days.abs()\n",
        "\n",
        "#Ordena por SIAPE a diferença de dias\n",
        "servEncontradosCacoDR = servEncontradosCaco.sort_values(by=['SIAPE', 'DiasDiffDR'])\n",
        "servEncontradosCacoDR = servEncontradosCacoDR.groupby('SIAPE').first().reset_index()\n",
        "\n",
        "#Renomeia as colunas para evitar conflitos no merge\n",
        "servEncontradosCacoDR = servEncontradosCacoDR.rename(\n",
        "    columns = {'Posicionamento':'NivelEmDR'}\n",
        "    )\n",
        "servEncontradosCaco = servEncontradosCaco.rename(\n",
        "    columns = {'_merge':'MergeGeral'}\n",
        "    )\n",
        "servEncontradosCacoDR = servEncontradosCacoDR.rename(\n",
        "    columns = {'_merge':'MergeDR'}\n",
        "    )\n",
        "\n",
        "servEncontradosCaco = servEncontradosCaco.rename(\n",
        "    columns = {'Posicionamento':'NIVEL_POR_DATA'}\n",
        "    )\n",
        "\n",
        "#Merge entre servEncontradosCaco e servEncontradosCacoDR para identificar o CNR em DR nas proximas etapas do script\n",
        "servEncontradosCaco = servEncontradosCaco.merge(\n",
        "    servEncontradosCacoDR, on=['SIAPE'], \n",
        "    # how='outer',\n",
        "    how='inner',\n",
        "    suffixes=['', '_'], \n",
        "    indicator=True\n",
        "    )\n"
      ],
      "metadata": {
        "id": "I2QHH_xBDsd4"
      },
      "execution_count": 79,
      "outputs": []
    },
    {
      "cell_type": "code",
      "source": [
        "# Dicionário com as informações de mudança\n",
        "substituicoesCodNivel = { '709-NS-D-101': 1, '707-NS-D-101': 1, \n",
        "                          '709-NS-D-102': 2, '707-NS-D-102': 2, \n",
        "                          '709-NS-D-201': 3, '707-NS-D-201': 3, \n",
        "                          '709-NS-D-202': 4, '707-NS-D-202': 4, \n",
        "                          '709-NS-D-301': 5, '707-NS-D-301': 5, \n",
        "                          '709-NS-D-302': 6, '707-NS-D-302': 6, \n",
        "                          '709-NS-D-303': 7, '707-NS-D-303': 7, \n",
        "                          '709-NS-D-304': 8, '707-NS-D-304': 8, \n",
        "                          '709-NS-D-401': 9, '707-NS-D-401': 9,\n",
        "                          '709-NS-D-402':10, '707-NS-D-402': 10, \n",
        "                          '709-NS-D-403':11, '707-NS-D-403': 11, \n",
        "                          '709-NS-D-404':12, '707-NS-D-404': 12,\n",
        "                          '704-NS-D-101': 1, '702-NA-D-101': 1, \n",
        "                          '704-NS-D-102': 2, '702-NA-D-102': 2, \n",
        "                          '704-NS-D-201': 3, '702-NA-D-201': 3,\n",
        "                          '704-NS-D-202': 4, '702-NA-D-202': 4, \n",
        "                          '704-NS-D-301': 5, '702-NA-D-301': 5, \n",
        "                          '704-NS-D-302': 6, '702-NA-D-302': 6,\n",
        "                          '704-NS-D-303': 7, '702-NA-D-303': 7, \n",
        "                          '704-NS-D-304': 8, '702-NA-D-304': 8,\n",
        "                          '704-NS-D-401': 9, '702-NA-D-401': 9, \n",
        "                          '704-NS-D-402':10, '702-NA-D-402':10,\n",
        "                          '704-NS-D-403':11, '702-NA-D-403':11, \n",
        "                          '704-NS-D-404':12, '702-NA-D-404':12}\n",
        "\n",
        "#Substituindo\n",
        "for valor_antigo, valor_novo in substituicoesCodNivel.items():\n",
        "    servEncontradosCaco.loc[servEncontradosCaco['NivelEmDR'] == valor_antigo, 'COD_NIVELDR'] = valor_novo\n",
        "\n",
        "# display(servEncontradosCaco)"
      ],
      "metadata": {
        "id": "8PSLmnPo84pS"
      },
      "execution_count": 80,
      "outputs": []
    },
    {
      "cell_type": "code",
      "source": [
        "servEncontradosCaco.loc[\n",
        "    (servEncontradosCaco['VIGENCIA_INICIAL_'] > servEncontradosCaco['DATA_DO_REQUERIMENTO']), 'COD_NIVELDR'] = servEncontradosCaco['COD_NIVELDR'] - 1"
      ],
      "metadata": {
        "id": "nntao3GhrgZ1"
      },
      "execution_count": 81,
      "outputs": []
    },
    {
      "cell_type": "code",
      "source": [
        "# Dicionário com as informações de mudança\n",
        "substituicoesCodNivel = { 1:101,  2:102, \n",
        "                          3:201,  4:202, \n",
        "                          5:301,  6:302, \n",
        "                          7:303,  8:304, \n",
        "                          9:401,  10:402, \n",
        "                          11:403, 12:404}\n",
        "\n",
        "#Substituindo\n",
        "for valor_antigo, valor_novo in substituicoesCodNivel.items():\n",
        "    servEncontradosCaco.loc[servEncontradosCaco['COD_NIVELDR'] == valor_antigo, 'NIVEL_DR'] = valor_novo\n",
        "\n",
        "# display(servEncontradosCaco)"
      ],
      "metadata": {
        "id": "0IBDoX7mHd5u"
      },
      "execution_count": 82,
      "outputs": []
    },
    {
      "cell_type": "markdown",
      "source": [
        "Calculando a diferença entre DR5 e as datas de VIGENCIA INICIAL de cada Código de Carreira e Classe, por servidor. \n",
        "\n",
        "Em seguida, uma nova base é criada filtrada com a data e o Código de Carreira e Classe de cada servidor."
      ],
      "metadata": {
        "id": "aVaEACTUAfQq"
      }
    },
    {
      "cell_type": "code",
      "source": [
        "servEncontradosCaco['DiasDiff'] = (servEncontradosCaco['VIGENCIA_INICIAL'] - servEncontradosCaco['DR5']).dt.days.abs()\n",
        "\n",
        "servEncontradosCaco = servEncontradosCaco.sort_values(by=['Nome', 'DiasDiff'])\n",
        "servEncontradosCaco = servEncontradosCaco.groupby('Nome').first().reset_index()"
      ],
      "metadata": {
        "id": "tVJJlpCQp6Fg"
      },
      "execution_count": 84,
      "outputs": []
    },
    {
      "cell_type": "markdown",
      "source": [
        "Calculando (DTPi - DR5), para identificar o valor da diferença e filtrar a decisão."
      ],
      "metadata": {
        "id": "78PPqpGbBN6k"
      }
    },
    {
      "cell_type": "code",
      "source": [
        "servEncontradosCaco.loc[\n",
        "    ((servEncontradosCaco['VIGENCIA_INICIAL'].dt.year - servEncontradosCaco['DR5'].dt.year <= 1) \n",
        "    & ((servEncontradosCaco['Cargo'] == '709001 PROFESSOR DO ENSINO BASICO EX-TERRITORIO')\n",
        "    |(servEncontradosCaco['Cargo'] == '704001 PROFESSOR DO ENSINO BASICO EX-TERRITORIO'))), 'REGRA'] = 'EBF <= 1'\n",
        "\n",
        "servEncontradosCaco.loc[\n",
        "    ((servEncontradosCaco['VIGENCIA_INICIAL'].dt.year - servEncontradosCaco['DR5'].dt.year > 1) \n",
        "    & ((servEncontradosCaco['Cargo'] == '709001 PROFESSOR DO ENSINO BASICO EX-TERRITORIO')\n",
        "    |(servEncontradosCaco['Cargo'] == '704001 PROFESSOR DO ENSINO BASICO EX-TERRITORIO'))), 'REGRA'] = 'EBF > 1' \n",
        "\n",
        "servEncontradosCaco.loc[\n",
        "     ((servEncontradosCaco['VIGENCIA_INICIAL'].dt.year - servEncontradosCaco['DR5'].dt.year <= 1) \n",
        "     & ((servEncontradosCaco['Cargo'] == '707001 PROFESSOR ENS BASICO TECN TECNOL')\n",
        "     |(servEncontradosCaco['Cargo'] == '702001 PROF DO ENSINO BASICO TEC,TECNOLOGICO'))), 'REGRA'] = 'EBTT <= 1'\n",
        "\n",
        "servEncontradosCaco.loc[\n",
        "     ((servEncontradosCaco['VIGENCIA_INICIAL'].dt.year - servEncontradosCaco['DR5'].dt.year > 1) \n",
        "     & ((servEncontradosCaco['Cargo'] == '707001 PROFESSOR ENS BASICO TECN TECNOL') \n",
        "     |(servEncontradosCaco['Cargo'] == '702001 PROF DO ENSINO BASICO TEC,TECNOLOGICO'))), 'REGRA'] = 'EBTT > 1'\n",
        "\n",
        "servEncontradosCaco.loc[\n",
        "     ((servEncontradosCaco['Cargo'] != '707001 PROFESSOR ENS BASICO TECN TECNOL') &\n",
        "      (servEncontradosCaco['Cargo'] != '702001 PROF DO ENSINO BASICO TEC,TECNOLOGICO') &\n",
        "      (servEncontradosCaco['Cargo'] != '709001 PROFESSOR DO ENSINO BASICO EX-TERRITORIO') &\n",
        "      (servEncontradosCaco['Cargo'] != '704001 PROFESSOR DO ENSINO BASICO EX-TERRITORIO')), 'REGRA'] = 'MUDANÇA DE CARREIRA'"
      ],
      "metadata": {
        "id": "GM931kxxEtaP"
      },
      "execution_count": 85,
      "outputs": []
    },
    {
      "cell_type": "code",
      "source": [
        "servEncontradosCacoDR.info()"
      ],
      "metadata": {
        "colab": {
          "base_uri": "https://localhost:8080/"
        },
        "id": "5074FcX8NbbZ",
        "outputId": "0b3f051c-426c-4d2e-d174-bb2196aff9e4"
      },
      "execution_count": 78,
      "outputs": [
        {
          "output_type": "stream",
          "name": "stdout",
          "text": [
            "<class 'pandas.core.frame.DataFrame'>\n",
            "RangeIndex: 1023 entries, 0 to 1022\n",
            "Data columns (total 32 columns):\n",
            " #   Column                Non-Null Count  Dtype         \n",
            "---  ------                --------------  -----         \n",
            " 0   SIAPE                 1023 non-null   int64         \n",
            " 1   Órgão                 1023 non-null   int64         \n",
            " 2   CPF                   1023 non-null   int64         \n",
            " 3   SiapeCad              1023 non-null   int64         \n",
            " 4   Nome                  1023 non-null   object        \n",
            " 5   Cargo                 1023 non-null   object        \n",
            " 6   Cargo Inicial         1023 non-null   object        \n",
            " 7   Cargo Final           1022 non-null   object        \n",
            " 8   Posicionamento        1023 non-null   object        \n",
            " 9   VIGENCIA_INICIAL      1021 non-null   datetime64[ns]\n",
            " 10  VIGENCIA_FINAL        1020 non-null   datetime64[ns]\n",
            " 11  Vigencia Status       1023 non-null   object        \n",
            " 12  RESULTADO             1023 non-null   object        \n",
            " 13  PROCESSO_SEI          1023 non-null   object        \n",
            " 14  ESTADO                1023 non-null   object        \n",
            " 15  DATA_DO_REQUERIMENTO  1023 non-null   datetime64[ns]\n",
            " 16  INTERESSADO           1023 non-null   object        \n",
            " 17  CPF_                  1023 non-null   float64       \n",
            " 18  SERVIDOR              1023 non-null   object        \n",
            " 19  CARGO                 1023 non-null   object        \n",
            " 20  LISTA                 1023 non-null   object        \n",
            " 21  SITUAÇÃO              1023 non-null   object        \n",
            " 22  OBITO                 18 non-null     datetime64[ns]\n",
            " 23  INATIVIDADE           171 non-null    datetime64[ns]\n",
            " 24  EXCLUSÃO              1022 non-null   object        \n",
            " 25  DATA_EXCLUSÃO         21 non-null     datetime64[ns]\n",
            " 26  SITUAÇÃO_CADASTRO     1023 non-null   object        \n",
            " 27  DR5                   1023 non-null   datetime64[ns]\n",
            " 28  DRstatus              186 non-null    object        \n",
            " 29  DR5status             186 non-null    object        \n",
            " 30  MergeDR               1023 non-null   category      \n",
            " 31  DiasDiffDR            1021 non-null   float64       \n",
            "dtypes: category(1), datetime64[ns](7), float64(2), int64(4), object(18)\n",
            "memory usage: 249.0+ KB\n"
          ]
        }
      ]
    },
    {
      "cell_type": "markdown",
      "source": [
        "Tabelas de conversão de Código de Carreira e Classe (object) para um código de valor entre 1 - 12 (inteiro), isso facilitará o incremento."
      ],
      "metadata": {
        "id": "-AiLJbGjB36y"
      }
    },
    {
      "cell_type": "code",
      "source": [
        "# Dicionário com as informações de mudança\n",
        "substituicoesCodNivel = { '709-NS-D-101': 1, '707-NS-D-101': 1, \n",
        "                          '709-NS-D-102': 2, '707-NS-D-102': 2, \n",
        "                          '709-NS-D-201': 3, '707-NS-D-201': 3, \n",
        "                          '709-NS-D-202': 4, '707-NS-D-202': 4, \n",
        "                          '709-NS-D-301': 5, '707-NS-D-301': 5, \n",
        "                          '709-NS-D-302': 6, '707-NS-D-302': 6, \n",
        "                          '709-NS-D-303': 7, '707-NS-D-303': 7, \n",
        "                          '709-NS-D-304': 8, '707-NS-D-304': 8, \n",
        "                          '709-NS-D-401': 9, '707-NS-D-401': 9,\n",
        "                          '709-NS-D-402':10, '707-NS-D-402': 10, \n",
        "                          '709-NS-D-403':11, '707-NS-D-403': 11, \n",
        "                          '709-NS-D-404':12, '707-NS-D-404': 12,\n",
        "                          '704-NS-D-101': 1, '702-NA-D-101': 1, \n",
        "                          '704-NS-D-102': 1, '702-NA-D-102': 1,\n",
        "                          '704-NS-D-103': 2, '702-NA-D-103': 2,\n",
        "                          '704-NS-D-104': 2, '702-NA-D-104': 2,      \n",
        "                          '704-NS-D-201': 3, '702-NA-D-201': 3,\n",
        "                          '704-NS-D-202': 3, '702-NA-D-202': 3, \n",
        "                          '704-NS-D-203': 4, '702-NA-D-203': 4,\n",
        "                          '704-NS-D-204': 4, '702-NA-D-204': 4, \n",
        "                          '704-NS-D-301': 5, '702-NA-D-301': 5, \n",
        "                          '704-NS-D-302': 6, '702-NA-D-302': 6,\n",
        "                          '704-NS-D-303': 7, '702-NA-D-303': 7, \n",
        "                          '704-NS-D-304': 8, '702-NA-D-304': 8,\n",
        "                          '704-NS-D-401': 9, '702-NA-D-401': 9, \n",
        "                          '704-NS-D-402':10, '702-NA-D-402':10,\n",
        "                          '704-NS-D-403':11, '702-NA-D-403':11, \n",
        "                          '704-NS-D-404':12, '702-NA-D-404':12}\n",
        "\n",
        "#Substituindo\n",
        "for valor_antigo, valor_novo in substituicoesCodNivel.items():\n",
        "    servEncontradosCaco.loc[servEncontradosCaco['NIVEL_POR_DATA'] == valor_antigo, 'COD_NIVEL_DR5'] = valor_novo\n",
        "\n",
        "# display(servEncontradosCaco)"
      ],
      "metadata": {
        "id": "F70U6jzuRIsL"
      },
      "execution_count": 86,
      "outputs": []
    },
    {
      "cell_type": "code",
      "source": [
        "servEncontradosCaco.loc[\n",
        "    ((servEncontradosCaco['VIGENCIA_INICIAL'] > servEncontradosCaco['DR5'])&(servEncontradosCaco['COD_NIVEL_DR5'] > 1)), 'COD_NIVEL_DR5'] = servEncontradosCaco['COD_NIVEL_DR5'] - 1"
      ],
      "metadata": {
        "id": "uKAmRN5kIM8F"
      },
      "execution_count": 87,
      "outputs": []
    },
    {
      "cell_type": "markdown",
      "source": [
        "Realização do incremento de acordo com o filtro da diferença entre DTPi - DR5.\n"
      ],
      "metadata": {
        "id": "h2eG9MsQCHYu"
      }
    },
    {
      "cell_type": "code",
      "source": [
        "servEncontradosCaco.loc[\n",
        "    (servEncontradosCaco['REGRA'] == 'EBF <= 1'), 'INCREMENTO_CNR'] = servEncontradosCaco['COD_NIVEL_DR5'] + 3\n",
        "servEncontradosCaco.loc[\n",
        "    (servEncontradosCaco['REGRA'] == 'EBF > 1'), 'INCREMENTO_CNR'] = servEncontradosCaco['COD_NIVEL_DR5'] + 4\n",
        "\n",
        "\n",
        "servEncontradosCaco.loc[\n",
        "    (servEncontradosCaco['REGRA'] == 'EBTT <= 1'), 'INCREMENTO_CNR'] = servEncontradosCaco['COD_NIVEL_DR5'] + 2\n",
        "servEncontradosCaco.loc[\n",
        "    (servEncontradosCaco['REGRA'] == 'EBTT > 1'), 'INCREMENTO_CNR'] = servEncontradosCaco['COD_NIVEL_DR5'] + 3"
      ],
      "metadata": {
        "id": "P_VYDDIOBbTB"
      },
      "execution_count": 88,
      "outputs": []
    },
    {
      "cell_type": "markdown",
      "source": [
        "Conversão do código de valores incrementados de acordo com a regra de diferença entre DTPi - DR5."
      ],
      "metadata": {
        "id": "FKFd51yoCf7i"
      }
    },
    {
      "cell_type": "code",
      "source": [
        "substituicoesCNR = { 1:101,  2:102, \n",
        "                     3:201,  4:202, \n",
        "                     5:301,  6:302, \n",
        "                     7:303,  8:304, \n",
        "                     9:401,  10:402, \n",
        "                     11:403}\n",
        "\n",
        "# Substituindo valores menores que 12\n",
        "for valor_antigo, valor_novo in substituicoesCNR.items():\n",
        "    servEncontradosCaco.loc[servEncontradosCaco['INCREMENTO_CNR'] == valor_antigo, 'CNR'] = valor_novo\n",
        "    \n",
        "# Substituindo valores iguais ou maiores que 12\n",
        "servEncontradosCaco.loc[servEncontradosCaco['INCREMENTO_CNR'] >= 12, 'CNR'] = 404\n",
        "\n",
        "# display(servEncontradosCaco)"
      ],
      "metadata": {
        "id": "bBX4uymhSfS6"
      },
      "execution_count": 89,
      "outputs": []
    },
    {
      "cell_type": "markdown",
      "source": [
        "Descrição do resultado da análise."
      ],
      "metadata": {
        "id": "-_Nj73OEELc8"
      }
    },
    {
      "cell_type": "code",
      "source": [
        "servEncontradosCaco.loc[\n",
        "    ((servEncontradosCaco['CNR'] < servEncontradosCaco['NIVEL_DR'])|\n",
        "     (servEncontradosCaco['CNR'] > servEncontradosCaco['NIVEL_DR'])|\n",
        "     (servEncontradosCaco['REGRA'] == 'MUDANÇA DE CARREIRA')), 'RESULTADO'] = 'A DECIDIR'\n",
        "servEncontradosCaco.loc[\n",
        "    (servEncontradosCaco['CNR'] == servEncontradosCaco['NIVEL_DR']), 'RESULTADO'] = 'INDEFERIDO'\n",
        "\n",
        "servEncontradosCaco.loc[\n",
        "    (servEncontradosCaco['CNR'] < servEncontradosCaco['NIVEL_DR']), 'CNRstatus'] = 'O CNR calculado é MENOR que o encontrado na Data do Requerimento'\n",
        "servEncontradosCaco.loc[\n",
        "    (servEncontradosCaco['CNR'] > servEncontradosCaco['NIVEL_DR']), 'CNRstatus'] = 'O CNR calculado é MAIOR que o encontrado na Data do Requerimento'\n",
        "servEncontradosCaco.loc[\n",
        "    (servEncontradosCaco['CNR'] == servEncontradosCaco['NIVEL_DR']), 'CNRstatus'] = 'O CNR calculado é IGUAL ao encontrado na Data do Requerimento'"
      ],
      "metadata": {
        "id": "ChxTXNOzBYAk"
      },
      "execution_count": 90,
      "outputs": []
    },
    {
      "cell_type": "code",
      "source": [
        "colunas_conv_data = ['DATA_DO_REQUERIMENTO', \n",
        "                     'VIGENCIA_INICIAL', \n",
        "                     'VIGENCIA_FINAL',\n",
        "                     'OBITO',\n",
        "                     'INATIVIDADE',\n",
        "                     'DATA_EXCLUSÃO']       \n",
        "\n",
        "#Substituindo\n",
        "for coluna in colunas_conv_data:\n",
        "  servEncontradosCaco[coluna] = pd.to_datetime(servEncontradosCaco[coluna]).dt.strftime('%d/%m/%Y')"
      ],
      "metadata": {
        "id": "cLIu_aEmWvLC"
      },
      "execution_count": 91,
      "outputs": []
    },
    {
      "cell_type": "markdown",
      "source": [
        "Geração do xlsx com os resultados."
      ],
      "metadata": {
        "id": "N_Aig2BwEnUN"
      }
    },
    {
      "cell_type": "code",
      "source": [
        "# Lista de colunas para manter\n",
        "colunas_manter = ['RESULTADO',  \n",
        "                  'PROCESSO_SEI', \n",
        "                  'DATA_DO_REQUERIMENTO', \n",
        "                  'SIAPE', \n",
        "                  'INTERESSADO',\n",
        "                  'NIVEL_POR_DATA',\n",
        "                  'VIGENCIA_INICIAL',\n",
        "                  'VIGENCIA_FINAL',\n",
        "                  'SITUAÇÃO',\n",
        "                  'LISTA',\n",
        "                  'SERVIDOR',\n",
        "                  'CPF',\n",
        "                  'OBITO', \n",
        "                  'INATIVIDADE',\n",
        "                  'CARGO',\n",
        "                  'EXCLUSÃO',\n",
        "                  'DATA_EXCLUSÃO',\n",
        "                  'SITUAÇÃO_CADASTRO',\n",
        "                  'ESTADO',\n",
        "                  'DR5',\n",
        "                  'NivelEmDR',\n",
        "                  'CNRstatus']              \t\t\t\t\t\t\t\t\t\t\t \t\t\t\t\n",
        "\n",
        "# Exclusão das colunas que não estão na lista\n",
        "servEncontradosCaco = servEncontradosCaco[colunas_manter]\n",
        "\n",
        "# servEncontradosCaco.to_excel('ResultadoComplexo.xlsx')"
      ],
      "metadata": {
        "id": "s6mGQHzzsn3C"
      },
      "execution_count": 92,
      "outputs": []
    },
    {
      "cell_type": "code",
      "source": [
        "resultado = servEncontradosCaco['RESULTADO'].value_counts().reset_index()\n",
        "resultado.columns = [\"Resumo Fluxo Complexo\", \"Quantidade\"]\n",
        "\n",
        "resultado_faltou      = servEncontradosCaco.query('RESULTADO == \"ANÁLISE\"').copy()\n",
        "resultado_decidir     = servEncontradosCaco.query('RESULTADO == \"A DECIDIR\"').copy()\n",
        "resultado_indeferido  = servEncontradosCaco.query('RESULTADO == \"INDEFERIDO\"').copy()\n",
        "\n",
        "# display(resultado_faltou)"
      ],
      "metadata": {
        "id": "IZaTJfr4j3Oe"
      },
      "execution_count": 93,
      "outputs": []
    },
    {
      "cell_type": "code",
      "source": [
        "# Criar um arquivo Excel com ExcelWriter, usando a engine='xlsxwriter'\n",
        "now = datetime.now()\n",
        "Resultado_Complexo = f\"05 Fluxo Complexo - Resultado {now.strftime('%Y-%m-%d %H:%M:%S')}.xlsx\"\n",
        "writer = pd.ExcelWriter(Resultado_Complexo, engine='xlsxwriter')\n",
        "\n",
        "# Escreva os dataframes no arquivo Excel\n",
        "servEncontradosCaco.to_excel  (writer, sheet_name ='COMPLEXO_RESULTADO', index=False)\n",
        "resultado_faltou.to_excel(writer, sheet_name ='VERFICAR_NIVEL_5', index=False)\n",
        "resultado_decidir.to_excel (writer, sheet_name ='DECIDIR_NIVEL_5', index=False)\n",
        "resultado_indeferido.to_excel(writer, sheet_name ='INDEFERIDO_NIVEL_5', index=False)\n",
        "\n",
        "resultado.to_excel(writer, sheet_name ='RESUMO_COMPLEXO', index=False)\n",
        "\n",
        "\n",
        "cell_format   = writer.book.add_format({'align': 'center', 'valign': 'center'})\n",
        "for row_num in range(len(resultado)):\n",
        "    writer.sheets['RESUMO_COMPLEXO'].set_row(row_num, None, cell_format)\n",
        "\n",
        "for col_num in range(len(resultado.columns)):\n",
        "    col_width = resultado.iloc[:, col_num].astype(str).str.len().max()\n",
        "    writer.sheets['RESUMO_COMPLEXO'].set_column(col_num, col_num, col_width, cell_format)\n",
        "\n",
        "# Definir formato, filtros e cabeçalho para cada planilha\n",
        "for sheet_name in ['COMPLEXO_RESULTADO', 'VERFICAR_NIVEL_5', 'DECIDIR_NIVEL_5','INDEFERIDO_NIVEL_5']:\n",
        "    worksheet = writer.sheets[sheet_name]\n",
        "  \n",
        "    # Definir o formato de célula centralizado\n",
        "    header_format = writer.book.add_format({'bold': True, 'bg_color': '#0070C0', 'color': 'white', 'align': 'center', 'valign': 'center'})\n",
        "    worksheet.set_column(0, 0, options={'hidden': True})\n",
        "\n",
        "    # Aplicar o formato de célula centralizado às colunas da planilha\n",
        "    num_cols = len(servEncontradosCaco.columns)\n",
        "    num_rows = len(servEncontradosCaco)\n",
        "\n",
        "    # Ajustar a largura da coluna de modo a mostrar todo o texto\n",
        "    for col_num in range(len(servEncontradosCaco.columns)):\n",
        "        col_width = servEncontradosCaco.iloc[:, col_num].astype(str).str.len().max()\n",
        "        worksheet.set_column(col_num, col_num, col_width, cell_format)\n",
        "\n",
        "    for row_num in range(num_rows):\n",
        "        worksheet.set_row(row_num, None, cell_format)\n",
        "\n",
        "    # Adicionar filtros às colunas da planilha\n",
        "    worksheet.autofilter(0, 0, num_rows - 1, num_cols - 1)\n",
        "\n",
        "    # Congelar a primeira linha\n",
        "    worksheet.freeze_panes(1, 0)\n",
        "    \n",
        "    # # Definir a cor azul para os nomes das colunas\n",
        "    for col_num, value in enumerate(servEncontradosCaco.columns):\n",
        "        worksheet.write(0, col_num, value, header_format)\n",
        "\n",
        "\n",
        "# Salve o arquivo\n",
        "writer.save()"
      ],
      "metadata": {
        "id": "q4wGWGUMtkxx"
      },
      "execution_count": 95,
      "outputs": []
    },
    {
      "cell_type": "code",
      "source": [],
      "metadata": {
        "id": "F6ZRxqE0PISQ"
      },
      "execution_count": null,
      "outputs": []
    }
  ],
  "metadata": {
    "colab": {
      "provenance": [],
      "authorship_tag": "ABX9TyNyTSG7nRYrsC0msZ+vu+sY",
      "include_colab_link": true
    },
    "kernelspec": {
      "display_name": "Python 3",
      "name": "python3"
    },
    "language_info": {
      "name": "python"
    }
  },
  "nbformat": 4,
  "nbformat_minor": 0
}