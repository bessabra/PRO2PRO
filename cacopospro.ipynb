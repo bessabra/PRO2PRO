{
  "nbformat": 4,
  "nbformat_minor": 0,
  "metadata": {
    "colab": {
      "provenance": [],
      "mount_file_id": "1W05VM6w5E-YrAdA9SR-vByg97Vgp67As",
      "authorship_tag": "ABX9TyP2vNhH5+Rm4cdwpsxUjae1",
      "include_colab_link": true
    },
    "kernelspec": {
      "name": "python3",
      "display_name": "Python 3"
    },
    "language_info": {
      "name": "python"
    }
  },
  "cells": [
    {
      "cell_type": "markdown",
      "metadata": {
        "id": "view-in-github",
        "colab_type": "text"
      },
      "source": [
        "<a href=\"https://colab.research.google.com/github/bessabra/bessabra/blob/main/cacopospro.ipynb\" target=\"_parent\"><img src=\"https://colab.research.google.com/assets/colab-badge.svg\" alt=\"Open In Colab\"/></a>"
      ]
    },
    {
      "cell_type": "code",
      "execution_count": 78,
      "metadata": {
        "id": "QlnV5HuhKopS"
      },
      "outputs": [],
      "source": [
        "import pandas as pd\n",
        "from datetime import datetime, timedelta\n",
        "\n",
        "\n",
        "base  = pd.read_csv('/content/drive/MyDrive/Progressão Professores/Versões v13.12/CACOPOSPRO V13.12.2.csv')\n",
        "base2 = pd.read_csv('/content/drive/MyDrive/Progressão Professores/Versões v19.12/Resultados/baseAnalisev19.12.csv')\n"
      ]
    },
    {
      "cell_type": "markdown",
      "source": [
        "Retirada de colunas desnecessáras."
      ],
      "metadata": {
        "id": "Od4rE_GV_9gh"
      }
    },
    {
      "cell_type": "code",
      "source": [
        "base2.drop('Unnamed: 0.1',  axis = 1, inplace=True)\n",
        "base2.drop('Unnamed: 0',    axis = 1, inplace=True)\n",
        "base2.drop('_merge',        axis = 1, inplace=True)\n",
        "base2.drop('DRstatus',      axis = 1, inplace=True)\n",
        "base2.drop('DR5status',     axis = 1, inplace=True)\n",
        "base2.drop('REQUERIMENTO',  axis = 1, inplace=True)\n",
        "\n",
        "base.drop('Órgão',    axis = 1, inplace=True)\n",
        "base.drop('SIAPECAD', axis = 1, inplace=True)"
      ],
      "metadata": {
        "id": "Zf2tsPoI_EI4"
      },
      "execution_count": 79,
      "outputs": []
    },
    {
      "cell_type": "markdown",
      "source": [
        "Redefinição de tipos das variáveis."
      ],
      "metadata": {
        "id": "Mf3HkP4rAEMz"
      }
    },
    {
      "cell_type": "code",
      "source": [
        "base['CARGO INICIAL']     = pd.to_datetime(base['CARGO INICIAL'], errors=\"coerce\")\n",
        "base['CARGO FINAL']       = pd.to_datetime(base['CARGO FINAL'], errors=\"coerce\")\n",
        "base['VIGENCIA INICIAL']  = pd.to_datetime(base['VIGENCIA INICIAL'], errors=\"coerce\")\n",
        "base['VIGENCIA FINAL']    = pd.to_datetime(base['VIGENCIA FINAL'], errors=\"coerce\")\n",
        "\n",
        "base2['OBITO']                  = pd.to_datetime(base2['OBITO'], errors=\"coerce\")\n",
        "base2['INATIVIDADE']            = pd.to_datetime(base2['INATIVIDADE'], errors=\"coerce\")\n",
        "base2['DATA DO REQUERIMENTO']   = pd.to_datetime(base2['DATA DO REQUERIMENTO'], errors=\"coerce\")\n",
        "base2['DR5']                    = pd.to_datetime(base2['DR5'], errors=\"coerce\")"
      ],
      "metadata": {
        "id": "NNsGoQ4PkccE"
      },
      "execution_count": 80,
      "outputs": []
    },
    {
      "cell_type": "markdown",
      "source": [
        "Filtrando CPF, SIAPE e NOME presentes em CACOPOSPRO V13.12.2 e baseAnalisev19.12."
      ],
      "metadata": {
        "id": "1PG0YwzlALEQ"
      }
    },
    {
      "cell_type": "code",
      "source": [
        "servEncontradosCaco = base.merge(\n",
        "    base2, on=['CPF', 'SIAPE', 'NOME'], \n",
        "    how='inner', \n",
        "    suffixes=['', '_'], \n",
        "    indicator=True\n",
        "    )"
      ],
      "metadata": {
        "id": "I2QHH_xBDsd4"
      },
      "execution_count": null,
      "outputs": []
    },
    {
      "cell_type": "markdown",
      "source": [
        "Calculando a diferença entre DR5 e as datas de VIGENCIA INICIAL de cada Código de Carreira e Classe, por servidor. \n",
        "\n",
        "Em seguida, uma nova base é criada filtrada com a data e o Código de Carreira e Classe de cada servidor."
      ],
      "metadata": {
        "id": "aVaEACTUAfQq"
      }
    },
    {
      "cell_type": "code",
      "source": [
        "servEncontradosCaco['DiasDiff'] = (servEncontradosCaco['VIGENCIA INICIAL'] - servEncontradosCaco['DR5']).dt.days.abs()\n",
        "\n",
        "servEncontradosCaco = servEncontradosCaco.sort_values(by=['NOME', 'DiasDiff'])\n",
        "servEncontradosCaco = servEncontradosCaco.groupby('NOME').first().reset_index()"
      ],
      "metadata": {
        "id": "tVJJlpCQp6Fg"
      },
      "execution_count": 82,
      "outputs": []
    },
    {
      "cell_type": "markdown",
      "source": [
        "Calculando (DTPi - DR5), para identificar o valor da diferença e filtrar a decisão."
      ],
      "metadata": {
        "id": "78PPqpGbBN6k"
      }
    },
    {
      "cell_type": "code",
      "source": [
        "servEncontradosCaco.loc[\n",
        "    ((servEncontradosCaco['VIGENCIA INICIAL'].dt.year - servEncontradosCaco['DR5'].dt.year <= 1) \n",
        "    & ((servEncontradosCaco['CARGO'] == '709001 PROFESSOR DO ENSINO BASICO EX-TERRITORIO')|(servEncontradosCaco['CARGO'] == '704001 PROFESSOR DO ENSINO BASICO EX-TERRITORIO'))), 'REGRA'] = 'EBF <= 1'\n",
        "\n",
        "servEncontradosCaco.loc[\n",
        "    ((servEncontradosCaco['VIGENCIA INICIAL'].dt.year - servEncontradosCaco['DR5'].dt.year > 1) \n",
        "    & ((servEncontradosCaco['CARGO'] == '709001 PROFESSOR DO ENSINO BASICO EX-TERRITORIO')|(servEncontradosCaco['CARGO'] == '704001 PROFESSOR DO ENSINO BASICO EX-TERRITORIO'))), 'REGRA'] = 'EBF > 1' \n",
        "\n",
        "servEncontradosCaco.loc[\n",
        "     ((servEncontradosCaco['VIGENCIA INICIAL'].dt.year - servEncontradosCaco['DR5'].dt.year <= 1) \n",
        "     & ((servEncontradosCaco['CARGO'] == '707001 PROFESSOR ENS BASICO TECN TECNOL')|(servEncontradosCaco['CARGO'] == '702001 PROF DO ENSINO BASICO TEC,TECNOLOGICO'))), 'REGRA'] = 'EBTT <= 1'\n",
        "\n",
        "servEncontradosCaco.loc[\n",
        "     ((servEncontradosCaco['VIGENCIA INICIAL'].dt.year - servEncontradosCaco['DR5'].dt.year > 1) \n",
        "     & ((servEncontradosCaco['CARGO'] == '707001 PROFESSOR ENS BASICO TECN TECNOL') |(servEncontradosCaco['CARGO'] == '702001 PROF DO ENSINO BASICO TEC,TECNOLOGICO'))), 'REGRA'] = 'EBTT > 1'"
      ],
      "metadata": {
        "id": "GM931kxxEtaP"
      },
      "execution_count": 83,
      "outputs": []
    },
    {
      "cell_type": "markdown",
      "source": [
        "Tabelas de conversão de Código de Carreira e Classe (object) para um código de valor entre 1 - 12 (inteiro), isso facilitará o incremento."
      ],
      "metadata": {
        "id": "-AiLJbGjB36y"
      }
    },
    {
      "cell_type": "code",
      "source": [
        "servEncontradosCaco.loc[\n",
        "    ((servEncontradosCaco['NIVEL POR DATA'] == '709-NS-D-101')|(servEncontradosCaco['NIVEL POR DATA'] == '707-NS-D-101')), 'COD_NIVEL'] = 1\n",
        "servEncontradosCaco.loc[\n",
        "    ((servEncontradosCaco['NIVEL POR DATA'] == '709-NS-D-102')|(servEncontradosCaco['NIVEL POR DATA'] == '707-NS-D-102')), 'COD_NIVEL'] = 2\n",
        "servEncontradosCaco.loc[\n",
        "    ((servEncontradosCaco['NIVEL POR DATA'] == '709-NS-D-201')|(servEncontradosCaco['NIVEL POR DATA'] == '707-NS-D-201')), 'COD_NIVEL'] = 3\n",
        "servEncontradosCaco.loc[\n",
        "    ((servEncontradosCaco['NIVEL POR DATA'] == '709-NS-D-202')|(servEncontradosCaco['NIVEL POR DATA'] == '707-NS-D-202')), 'COD_NIVEL'] = 4\n",
        "servEncontradosCaco.loc[\n",
        "    ((servEncontradosCaco['NIVEL POR DATA'] == '709-NS-D-301')|(servEncontradosCaco['NIVEL POR DATA'] == '707-NS-D-301')), 'COD_NIVEL'] = 5\n",
        "servEncontradosCaco.loc[\n",
        "    ((servEncontradosCaco['NIVEL POR DATA'] == '709-NS-D-302')|(servEncontradosCaco['NIVEL POR DATA'] == '707-NS-D-302')), 'COD_NIVEL'] = 6\n",
        "servEncontradosCaco.loc[\n",
        "    ((servEncontradosCaco['NIVEL POR DATA'] == '709-NS-D-303')|(servEncontradosCaco['NIVEL POR DATA'] == '707-NS-D-303')), 'COD_NIVEL'] = 7\n",
        "servEncontradosCaco.loc[\n",
        "    ((servEncontradosCaco['NIVEL POR DATA'] == '709-NS-D-304')|(servEncontradosCaco['NIVEL POR DATA'] == '707-NS-D-304')), 'COD_NIVEL'] = 8\n",
        "servEncontradosCaco.loc[\n",
        "    ((servEncontradosCaco['NIVEL POR DATA'] == '709-NS-D-401')|(servEncontradosCaco['NIVEL POR DATA'] == '707-NS-D-401')), 'COD_NIVEL'] = 9\n",
        "servEncontradosCaco.loc[\n",
        "    ((servEncontradosCaco['NIVEL POR DATA'] == '709-NS-D-402')|(servEncontradosCaco['NIVEL POR DATA'] == '707-NS-D-402')), 'COD_NIVEL'] = 10\n",
        "servEncontradosCaco.loc[\n",
        "    ((servEncontradosCaco['NIVEL POR DATA'] == '709-NS-D-403')|(servEncontradosCaco['NIVEL POR DATA'] == '707-NS-D-403')), 'COD_NIVEL'] = 11\n",
        "servEncontradosCaco.loc[\n",
        "    ((servEncontradosCaco['NIVEL POR DATA'] == '709-NS-D-404')|(servEncontradosCaco['NIVEL POR DATA'] == '707-NS-D-404')), 'COD_NIVEL'] = 12\n",
        "\n",
        "#--------------------------------------------------------------------------------------------------------------------------------------------\n",
        "\n",
        "servEncontradosCaco.loc[\n",
        "    ((servEncontradosCaco['NIVEL POR DATA'] == '704-NS-D-101')|(servEncontradosCaco['NIVEL POR DATA'] == '702-NA-D-101')), 'COD_NIVEL'] = 1\n",
        "servEncontradosCaco.loc[\n",
        "    ((servEncontradosCaco['NIVEL POR DATA'] == '704-NS-D-102')|(servEncontradosCaco['NIVEL POR DATA'] == '702-NA-D-102')), 'COD_NIVEL'] = 1\n",
        "servEncontradosCaco.loc[\n",
        "    ((servEncontradosCaco['NIVEL POR DATA'] == '704-NS-D-103')|(servEncontradosCaco['NIVEL POR DATA'] == '702-NA-D-103')), 'COD_NIVEL'] = 2\n",
        "servEncontradosCaco.loc[\n",
        "    ((servEncontradosCaco['NIVEL POR DATA'] == '704-NS-D-104')|(servEncontradosCaco['NIVEL POR DATA'] == '702-NA-D-104')), 'COD_NIVEL'] = 2\n",
        "\n",
        "\n",
        "servEncontradosCaco.loc[\n",
        "    ((servEncontradosCaco['NIVEL POR DATA'] == '704-NS-D-201')|(servEncontradosCaco['NIVEL POR DATA'] == '702-NA-D-201')), 'COD_NIVEL'] = 3\n",
        "servEncontradosCaco.loc[\n",
        "    ((servEncontradosCaco['NIVEL POR DATA'] == '704-NS-D-202')|(servEncontradosCaco['NIVEL POR DATA'] == '702-NA-D-202')), 'COD_NIVEL'] = 3\n",
        "servEncontradosCaco.loc[\n",
        "    ((servEncontradosCaco['NIVEL POR DATA'] == '704-NS-D-203')|(servEncontradosCaco['NIVEL POR DATA'] == '702-NA-D-203')), 'COD_NIVEL'] = 4\n",
        "servEncontradosCaco.loc[\n",
        "    ((servEncontradosCaco['NIVEL POR DATA'] == '704-NS-D-204')|(servEncontradosCaco['NIVEL POR DATA'] == '702-NA-D-204')), 'COD_NIVEL'] = 4\n",
        "    \n",
        "servEncontradosCaco.loc[\n",
        "    ((servEncontradosCaco['NIVEL POR DATA'] == '704-NS-D-301')|(servEncontradosCaco['NIVEL POR DATA'] == '702-NA-D-301')), 'COD_NIVEL'] = 5\n",
        "servEncontradosCaco.loc[\n",
        "    ((servEncontradosCaco['NIVEL POR DATA'] == '704-NS-D-302')|(servEncontradosCaco['NIVEL POR DATA'] == '702-NA-D-302')), 'COD_NIVEL'] = 6\n",
        "servEncontradosCaco.loc[\n",
        "    ((servEncontradosCaco['NIVEL POR DATA'] == '704-NS-D-303')|(servEncontradosCaco['NIVEL POR DATA'] == '702-NA-D-303')), 'COD_NIVEL'] = 7\n",
        "servEncontradosCaco.loc[\n",
        "    ((servEncontradosCaco['NIVEL POR DATA'] == '704-NS-D-304')|(servEncontradosCaco['NIVEL POR DATA'] == '702-NA-D-304')), 'COD_NIVEL'] = 8\n",
        "servEncontradosCaco.loc[\n",
        "    ((servEncontradosCaco['NIVEL POR DATA'] == '704-NS-D-401')|(servEncontradosCaco['NIVEL POR DATA'] == '702-NA-D-401')), 'COD_NIVEL'] = 9\n",
        "servEncontradosCaco.loc[\n",
        "    ((servEncontradosCaco['NIVEL POR DATA'] == '704-NS-D-402')|(servEncontradosCaco['NIVEL POR DATA'] == '702-NA-D-402')), 'COD_NIVEL'] = 10\n",
        "servEncontradosCaco.loc[\n",
        "    ((servEncontradosCaco['NIVEL POR DATA'] == '704-NS-D-403')|(servEncontradosCaco['NIVEL POR DATA'] == '702-NA-D-403')), 'COD_NIVEL'] = 11\n",
        "servEncontradosCaco.loc[\n",
        "    ((servEncontradosCaco['NIVEL POR DATA'] == '704-NS-D-404')|(servEncontradosCaco['NIVEL POR DATA'] == '702-NA-D-404')), 'COD_NIVEL'] = 12"
      ],
      "metadata": {
        "id": "ZiEkJRdtBU-a"
      },
      "execution_count": null,
      "outputs": []
    },
    {
      "cell_type": "markdown",
      "source": [
        "Realização do incremento de acordo com o filtro da diferença entre DTPi - DR5.\n"
      ],
      "metadata": {
        "id": "h2eG9MsQCHYu"
      }
    },
    {
      "cell_type": "code",
      "source": [
        "servEncontradosCaco.loc[\n",
        "    (servEncontradosCaco['REGRA'] == 'EBF <= 1'), 'INCREMENTO_CNR'] = servEncontradosCaco['COD_NIVEL'] + 3\n",
        "servEncontradosCaco.loc[\n",
        "    (servEncontradosCaco['REGRA'] == 'EBF > 1'), 'INCREMENTO_CNR'] = servEncontradosCaco['COD_NIVEL'] + 4\n",
        "\n",
        "\n",
        "servEncontradosCaco.loc[\n",
        "    (servEncontradosCaco['REGRA'] == 'EBTT <= 1'), 'INCREMENTO_CNR'] = servEncontradosCaco['COD_NIVEL'] + 2\n",
        "servEncontradosCaco.loc[\n",
        "    (servEncontradosCaco['REGRA'] == 'EBTT > 1'), 'INCREMENTO_CNR'] = servEncontradosCaco['COD_NIVEL'] + 3"
      ],
      "metadata": {
        "id": "P_VYDDIOBbTB"
      },
      "execution_count": null,
      "outputs": []
    },
    {
      "cell_type": "markdown",
      "source": [
        "Conversão do código de valores incrementados de acordo com a regra de diferença entre DTPi - DR5."
      ],
      "metadata": {
        "id": "FKFd51yoCf7i"
      }
    },
    {
      "cell_type": "code",
      "source": [
        "servEncontradosCaco.loc[\n",
        "    (servEncontradosCaco['INCREMENTO_CNR'] == 1), 'CNR'] = 101\n",
        "servEncontradosCaco.loc[\n",
        "    (servEncontradosCaco['INCREMENTO_CNR'] == 2), 'CNR'] = 102\n",
        "servEncontradosCaco.loc[\n",
        "    (servEncontradosCaco['INCREMENTO_CNR'] == 3), 'CNR'] = 201\n",
        "servEncontradosCaco.loc[\n",
        "    (servEncontradosCaco['INCREMENTO_CNR'] == 4), 'CNR'] = 202\n",
        "servEncontradosCaco.loc[\n",
        "    (servEncontradosCaco['INCREMENTO_CNR'] == 5), 'CNR'] = 301\n",
        "servEncontradosCaco.loc[\n",
        "    (servEncontradosCaco['INCREMENTO_CNR'] == 6), 'CNR'] = 302\n",
        "servEncontradosCaco.loc[\n",
        "    (servEncontradosCaco['INCREMENTO_CNR'] == 7), 'CNR'] = 303\n",
        "servEncontradosCaco.loc[\n",
        "    (servEncontradosCaco['INCREMENTO_CNR'] == 8), 'CNR'] = 304\n",
        "servEncontradosCaco.loc[\n",
        "    (servEncontradosCaco['INCREMENTO_CNR'] == 9), 'CNR'] = 401\n",
        "servEncontradosCaco.loc[\n",
        "    (servEncontradosCaco['INCREMENTO_CNR'] == 10), 'CNR'] = 402\n",
        "servEncontradosCaco.loc[\n",
        "    (servEncontradosCaco['INCREMENTO_CNR'] == 11), 'CNR'] = 403\n",
        "servEncontradosCaco.loc[\n",
        "    (servEncontradosCaco['INCREMENTO_CNR'] >= 12), 'CNR'] = 404"
      ],
      "metadata": {
        "id": "X02uS7nCCede"
      },
      "execution_count": null,
      "outputs": []
    },
    {
      "cell_type": "markdown",
      "source": [
        "Descrição do resultado da análise."
      ],
      "metadata": {
        "id": "-_Nj73OEELc8"
      }
    },
    {
      "cell_type": "code",
      "source": [
        "servEncontradosCaco.loc[\n",
        "    ((servEncontradosCaco['CNR'] < servEncontradosCaco['NIVEL']) \n",
        "    |(servEncontradosCaco['CNR'] > servEncontradosCaco['NIVEL'])), 'RESULTADO'] = 'A DECIDIR'\n",
        "servEncontradosCaco.loc[\n",
        "    (servEncontradosCaco['CNR'] == servEncontradosCaco['NIVEL']), 'RESULTADO'] = 'INDEFERIDO'\n",
        "\n",
        "servEncontradosCaco.loc[\n",
        "    (servEncontradosCaco['CNR'] < servEncontradosCaco['NIVEL']), 'CNRstatus'] = 'O CNR calculado é MENOR que o encontrado no SIAPE'\n",
        "servEncontradosCaco.loc[\n",
        "    (servEncontradosCaco['CNR'] > servEncontradosCaco['NIVEL']), 'CNRstatus'] = 'O CNR calculado é MAIOR que o encontrado no SIAPE'\n",
        "servEncontradosCaco.loc[\n",
        "    (servEncontradosCaco['CNR'] == servEncontradosCaco['NIVEL']), 'CNRstatus'] = 'O CNR calculado é IGUAL ao encontrado no SIAPE'"
      ],
      "metadata": {
        "id": "ChxTXNOzBYAk"
      },
      "execution_count": null,
      "outputs": []
    },
    {
      "cell_type": "markdown",
      "source": [
        "Retirada de colunas desnecessáras."
      ],
      "metadata": {
        "id": "4Xr78iO7EXkE"
      }
    },
    {
      "cell_type": "code",
      "source": [
        "servEncontradosCaco.drop('DESCRIÇÃO', axis = 1, inplace=True)\n",
        "servEncontradosCaco.drop('CARGO_',    axis = 1, inplace=True)\n",
        "servEncontradosCaco.drop('CLASSE',    axis = 1, inplace=True)\n",
        "servEncontradosCaco.drop('_merge',    axis = 1, inplace=True)"
      ],
      "metadata": {
        "id": "pAfBr3vbPU5s"
      },
      "execution_count": 84,
      "outputs": []
    },
    {
      "cell_type": "markdown",
      "source": [
        "Geração do xlsx com os resultados."
      ],
      "metadata": {
        "id": "N_Aig2BwEnUN"
      }
    },
    {
      "cell_type": "code",
      "source": [
        "servEncontradosCaco.to_excel('ResultadoComplexo.xlsx')"
      ],
      "metadata": {
        "id": "s6mGQHzzsn3C"
      },
      "execution_count": 85,
      "outputs": []
    }
  ]
}