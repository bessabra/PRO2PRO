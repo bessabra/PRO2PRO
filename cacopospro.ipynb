{
  "nbformat": 4,
  "nbformat_minor": 0,
  "metadata": {
    "colab": {
      "provenance": [],
      "mount_file_id": "1W05VM6w5E-YrAdA9SR-vByg97Vgp67As",
      "authorship_tag": "ABX9TyP4p+/7NbgQlNQLi52qfovx",
      "include_colab_link": true
    },
    "kernelspec": {
      "name": "python3",
      "display_name": "Python 3"
    },
    "language_info": {
      "name": "python"
    }
  },
  "cells": [
    {
      "cell_type": "markdown",
      "metadata": {
        "id": "view-in-github",
        "colab_type": "text"
      },
      "source": [
        "<a href=\"https://colab.research.google.com/github/bessabra/PRO2PRO/blob/main/cacopospro.ipynb\" target=\"_parent\"><img src=\"https://colab.research.google.com/assets/colab-badge.svg\" alt=\"Open In Colab\"/></a>"
      ]
    },
    {
      "cell_type": "code",
      "execution_count": 41,
      "metadata": {
        "id": "QlnV5HuhKopS"
      },
      "outputs": [],
      "source": [
        "import pandas as pd\n",
        "from datetime import datetime, timedelta\n",
        "\n",
        "base  = pd.read_excel('/content/CACOPOSPRO v01.01.xlsx')\n",
        "base2 = pd.read_excel('/content/baseAnalisev09.01.xlsx')\n"
      ]
    },
    {
      "cell_type": "markdown",
      "source": [
        "Retirada de colunas desnecessáras."
      ],
      "metadata": {
        "id": "Od4rE_GV_9gh"
      }
    },
    {
      "cell_type": "code",
      "source": [
        "base2.drop('_merge',        axis = 1, inplace=True)\n"
      ],
      "metadata": {
        "id": "Zf2tsPoI_EI4"
      },
      "execution_count": 42,
      "outputs": []
    },
    {
      "cell_type": "markdown",
      "source": [
        "Redefinição de tipos das variáveis."
      ],
      "metadata": {
        "id": "Mf3HkP4rAEMz"
      }
    },
    {
      "cell_type": "code",
      "source": [
        "colunas_conv_data_base = ['VIGENCIA INICIAL', \n",
        "                          'VIGENCIA FINAL']\n",
        "\n",
        "colunas_conv_data_base2 = ['DATA DO REQUERIMENTO',\n",
        "                          'OBITO',\n",
        "                          'INATIVIDADE',\n",
        "                          'DATA EXCLUSÃO',\n",
        "                          'DR5']       \n",
        "\n",
        "#Substituindo\n",
        "for coluna in colunas_conv_data_base2:\n",
        "  base2[coluna] = pd.to_datetime(base2[coluna], errors=\"coerce\")\n",
        "\n",
        "#Substituindo\n",
        "for coluna in colunas_conv_data_base:\n",
        "  base[coluna] = pd.to_datetime(base[coluna], errors=\"coerce\")"
      ],
      "metadata": {
        "id": "NNsGoQ4PkccE"
      },
      "execution_count": 105,
      "outputs": []
    },
    {
      "cell_type": "markdown",
      "source": [
        "Filtrando SIAPEs presentes em CACOPOSPRO e baseAnalise"
      ],
      "metadata": {
        "id": "1PG0YwzlALEQ"
      }
    },
    {
      "cell_type": "code",
      "source": [
        "#Merge entre a base e base2\n",
        "servEncontradosCaco = base.merge(\n",
        "    base2, on=['SIAPE'], \n",
        "    # how='outer',\n",
        "    how='inner',\n",
        "    suffixes=['', '_'], \n",
        "    indicator=True\n",
        "    )\n",
        "\n",
        "#Calculando a diferença entre a VIGENCIA INICIAL do CNR e a DATA DO REQUERIMENTO em dias\n",
        "servEncontradosCaco['DiasDiffDR'] = (servEncontradosCaco['VIGENCIA INICIAL'] - servEncontradosCaco['DATA DO REQUERIMENTO']).dt.days.abs()\n",
        "\n",
        "#Ordena por SIAPE a diferença de dias\n",
        "servEncontradosCacoDR = servEncontradosCaco.sort_values(by=['SIAPE', 'DiasDiffDR'])\n",
        "servEncontradosCacoDR = servEncontradosCacoDR.groupby('SIAPE').first().reset_index()\n",
        "\n",
        "#Renomeia as colunas para evitar conflitos no merge\n",
        "servEncontradosCacoDR = servEncontradosCacoDR.rename(\n",
        "    columns = {'POSICIONAMENTO':'NivelEmDR'}\n",
        "    )\n",
        "servEncontradosCaco = servEncontradosCaco.rename(\n",
        "    columns = {'_merge':'MergeGeral'}\n",
        "    )\n",
        "servEncontradosCacoDR = servEncontradosCacoDR.rename(\n",
        "    columns = {'_merge':'MergeDR'}\n",
        "    )\n",
        "\n",
        "servEncontradosCaco = servEncontradosCaco.rename(\n",
        "    columns = {'POSICIONAMENTO':'NIVEL POR DATA'}\n",
        "    )\n",
        "\n",
        "#Merge entre servEncontradosCaco e servEncontradosCacoDR para identificar o CNR em DR nas proximas etapas do script\n",
        "servEncontradosCaco = servEncontradosCaco.merge(\n",
        "    servEncontradosCacoDR, on=['SIAPE'], \n",
        "    # how='outer',\n",
        "    how='inner',\n",
        "    suffixes=['', '_'], \n",
        "    indicator=True\n",
        "    )\n"
      ],
      "metadata": {
        "id": "I2QHH_xBDsd4",
        "colab": {
          "base_uri": "https://localhost:8080/"
        },
        "outputId": "eb884e57-576a-41fa-fd1f-c343c2e9a493"
      },
      "execution_count": 106,
      "outputs": [
        {
          "output_type": "stream",
          "name": "stderr",
          "text": [
            "/usr/local/lib/python3.8/dist-packages/pandas/core/frame.py:9190: FutureWarning: Passing 'suffixes' which cause duplicate columns {'CPF_'} in the result is deprecated and will raise a MergeError in a future version.\n",
            "  return merge(\n"
          ]
        }
      ]
    },
    {
      "cell_type": "code",
      "source": [
        "# display(servEncontradosCaco)"
      ],
      "metadata": {
        "id": "D3teDG0L-zYo"
      },
      "execution_count": 107,
      "outputs": []
    },
    {
      "cell_type": "code",
      "source": [
        "# Dicionário com as informações de mudança\n",
        "substituicoesCodNivel = { '709-NS-D-101': 1, '707-NS-D-101': 1, \n",
        "                          '709-NS-D-102': 2, '707-NS-D-102': 2, \n",
        "                          '709-NS-D-201': 3, '707-NS-D-201': 3, \n",
        "                          '709-NS-D-202': 4, '707-NS-D-202': 4, \n",
        "                          '709-NS-D-301': 5, '707-NS-D-301': 5, \n",
        "                          '709-NS-D-302': 6, '707-NS-D-302': 6, \n",
        "                          '709-NS-D-303': 7, '707-NS-D-303': 7, \n",
        "                          '709-NS-D-304': 8, '707-NS-D-304': 8, \n",
        "                          '709-NS-D-401': 9, '707-NS-D-401': 9,\n",
        "                          '709-NS-D-402':10, '707-NS-D-402': 10, \n",
        "                          '709-NS-D-403':11, '707-NS-D-403': 11, \n",
        "                          '709-NS-D-404':12, '707-NS-D-404': 12,\n",
        "                          '704-NS-D-101': 1, '702-NA-D-101': 1, \n",
        "                          '704-NS-D-102': 2, '702-NA-D-102': 2, \n",
        "                          '704-NS-D-201': 3, '702-NA-D-201': 3,\n",
        "                          '704-NS-D-202': 4, '702-NA-D-202': 4, \n",
        "                          '704-NS-D-301': 5, '702-NA-D-301': 5, \n",
        "                          '704-NS-D-302': 6, '702-NA-D-302': 6,\n",
        "                          '704-NS-D-303': 7, '702-NA-D-303': 7, \n",
        "                          '704-NS-D-304': 8, '702-NA-D-304': 8,\n",
        "                          '704-NS-D-401': 9, '702-NA-D-401': 9, \n",
        "                          '704-NS-D-402':10, '702-NA-D-402':10,\n",
        "                          '704-NS-D-403':11, '702-NA-D-403':11, \n",
        "                          '704-NS-D-404':12, '702-NA-D-404':12}\n",
        "\n",
        "#Substituindo\n",
        "for valor_antigo, valor_novo in substituicoesCodNivel.items():\n",
        "    servEncontradosCaco.loc[servEncontradosCaco['NivelEmDR'] == valor_antigo, 'COD_NIVELDR'] = valor_novo\n",
        "\n",
        "# display(servEncontradosCaco)"
      ],
      "metadata": {
        "id": "8PSLmnPo84pS"
      },
      "execution_count": 108,
      "outputs": []
    },
    {
      "cell_type": "code",
      "source": [
        "servEncontradosCaco.loc[\n",
        "    (servEncontradosCaco['VIGENCIA INICIAL_'] > servEncontradosCaco['DATA DO REQUERIMENTO']), 'COD_NIVELDR'] = servEncontradosCaco['COD_NIVELDR'] - 1"
      ],
      "metadata": {
        "id": "nntao3GhrgZ1"
      },
      "execution_count": 109,
      "outputs": []
    },
    {
      "cell_type": "code",
      "source": [
        "# Dicionário com as informações de mudança\n",
        "substituicoesCodNivel = { 1:101,  2:102, \n",
        "                          3:201,  4:202, \n",
        "                          5:301,  6:302, \n",
        "                          7:303,  8:304, \n",
        "                          9:401,  10:402, \n",
        "                          11:403, 12:404}\n",
        "\n",
        "#Substituindo\n",
        "for valor_antigo, valor_novo in substituicoesCodNivel.items():\n",
        "    servEncontradosCaco.loc[servEncontradosCaco['COD_NIVELDR'] == valor_antigo, 'NIVEL_DR'] = valor_novo\n",
        "\n",
        "# display(servEncontradosCaco)"
      ],
      "metadata": {
        "id": "0IBDoX7mHd5u"
      },
      "execution_count": 110,
      "outputs": []
    },
    {
      "cell_type": "markdown",
      "source": [
        "Calculando a diferença entre DR5 e as datas de VIGENCIA INICIAL de cada Código de Carreira e Classe, por servidor. \n",
        "\n",
        "Em seguida, uma nova base é criada filtrada com a data e o Código de Carreira e Classe de cada servidor."
      ],
      "metadata": {
        "id": "aVaEACTUAfQq"
      }
    },
    {
      "cell_type": "code",
      "source": [
        "servEncontradosCaco['DiasDiff'] = (servEncontradosCaco['VIGENCIA INICIAL'] - servEncontradosCaco['DR5']).dt.days.abs()\n",
        "\n",
        "servEncontradosCaco = servEncontradosCaco.sort_values(by=['NOME', 'DiasDiff'])\n",
        "servEncontradosCaco = servEncontradosCaco.groupby('NOME').first().reset_index()"
      ],
      "metadata": {
        "id": "tVJJlpCQp6Fg"
      },
      "execution_count": 111,
      "outputs": []
    },
    {
      "cell_type": "markdown",
      "source": [
        "Calculando (DTPi - DR5), para identificar o valor da diferença e filtrar a decisão."
      ],
      "metadata": {
        "id": "78PPqpGbBN6k"
      }
    },
    {
      "cell_type": "code",
      "source": [
        "servEncontradosCaco.loc[\n",
        "    ((servEncontradosCaco['VIGENCIA INICIAL'].dt.year - servEncontradosCaco['DR5'].dt.year <= 1) \n",
        "    & ((servEncontradosCaco['CARGO'] == '709001 PROFESSOR DO ENSINO BASICO EX-TERRITORIO')|(servEncontradosCaco['CARGO'] == '704001 PROFESSOR DO ENSINO BASICO EX-TERRITORIO'))), 'REGRA'] = 'EBF <= 1'\n",
        "\n",
        "servEncontradosCaco.loc[\n",
        "    ((servEncontradosCaco['VIGENCIA INICIAL'].dt.year - servEncontradosCaco['DR5'].dt.year > 1) \n",
        "    & ((servEncontradosCaco['CARGO'] == '709001 PROFESSOR DO ENSINO BASICO EX-TERRITORIO')|(servEncontradosCaco['CARGO'] == '704001 PROFESSOR DO ENSINO BASICO EX-TERRITORIO'))), 'REGRA'] = 'EBF > 1' \n",
        "\n",
        "servEncontradosCaco.loc[\n",
        "     ((servEncontradosCaco['VIGENCIA INICIAL'].dt.year - servEncontradosCaco['DR5'].dt.year <= 1) \n",
        "     & ((servEncontradosCaco['CARGO'] == '707001 PROFESSOR ENS BASICO TECN TECNOL')|(servEncontradosCaco['CARGO'] == '702001 PROF DO ENSINO BASICO TEC,TECNOLOGICO'))), 'REGRA'] = 'EBTT <= 1'\n",
        "\n",
        "servEncontradosCaco.loc[\n",
        "     ((servEncontradosCaco['VIGENCIA INICIAL'].dt.year - servEncontradosCaco['DR5'].dt.year > 1) \n",
        "     & ((servEncontradosCaco['CARGO'] == '707001 PROFESSOR ENS BASICO TECN TECNOL') |(servEncontradosCaco['CARGO'] == '702001 PROF DO ENSINO BASICO TEC,TECNOLOGICO'))), 'REGRA'] = 'EBTT > 1'\n",
        "\n",
        "servEncontradosCaco.loc[\n",
        "     ((servEncontradosCaco['CARGO'] != '707001 PROFESSOR ENS BASICO TECN TECNOL') &\n",
        "      (servEncontradosCaco['CARGO'] != '702001 PROF DO ENSINO BASICO TEC,TECNOLOGICO') &\n",
        "      (servEncontradosCaco['CARGO'] != '709001 PROFESSOR DO ENSINO BASICO EX-TERRITORIO') &\n",
        "      (servEncontradosCaco['CARGO'] != '704001 PROFESSOR DO ENSINO BASICO EX-TERRITORIO')), 'REGRA'] = 'MUDANÇA DE CARREIRA'"
      ],
      "metadata": {
        "id": "GM931kxxEtaP"
      },
      "execution_count": 112,
      "outputs": []
    },
    {
      "cell_type": "markdown",
      "source": [
        "Tabelas de conversão de Código de Carreira e Classe (object) para um código de valor entre 1 - 12 (inteiro), isso facilitará o incremento."
      ],
      "metadata": {
        "id": "-AiLJbGjB36y"
      }
    },
    {
      "cell_type": "code",
      "source": [
        "# Dicionário com as informações de mudança\n",
        "substituicoesCodNivel = { '709-NS-D-101': 1, '707-NS-D-101': 1, \n",
        "                          '709-NS-D-102': 2, '707-NS-D-102': 2, \n",
        "                          '709-NS-D-201': 3, '707-NS-D-201': 3, \n",
        "                          '709-NS-D-202': 4, '707-NS-D-202': 4, \n",
        "                          '709-NS-D-301': 5, '707-NS-D-301': 5, \n",
        "                          '709-NS-D-302': 6, '707-NS-D-302': 6, \n",
        "                          '709-NS-D-303': 7, '707-NS-D-303': 7, \n",
        "                          '709-NS-D-304': 8, '707-NS-D-304': 8, \n",
        "                          '709-NS-D-401': 9, '707-NS-D-401': 9,\n",
        "                          '709-NS-D-402':10, '707-NS-D-402': 10, \n",
        "                          '709-NS-D-403':11, '707-NS-D-403': 11, \n",
        "                          '709-NS-D-404':12, '707-NS-D-404': 12,\n",
        "                          '704-NS-D-101': 1, '702-NA-D-101': 1, \n",
        "                          '704-NS-D-102': 1, '702-NA-D-102': 1,\n",
        "                          '704-NS-D-103': 2, '702-NA-D-103': 2,\n",
        "                          '704-NS-D-104': 2, '702-NA-D-104': 2,      \n",
        "                          '704-NS-D-201': 3, '702-NA-D-201': 3,\n",
        "                          '704-NS-D-202': 3, '702-NA-D-202': 3, \n",
        "                          '704-NS-D-203': 4, '702-NA-D-203': 4,\n",
        "                          '704-NS-D-204': 4, '702-NA-D-204': 4, \n",
        "                          '704-NS-D-301': 5, '702-NA-D-301': 5, \n",
        "                          '704-NS-D-302': 6, '702-NA-D-302': 6,\n",
        "                          '704-NS-D-303': 7, '702-NA-D-303': 7, \n",
        "                          '704-NS-D-304': 8, '702-NA-D-304': 8,\n",
        "                          '704-NS-D-401': 9, '702-NA-D-401': 9, \n",
        "                          '704-NS-D-402':10, '702-NA-D-402':10,\n",
        "                          '704-NS-D-403':11, '702-NA-D-403':11, \n",
        "                          '704-NS-D-404':12, '702-NA-D-404':12}\n",
        "\n",
        "#Substituindo\n",
        "for valor_antigo, valor_novo in substituicoesCodNivel.items():\n",
        "    servEncontradosCaco.loc[servEncontradosCaco['NIVEL POR DATA'] == valor_antigo, 'COD_NIVEL_DR5'] = valor_novo\n",
        "\n",
        "# display(servEncontradosCaco)"
      ],
      "metadata": {
        "id": "F70U6jzuRIsL"
      },
      "execution_count": 113,
      "outputs": []
    },
    {
      "cell_type": "code",
      "source": [
        "servEncontradosCaco.loc[\n",
        "    ((servEncontradosCaco['VIGENCIA INICIAL'] > servEncontradosCaco['DR5'])&(servEncontradosCaco['COD_NIVEL_DR5'] > 1)), 'COD_NIVEL_DR5'] = servEncontradosCaco['COD_NIVEL_DR5'] - 1"
      ],
      "metadata": {
        "id": "uKAmRN5kIM8F"
      },
      "execution_count": 114,
      "outputs": []
    },
    {
      "cell_type": "markdown",
      "source": [
        "Realização do incremento de acordo com o filtro da diferença entre DTPi - DR5.\n"
      ],
      "metadata": {
        "id": "h2eG9MsQCHYu"
      }
    },
    {
      "cell_type": "code",
      "source": [
        "servEncontradosCaco.loc[\n",
        "    (servEncontradosCaco['REGRA'] == 'EBF <= 1'), 'INCREMENTO_CNR'] = servEncontradosCaco['COD_NIVEL_DR5'] + 3\n",
        "servEncontradosCaco.loc[\n",
        "    (servEncontradosCaco['REGRA'] == 'EBF > 1'), 'INCREMENTO_CNR'] = servEncontradosCaco['COD_NIVEL_DR5'] + 4\n",
        "\n",
        "\n",
        "servEncontradosCaco.loc[\n",
        "    (servEncontradosCaco['REGRA'] == 'EBTT <= 1'), 'INCREMENTO_CNR'] = servEncontradosCaco['COD_NIVEL_DR5'] + 2\n",
        "servEncontradosCaco.loc[\n",
        "    (servEncontradosCaco['REGRA'] == 'EBTT > 1'), 'INCREMENTO_CNR'] = servEncontradosCaco['COD_NIVEL_DR5'] + 3"
      ],
      "metadata": {
        "id": "P_VYDDIOBbTB"
      },
      "execution_count": 115,
      "outputs": []
    },
    {
      "cell_type": "markdown",
      "source": [
        "Conversão do código de valores incrementados de acordo com a regra de diferença entre DTPi - DR5."
      ],
      "metadata": {
        "id": "FKFd51yoCf7i"
      }
    },
    {
      "cell_type": "code",
      "source": [
        "substituicoesCNR = { 1:101,  2:102, \n",
        "                     3:201,  4:202, \n",
        "                     5:301,  6:302, \n",
        "                     7:303,  8:304, \n",
        "                     9:401,  10:402, \n",
        "                     11:403}\n",
        "\n",
        "# Substituindo valores menores que 12\n",
        "for valor_antigo, valor_novo in substituicoesCNR.items():\n",
        "    servEncontradosCaco.loc[servEncontradosCaco['INCREMENTO_CNR'] == valor_antigo, 'CNR'] = valor_novo\n",
        "    \n",
        "# Substituindo valores iguais ou maiores que 12\n",
        "servEncontradosCaco.loc[servEncontradosCaco['INCREMENTO_CNR'] >= 12, 'CNR'] = 404\n",
        "\n",
        "# display(servEncontradosCaco)"
      ],
      "metadata": {
        "id": "bBX4uymhSfS6"
      },
      "execution_count": 116,
      "outputs": []
    },
    {
      "cell_type": "markdown",
      "source": [
        "Descrição do resultado da análise."
      ],
      "metadata": {
        "id": "-_Nj73OEELc8"
      }
    },
    {
      "cell_type": "code",
      "source": [
        "servEncontradosCaco.loc[\n",
        "    ((servEncontradosCaco['CNR'] < servEncontradosCaco['NIVEL_DR'])|\n",
        "     (servEncontradosCaco['CNR'] > servEncontradosCaco['NIVEL_DR'])|\n",
        "     (servEncontradosCaco['REGRA'] == 'MUDANÇA DE CARREIRA')), 'RESULTADO'] = 'A DECIDIR'\n",
        "servEncontradosCaco.loc[\n",
        "    (servEncontradosCaco['CNR'] == servEncontradosCaco['NIVEL_DR']), 'RESULTADO'] = 'INDEFERIDO'\n",
        "\n",
        "servEncontradosCaco.loc[\n",
        "    (servEncontradosCaco['CNR'] < servEncontradosCaco['NIVEL_DR']), 'CNRstatus'] = 'O CNR calculado é MENOR que o encontrado na Data do Requerimento'\n",
        "servEncontradosCaco.loc[\n",
        "    (servEncontradosCaco['CNR'] > servEncontradosCaco['NIVEL_DR']), 'CNRstatus'] = 'O CNR calculado é MAIOR que o encontrado na Data do Requerimento'\n",
        "servEncontradosCaco.loc[\n",
        "    (servEncontradosCaco['CNR'] == servEncontradosCaco['NIVEL_DR']), 'CNRstatus'] = 'O CNR calculado é IGUAL ao encontrado na Data do Requerimento'"
      ],
      "metadata": {
        "id": "ChxTXNOzBYAk"
      },
      "execution_count": 117,
      "outputs": []
    },
    {
      "cell_type": "code",
      "source": [
        "colunas_conv_data = ['DATA DO REQUERIMENTO', \n",
        "                     'VIGENCIA INICIAL', \n",
        "                     'VIGENCIA FINAL',\n",
        "                     'OBITO',\n",
        "                     'INATIVIDADE',\n",
        "                     'DATA EXCLUSÃO']       \n",
        "\n",
        "#Substituindo\n",
        "for coluna in colunas_conv_data:\n",
        "  servEncontradosCaco[coluna] = pd.to_datetime(servEncontradosCaco[coluna]).dt.strftime('%d/%m/%Y')\n",
        "\n",
        "# display(servEncontradosCaco['VIGENCIA INICIAL'])"
      ],
      "metadata": {
        "id": "cLIu_aEmWvLC"
      },
      "execution_count": 118,
      "outputs": []
    },
    {
      "cell_type": "code",
      "source": [
        "# servEncontradosCaco['CPF'] = servEncontradosCaco['CPF'].astype(str).str.pad(11, fillchar='0', side='left').astype(int)\n",
        "# display(servEncontradosCaco['CPF'])"
      ],
      "metadata": {
        "id": "R3uQQcurcIcg"
      },
      "execution_count": null,
      "outputs": []
    },
    {
      "cell_type": "markdown",
      "source": [
        "Geração do xlsx com os resultados."
      ],
      "metadata": {
        "id": "N_Aig2BwEnUN"
      }
    },
    {
      "cell_type": "code",
      "source": [
        "# Lista de colunas para manter\n",
        "colunas_manter = ['PROCESSO SEI', \n",
        "                  'DATA DO REQUERIMENTO', \n",
        "                  'SIAPE', \n",
        "                  'INTERESSADO',\n",
        "                  'NIVEL POR DATA',\n",
        "                  'VIGENCIA INICIAL',\n",
        "                  'VIGENCIA FINAL',\n",
        "                  'SITUAÇÃO',\n",
        "                  'SERVIDOR',\n",
        "                  'CPF',\n",
        "                  'OBITO', \n",
        "                  'INATIVIDADE',\n",
        "                  'CARGO',\n",
        "                  'EXCLUSÃO',\n",
        "                  'DATA EXCLUSÃO',\n",
        "                  'SITUAÇÃO CADASTRO',\n",
        "                  'ESTADO',\n",
        "                  'DR5',\n",
        "                  'NivelEmDR',\n",
        "                  'RESULTADO',\n",
        "                  'CNRstatus']              \t\t\t\t\t\t\t\t\t\t\t \t\t\t\t\n",
        "\n",
        "# Exclusão das colunas que não estão na lista\n",
        "servEncontradosCaco = servEncontradosCaco[colunas_manter]\n",
        "\n",
        "servEncontradosCaco.to_excel('ResultadoComplexo.xlsx')"
      ],
      "metadata": {
        "id": "s6mGQHzzsn3C"
      },
      "execution_count": 122,
      "outputs": []
    }
  ]
}