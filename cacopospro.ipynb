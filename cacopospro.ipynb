{
  "nbformat": 4,
  "nbformat_minor": 0,
  "metadata": {
    "colab": {
      "provenance": [],
      "mount_file_id": "1W05VM6w5E-YrAdA9SR-vByg97Vgp67As",
      "authorship_tag": "ABX9TyNnWJeizq11lUQt8mzFrg2W",
      "include_colab_link": true
    },
    "kernelspec": {
      "name": "python3",
      "display_name": "Python 3"
    },
    "language_info": {
      "name": "python"
    }
  },
  "cells": [
    {
      "cell_type": "markdown",
      "metadata": {
        "id": "view-in-github",
        "colab_type": "text"
      },
      "source": [
        "<a href=\"https://colab.research.google.com/github/bessabra/PRO2PRO/blob/main/cacopospro.ipynb\" target=\"_parent\"><img src=\"https://colab.research.google.com/assets/colab-badge.svg\" alt=\"Open In Colab\"/></a>"
      ]
    },
    {
      "cell_type": "code",
      "execution_count": null,
      "metadata": {
        "id": "QlnV5HuhKopS"
      },
      "outputs": [],
      "source": [
        "import pandas as pd\n",
        "from datetime import datetime, timedelta\n",
        "\n",
        "base  = pd.read_excel('/content/CACOPOSPRO v01.01.xlsx')\n",
        "base2 = pd.read_excel('/content/baseAnalisev09.01.xlsx')\n"
      ]
    },
    {
      "cell_type": "markdown",
      "source": [
        "Retirada de colunas desnecessáras."
      ],
      "metadata": {
        "id": "Od4rE_GV_9gh"
      }
    },
    {
      "cell_type": "code",
      "source": [
        "base2.drop('Unnamed: 0.1',  axis = 1, inplace=True)\n",
        "base2.drop('Unnamed: 0',    axis = 1, inplace=True)\n",
        "base2.drop('_merge',        axis = 1, inplace=True)\n",
        "base2.drop('DRstatus',      axis = 1, inplace=True)\n",
        "base2.drop('DR5status',     axis = 1, inplace=True)\n",
        "base2.drop('REQUERIMENTO',  axis = 1, inplace=True)\n"
      ],
      "metadata": {
        "id": "Zf2tsPoI_EI4"
      },
      "execution_count": null,
      "outputs": []
    },
    {
      "cell_type": "markdown",
      "source": [
        "Redefinição de tipos das variáveis."
      ],
      "metadata": {
        "id": "Mf3HkP4rAEMz"
      }
    },
    {
      "cell_type": "code",
      "source": [
        "base['VIGENCIA INICIAL']  = pd.to_datetime(base['VIGENCIA INICIAL'], errors=\"coerce\")\n",
        "base['VIGENCIA FINAL']    = pd.to_datetime(base['VIGENCIA FINAL'], errors=\"coerce\")\n",
        "\n",
        "base2['OBITO']                  = pd.to_datetime(base2['OBITO'], errors=\"coerce\")\n",
        "base2['INATIVIDADE']            = pd.to_datetime(base2['INATIVIDADE'], errors=\"coerce\")\n",
        "base2['DATA DO REQUERIMENTO']   = pd.to_datetime(base2['DATA DO REQUERIMENTO'], errors=\"coerce\")\n",
        "base2['DR5']                    = pd.to_datetime(base2['DR5'], errors=\"coerce\")\n"
      ],
      "metadata": {
        "id": "NNsGoQ4PkccE"
      },
      "execution_count": null,
      "outputs": []
    },
    {
      "cell_type": "markdown",
      "source": [
        "Filtrando CPF, SIAPE e NOME presentes em CACOPOSPRO V13.12.2 e baseAnalisev19.12."
      ],
      "metadata": {
        "id": "1PG0YwzlALEQ"
      }
    },
    {
      "cell_type": "code",
      "source": [
        "servEncontradosCaco = base.merge(\n",
        "    base2, on=['SIAPE'], \n",
        "    # how='outer',\n",
        "    how='inner',\n",
        "    suffixes=['', '_'], \n",
        "    indicator=True\n",
        "    )\n",
        "\n",
        "servEncontradosCaco['DiasDiffDR'] = (servEncontradosCaco['VIGENCIA INICIAL'] - servEncontradosCaco['DATA DO REQUERIMENTO']).dt.days.abs()\n",
        "\n",
        "servEncontradosCacoDR = servEncontradosCaco.sort_values(by=['SIAPE', 'DiasDiffDR'])\n",
        "servEncontradosCacoDR = servEncontradosCacoDR.groupby('SIAPE').first().reset_index()\n",
        "\n",
        "servEncontradosCacoDR = servEncontradosCacoDR.rename(\n",
        "    columns = {'POSICIONAMENTO':'NivelEmDR'}\n",
        "    )\n",
        "servEncontradosCaco = servEncontradosCaco.rename(\n",
        "    columns = {'_merge':'MergeGeral'}\n",
        "    )\n",
        "servEncontradosCacoDR = servEncontradosCacoDR.rename(\n",
        "    columns = {'_merge':'MergeDR'}\n",
        "    )\n",
        "\n",
        "servEncontradosCaco = servEncontradosCaco.rename(\n",
        "    columns = {'POSICIONAMENTO':'NIVEL POR DATA'}\n",
        "    )\n",
        "\n",
        "servEncontradosCaco = servEncontradosCaco.merge(\n",
        "    servEncontradosCacoDR, on=['SIAPE'], \n",
        "    # how='outer',\n",
        "    how='inner',\n",
        "    suffixes=['', '_'], \n",
        "    indicator=True\n",
        "    )\n"
      ],
      "metadata": {
        "id": "I2QHH_xBDsd4",
        "colab": {
          "base_uri": "https://localhost:8080/"
        },
        "outputId": "1b158105-785b-4c64-cb91-44190eb0769a"
      },
      "execution_count": null,
      "outputs": [
        {
          "output_type": "stream",
          "name": "stderr",
          "text": [
            "/usr/local/lib/python3.8/dist-packages/pandas/core/frame.py:9190: FutureWarning: Passing 'suffixes' which cause duplicate columns {'CPF_'} in the result is deprecated and will raise a MergeError in a future version.\n",
            "  return merge(\n"
          ]
        }
      ]
    },
    {
      "cell_type": "code",
      "source": [
        "servEncontradosCaco.drop('CARGO_',                axis = 1, inplace=True)\n",
        "servEncontradosCaco.drop('CONDIÇÃO',              axis = 1, inplace=True)\n",
        "servEncontradosCaco.drop('MergeGeral',            axis = 1, inplace=True)\n",
        "servEncontradosCaco.drop('SITUAÇÃO_',             axis = 1, inplace=True)\n",
        "servEncontradosCaco.drop('OBITO_',                axis = 1, inplace=True)\n",
        "servEncontradosCaco.drop('INATIVIDADE_',          axis = 1, inplace=True)\n",
        "servEncontradosCaco.drop('PROCESSO SEI_',         axis = 1, inplace=True)\n",
        "servEncontradosCaco.drop('ESTADO_',               axis = 1, inplace=True)\n",
        "servEncontradosCaco.drop('DATA DO REQUERIMENTO_', axis = 1, inplace=True)\n",
        "servEncontradosCaco.drop('CARGO__',               axis = 1, inplace=True)\n",
        "servEncontradosCaco.drop('CONDIÇÃO_',             axis = 1, inplace=True)\n",
        "servEncontradosCaco.drop('DR5_',                  axis = 1, inplace=True)\n",
        "servEncontradosCaco.drop('MergeDR',               axis = 1, inplace=True)\n",
        "servEncontradosCaco.drop('DiasDiffDR_',           axis = 1, inplace=True)\n",
        "servEncontradosCaco.drop('_merge',                axis = 1, inplace=True)"
      ],
      "metadata": {
        "id": "G_0qsSK-S4LC"
      },
      "execution_count": null,
      "outputs": []
    },
    {
      "cell_type": "code",
      "source": [
        "servEncontradosCaco.loc[\n",
        "    ((servEncontradosCaco['NivelEmDR'] == '709-NS-D-101')|(servEncontradosCaco['NivelEmDR'] == '707-NS-D-101')), 'COD_NIVELDR'] = 1\n",
        "servEncontradosCaco.loc[\n",
        "    ((servEncontradosCaco['NivelEmDR'] == '709-NS-D-102')|(servEncontradosCaco['NivelEmDR'] == '707-NS-D-102')), 'COD_NIVELDR'] = 2\n",
        "servEncontradosCaco.loc[\n",
        "    ((servEncontradosCaco['NivelEmDR'] == '709-NS-D-201')|(servEncontradosCaco['NivelEmDR'] == '707-NS-D-201')), 'COD_NIVELDR'] = 3\n",
        "servEncontradosCaco.loc[\n",
        "    ((servEncontradosCaco['NivelEmDR'] == '709-NS-D-202')|(servEncontradosCaco['NivelEmDR'] == '707-NS-D-202')), 'COD_NIVELDR'] = 4\n",
        "servEncontradosCaco.loc[\n",
        "    ((servEncontradosCaco['NivelEmDR'] == '709-NS-D-301')|(servEncontradosCaco['NivelEmDR'] == '707-NS-D-301')), 'COD_NIVELDR'] = 5\n",
        "servEncontradosCaco.loc[\n",
        "    ((servEncontradosCaco['NivelEmDR'] == '709-NS-D-302')|(servEncontradosCaco['NivelEmDR'] == '707-NS-D-302')), 'COD_NIVELDR'] = 6\n",
        "servEncontradosCaco.loc[\n",
        "    ((servEncontradosCaco['NivelEmDR'] == '709-NS-D-303')|(servEncontradosCaco['NivelEmDR'] == '707-NS-D-303')), 'COD_NIVELDR'] = 7\n",
        "servEncontradosCaco.loc[\n",
        "    ((servEncontradosCaco['NivelEmDR'] == '709-NS-D-304')|(servEncontradosCaco['NivelEmDR'] == '707-NS-D-304')), 'COD_NIVELDR'] = 8\n",
        "servEncontradosCaco.loc[\n",
        "    ((servEncontradosCaco['NivelEmDR'] == '709-NS-D-401')|(servEncontradosCaco['NivelEmDR'] == '707-NS-D-401')), 'COD_NIVELDR'] = 9\n",
        "servEncontradosCaco.loc[\n",
        "    ((servEncontradosCaco['NivelEmDR'] == '709-NS-D-402')|(servEncontradosCaco['NivelEmDR'] == '707-NS-D-402')), 'COD_NIVELDR'] = 10\n",
        "servEncontradosCaco.loc[\n",
        "    ((servEncontradosCaco['NivelEmDR'] == '709-NS-D-403')|(servEncontradosCaco['NivelEmDR'] == '707-NS-D-403')), 'COD_NIVELDR'] = 11\n",
        "servEncontradosCaco.loc[\n",
        "    ((servEncontradosCaco['NivelEmDR'] == '709-NS-D-404')|(servEncontradosCaco['NivelEmDR'] == '707-NS-D-404')), 'COD_NIVELDR'] = 12\n",
        "\n",
        "#--------------------------------------------------------------------------------------------------------------------------------------------\n",
        "\n",
        "servEncontradosCaco.loc[\n",
        "    ((servEncontradosCaco['NivelEmDR'] == '704-NS-D-101')|(servEncontradosCaco['NivelEmDR'] == '702-NA-D-101')), 'COD_NIVELDR'] = 1\n",
        "servEncontradosCaco.loc[\n",
        "    ((servEncontradosCaco['NivelEmDR'] == '704-NS-D-102')|(servEncontradosCaco['NivelEmDR'] == '702-NA-D-102')), 'COD_NIVELDR'] = 1\n",
        "servEncontradosCaco.loc[\n",
        "    ((servEncontradosCaco['NivelEmDR'] == '704-NS-D-103')|(servEncontradosCaco['NivelEmDR'] == '702-NA-D-103')), 'COD_NIVELDR'] = 2\n",
        "servEncontradosCaco.loc[\n",
        "    ((servEncontradosCaco['NivelEmDR'] == '704-NS-D-104')|(servEncontradosCaco['NivelEmDR'] == '702-NA-D-104')), 'COD_NIVELDR'] = 2\n",
        "\n",
        "\n",
        "servEncontradosCaco.loc[\n",
        "    ((servEncontradosCaco['NivelEmDR'] == '704-NS-D-201')|(servEncontradosCaco['NivelEmDR'] == '702-NA-D-201')), 'COD_NIVELDR'] = 3\n",
        "servEncontradosCaco.loc[\n",
        "    ((servEncontradosCaco['NivelEmDR'] == '704-NS-D-202')|(servEncontradosCaco['NivelEmDR'] == '702-NA-D-202')), 'COD_NIVELDR'] = 3\n",
        "servEncontradosCaco.loc[\n",
        "    ((servEncontradosCaco['NivelEmDR'] == '704-NS-D-203')|(servEncontradosCaco['NivelEmDR'] == '702-NA-D-203')), 'COD_NIVELDR'] = 4\n",
        "servEncontradosCaco.loc[\n",
        "    ((servEncontradosCaco['NivelEmDR'] == '704-NS-D-204')|(servEncontradosCaco['NivelEmDR'] == '702-NA-D-204')), 'COD_NIVELDR'] = 4\n",
        "    \n",
        "servEncontradosCaco.loc[\n",
        "    ((servEncontradosCaco['NivelEmDR'] == '704-NS-D-301')|(servEncontradosCaco['NivelEmDR'] == '702-NA-D-301')), 'COD_NIVELDR'] = 5\n",
        "servEncontradosCaco.loc[\n",
        "    ((servEncontradosCaco['NivelEmDR'] == '704-NS-D-302')|(servEncontradosCaco['NivelEmDR'] == '702-NA-D-302')), 'COD_NIVELDR'] = 6\n",
        "servEncontradosCaco.loc[\n",
        "    ((servEncontradosCaco['NivelEmDR'] == '704-NS-D-303')|(servEncontradosCaco['NivelEmDR'] == '702-NA-D-303')), 'COD_NIVELDR'] = 7\n",
        "servEncontradosCaco.loc[\n",
        "    ((servEncontradosCaco['NivelEmDR'] == '704-NS-D-304')|(servEncontradosCaco['NivelEmDR'] == '702-NA-D-304')), 'COD_NIVELDR'] = 8\n",
        "servEncontradosCaco.loc[\n",
        "    ((servEncontradosCaco['NivelEmDR'] == '704-NS-D-401')|(servEncontradosCaco['NivelEmDR'] == '702-NA-D-401')), 'COD_NIVELDR'] = 9\n",
        "servEncontradosCaco.loc[\n",
        "    ((servEncontradosCaco['NivelEmDR'] == '704-NS-D-402')|(servEncontradosCaco['NivelEmDR'] == '702-NA-D-402')), 'COD_NIVELDR'] = 10\n",
        "servEncontradosCaco.loc[\n",
        "    ((servEncontradosCaco['NivelEmDR'] == '704-NS-D-403')|(servEncontradosCaco['NivelEmDR'] == '702-NA-D-403')), 'COD_NIVELDR'] = 11\n",
        "servEncontradosCaco.loc[\n",
        "    ((servEncontradosCaco['NivelEmDR'] == '704-NS-D-404')|(servEncontradosCaco['NivelEmDR'] == '702-NA-D-404')), 'COD_NIVELDR'] = 12"
      ],
      "metadata": {
        "id": "wDSivdqdXbF7"
      },
      "execution_count": null,
      "outputs": []
    },
    {
      "cell_type": "code",
      "source": [
        "servEncontradosCaco.loc[\n",
        "    (servEncontradosCaco['VIGENCIA INICIAL_'] > servEncontradosCaco['DATA DO REQUERIMENTO']), 'COD_NIVELDR'] = servEncontradosCaco['COD_NIVELDR'] - 1"
      ],
      "metadata": {
        "id": "nntao3GhrgZ1"
      },
      "execution_count": null,
      "outputs": []
    },
    {
      "cell_type": "code",
      "source": [
        "servEncontradosCaco.loc[\n",
        "    (servEncontradosCaco['COD_NIVELDR'] == 1), 'NIVEL_DR'] = 101\n",
        "servEncontradosCaco.loc[\n",
        "    (servEncontradosCaco['COD_NIVELDR'] == 2), 'NIVEL_DR'] = 102\n",
        "servEncontradosCaco.loc[\n",
        "    (servEncontradosCaco['COD_NIVELDR'] == 3), 'NIVEL_DR'] = 201\n",
        "servEncontradosCaco.loc[\n",
        "    (servEncontradosCaco['COD_NIVELDR'] == 4), 'NIVEL_DR'] = 202\n",
        "servEncontradosCaco.loc[\n",
        "    (servEncontradosCaco['COD_NIVELDR'] == 5), 'NIVEL_DR'] = 301\n",
        "servEncontradosCaco.loc[\n",
        "    (servEncontradosCaco['COD_NIVELDR'] == 6), 'NIVEL_DR'] = 302\n",
        "servEncontradosCaco.loc[\n",
        "    (servEncontradosCaco['COD_NIVELDR'] == 7), 'NIVEL_DR'] = 303\n",
        "servEncontradosCaco.loc[\n",
        "    (servEncontradosCaco['COD_NIVELDR'] == 8), 'NIVEL_DR'] = 304\n",
        "servEncontradosCaco.loc[\n",
        "    (servEncontradosCaco['COD_NIVELDR'] == 9), 'NIVEL_DR'] = 401\n",
        "servEncontradosCaco.loc[\n",
        "    (servEncontradosCaco['COD_NIVELDR'] == 10), 'NIVEL_DR'] = 402\n",
        "servEncontradosCaco.loc[\n",
        "    (servEncontradosCaco['COD_NIVELDR'] == 11), 'NIVEL_DR'] = 403\n",
        "servEncontradosCaco.loc[\n",
        "    (servEncontradosCaco['COD_NIVELDR'] >= 12), 'NIVEL_DR'] = 404"
      ],
      "metadata": {
        "id": "Udn3AjGQbSnQ"
      },
      "execution_count": null,
      "outputs": []
    },
    {
      "cell_type": "markdown",
      "source": [
        "Calculando a diferença entre DR5 e as datas de VIGENCIA INICIAL de cada Código de Carreira e Classe, por servidor. \n",
        "\n",
        "Em seguida, uma nova base é criada filtrada com a data e o Código de Carreira e Classe de cada servidor."
      ],
      "metadata": {
        "id": "aVaEACTUAfQq"
      }
    },
    {
      "cell_type": "code",
      "source": [
        "servEncontradosCaco['DiasDiff'] = (servEncontradosCaco['VIGENCIA INICIAL'] - servEncontradosCaco['DR5']).dt.days.abs()\n",
        "\n",
        "servEncontradosCaco = servEncontradosCaco.sort_values(by=['NOME', 'DiasDiff'])\n",
        "servEncontradosCaco = servEncontradosCaco.groupby('NOME').first().reset_index()"
      ],
      "metadata": {
        "id": "tVJJlpCQp6Fg"
      },
      "execution_count": null,
      "outputs": []
    },
    {
      "cell_type": "markdown",
      "source": [
        "Calculando (DTPi - DR5), para identificar o valor da diferença e filtrar a decisão."
      ],
      "metadata": {
        "id": "78PPqpGbBN6k"
      }
    },
    {
      "cell_type": "code",
      "source": [
        "servEncontradosCaco.loc[\n",
        "    ((servEncontradosCaco['VIGENCIA INICIAL'].dt.year - servEncontradosCaco['DR5'].dt.year <= 1) \n",
        "    & ((servEncontradosCaco['CARGO'] == '709001 PROFESSOR DO ENSINO BASICO EX-TERRITORIO')|(servEncontradosCaco['CARGO'] == '704001 PROFESSOR DO ENSINO BASICO EX-TERRITORIO'))), 'REGRA'] = 'EBF <= 1'\n",
        "\n",
        "servEncontradosCaco.loc[\n",
        "    ((servEncontradosCaco['VIGENCIA INICIAL'].dt.year - servEncontradosCaco['DR5'].dt.year > 1) \n",
        "    & ((servEncontradosCaco['CARGO'] == '709001 PROFESSOR DO ENSINO BASICO EX-TERRITORIO')|(servEncontradosCaco['CARGO'] == '704001 PROFESSOR DO ENSINO BASICO EX-TERRITORIO'))), 'REGRA'] = 'EBF > 1' \n",
        "\n",
        "servEncontradosCaco.loc[\n",
        "     ((servEncontradosCaco['VIGENCIA INICIAL'].dt.year - servEncontradosCaco['DR5'].dt.year <= 1) \n",
        "     & ((servEncontradosCaco['CARGO'] == '707001 PROFESSOR ENS BASICO TECN TECNOL')|(servEncontradosCaco['CARGO'] == '702001 PROF DO ENSINO BASICO TEC,TECNOLOGICO'))), 'REGRA'] = 'EBTT <= 1'\n",
        "\n",
        "servEncontradosCaco.loc[\n",
        "     ((servEncontradosCaco['VIGENCIA INICIAL'].dt.year - servEncontradosCaco['DR5'].dt.year > 1) \n",
        "     & ((servEncontradosCaco['CARGO'] == '707001 PROFESSOR ENS BASICO TECN TECNOL') |(servEncontradosCaco['CARGO'] == '702001 PROF DO ENSINO BASICO TEC,TECNOLOGICO'))), 'REGRA'] = 'EBTT > 1'\n",
        "\n",
        "servEncontradosCaco.loc[\n",
        "     ((servEncontradosCaco['CARGO'] != '707001 PROFESSOR ENS BASICO TECN TECNOL') &\n",
        "      (servEncontradosCaco['CARGO'] != '702001 PROF DO ENSINO BASICO TEC,TECNOLOGICO') &\n",
        "      (servEncontradosCaco['CARGO'] != '709001 PROFESSOR DO ENSINO BASICO EX-TERRITORIO') &\n",
        "      (servEncontradosCaco['CARGO'] != '704001 PROFESSOR DO ENSINO BASICO EX-TERRITORIO')), 'REGRA'] = 'MUDANÇA DE CARREIRA'"
      ],
      "metadata": {
        "id": "GM931kxxEtaP"
      },
      "execution_count": null,
      "outputs": []
    },
    {
      "cell_type": "markdown",
      "source": [
        "Tabelas de conversão de Código de Carreira e Classe (object) para um código de valor entre 1 - 12 (inteiro), isso facilitará o incremento."
      ],
      "metadata": {
        "id": "-AiLJbGjB36y"
      }
    },
    {
      "cell_type": "code",
      "source": [
        "\n",
        "servEncontradosCaco.loc[\n",
        "    ((servEncontradosCaco['NIVEL POR DATA'] == '709-NS-D-101')|(servEncontradosCaco['NIVEL POR DATA'] == '707-NS-D-101')), 'COD_NIVEL_DR5'] = 1\n",
        "servEncontradosCaco.loc[\n",
        "    ((servEncontradosCaco['NIVEL POR DATA'] == '709-NS-D-102')|(servEncontradosCaco['NIVEL POR DATA'] == '707-NS-D-102')), 'COD_NIVEL_DR5'] = 2\n",
        "servEncontradosCaco.loc[\n",
        "    ((servEncontradosCaco['NIVEL POR DATA'] == '709-NS-D-201')|(servEncontradosCaco['NIVEL POR DATA'] == '707-NS-D-201')), 'COD_NIVEL_DR5'] = 3\n",
        "servEncontradosCaco.loc[\n",
        "    ((servEncontradosCaco['NIVEL POR DATA'] == '709-NS-D-202')|(servEncontradosCaco['NIVEL POR DATA'] == '707-NS-D-202')), 'COD_NIVEL_DR5'] = 4\n",
        "servEncontradosCaco.loc[\n",
        "    ((servEncontradosCaco['NIVEL POR DATA'] == '709-NS-D-301')|(servEncontradosCaco['NIVEL POR DATA'] == '707-NS-D-301')), 'COD_NIVEL_DR5'] = 5\n",
        "servEncontradosCaco.loc[\n",
        "    ((servEncontradosCaco['NIVEL POR DATA'] == '709-NS-D-302')|(servEncontradosCaco['NIVEL POR DATA'] == '707-NS-D-302')), 'COD_NIVEL_DR5'] = 6\n",
        "servEncontradosCaco.loc[\n",
        "    ((servEncontradosCaco['NIVEL POR DATA'] == '709-NS-D-303')|(servEncontradosCaco['NIVEL POR DATA'] == '707-NS-D-303')), 'COD_NIVEL_DR5'] = 7\n",
        "servEncontradosCaco.loc[\n",
        "    ((servEncontradosCaco['NIVEL POR DATA'] == '709-NS-D-304')|(servEncontradosCaco['NIVEL POR DATA'] == '707-NS-D-304')), 'COD_NIVEL_DR5'] = 8\n",
        "servEncontradosCaco.loc[\n",
        "    ((servEncontradosCaco['NIVEL POR DATA'] == '709-NS-D-401')|(servEncontradosCaco['NIVEL POR DATA'] == '707-NS-D-401')), 'COD_NIVEL_DR5'] = 9\n",
        "servEncontradosCaco.loc[\n",
        "    ((servEncontradosCaco['NIVEL POR DATA'] == '709-NS-D-402')|(servEncontradosCaco['NIVEL POR DATA'] == '707-NS-D-402')), 'COD_NIVEL_DR5'] = 10\n",
        "servEncontradosCaco.loc[\n",
        "    ((servEncontradosCaco['NIVEL POR DATA'] == '709-NS-D-403')|(servEncontradosCaco['NIVEL POR DATA'] == '707-NS-D-403')), 'COD_NIVEL_DR5'] = 11\n",
        "servEncontradosCaco.loc[\n",
        "    ((servEncontradosCaco['NIVEL POR DATA'] == '709-NS-D-404')|(servEncontradosCaco['NIVEL POR DATA'] == '707-NS-D-404')), 'COD_NIVEL_DR5'] = 12\n",
        "\n",
        "#--------------------------------------------------------------------------------------------------------------------------------------------\n",
        "\n",
        "servEncontradosCaco.loc[\n",
        "    ((servEncontradosCaco['NIVEL POR DATA'] == '704-NS-D-101')|(servEncontradosCaco['NIVEL POR DATA'] == '702-NA-D-101')), 'COD_NIVEL_DR5'] = 1\n",
        "servEncontradosCaco.loc[\n",
        "    ((servEncontradosCaco['NIVEL POR DATA'] == '704-NS-D-102')|(servEncontradosCaco['NIVEL POR DATA'] == '702-NA-D-102')), 'COD_NIVEL_DR5'] = 1\n",
        "servEncontradosCaco.loc[\n",
        "    ((servEncontradosCaco['NIVEL POR DATA'] == '704-NS-D-103')|(servEncontradosCaco['NIVEL POR DATA'] == '702-NA-D-103')), 'COD_NIVEL_DR5'] = 2\n",
        "servEncontradosCaco.loc[\n",
        "    ((servEncontradosCaco['NIVEL POR DATA'] == '704-NS-D-104')|(servEncontradosCaco['NIVEL POR DATA'] == '702-NA-D-104')), 'COD_NIVEL_DR5'] = 2\n",
        "\n",
        "\n",
        "servEncontradosCaco.loc[\n",
        "    ((servEncontradosCaco['NIVEL POR DATA'] == '704-NS-D-201')|(servEncontradosCaco['NIVEL POR DATA'] == '702-NA-D-201')), 'COD_NIVEL_DR5'] = 3\n",
        "servEncontradosCaco.loc[\n",
        "    ((servEncontradosCaco['NIVEL POR DATA'] == '704-NS-D-202')|(servEncontradosCaco['NIVEL POR DATA'] == '702-NA-D-202')), 'COD_NIVEL_DR5'] = 3\n",
        "servEncontradosCaco.loc[\n",
        "    ((servEncontradosCaco['NIVEL POR DATA'] == '704-NS-D-203')|(servEncontradosCaco['NIVEL POR DATA'] == '702-NA-D-203')), 'COD_NIVEL_DR5'] = 4\n",
        "servEncontradosCaco.loc[\n",
        "    ((servEncontradosCaco['NIVEL POR DATA'] == '704-NS-D-204')|(servEncontradosCaco['NIVEL POR DATA'] == '702-NA-D-204')), 'COD_NIVEL_DR5'] = 4\n",
        "    \n",
        "servEncontradosCaco.loc[\n",
        "    ((servEncontradosCaco['NIVEL POR DATA'] == '704-NS-D-301')|(servEncontradosCaco['NIVEL POR DATA'] == '702-NA-D-301')), 'COD_NIVEL_DR5'] = 5\n",
        "servEncontradosCaco.loc[\n",
        "    ((servEncontradosCaco['NIVEL POR DATA'] == '704-NS-D-302')|(servEncontradosCaco['NIVEL POR DATA'] == '702-NA-D-302')), 'COD_NIVEL_DR5'] = 6\n",
        "servEncontradosCaco.loc[\n",
        "    ((servEncontradosCaco['NIVEL POR DATA'] == '704-NS-D-303')|(servEncontradosCaco['NIVEL POR DATA'] == '702-NA-D-303')), 'COD_NIVEL_DR5'] = 7\n",
        "servEncontradosCaco.loc[\n",
        "    ((servEncontradosCaco['NIVEL POR DATA'] == '704-NS-D-304')|(servEncontradosCaco['NIVEL POR DATA'] == '702-NA-D-304')), 'COD_NIVEL_DR5'] = 8\n",
        "servEncontradosCaco.loc[\n",
        "    ((servEncontradosCaco['NIVEL POR DATA'] == '704-NS-D-401')|(servEncontradosCaco['NIVEL POR DATA'] == '702-NA-D-401')), 'COD_NIVEL_DR5'] = 9\n",
        "servEncontradosCaco.loc[\n",
        "    ((servEncontradosCaco['NIVEL POR DATA'] == '704-NS-D-402')|(servEncontradosCaco['NIVEL POR DATA'] == '702-NA-D-402')), 'COD_NIVEL_DR5'] = 10\n",
        "servEncontradosCaco.loc[\n",
        "    ((servEncontradosCaco['NIVEL POR DATA'] == '704-NS-D-403')|(servEncontradosCaco['NIVEL POR DATA'] == '702-NA-D-403')), 'COD_NIVEL_DR5'] = 11\n",
        "servEncontradosCaco.loc[\n",
        "    ((servEncontradosCaco['NIVEL POR DATA'] == '704-NS-D-404')|(servEncontradosCaco['NIVEL POR DATA'] == '702-NA-D-404')), 'COD_NIVEL_DR5'] = 12"
      ],
      "metadata": {
        "id": "ZiEkJRdtBU-a"
      },
      "execution_count": null,
      "outputs": []
    },
    {
      "cell_type": "code",
      "source": [
        "servEncontradosCaco.loc[\n",
        "    ((servEncontradosCaco['VIGENCIA INICIAL'] > servEncontradosCaco['DR5'])&(servEncontradosCaco['COD_NIVEL_DR5'] > 1)), 'COD_NIVEL_DR5'] = servEncontradosCaco['COD_NIVEL_DR5'] - 1"
      ],
      "metadata": {
        "id": "uKAmRN5kIM8F"
      },
      "execution_count": null,
      "outputs": []
    },
    {
      "cell_type": "markdown",
      "source": [
        "Realização do incremento de acordo com o filtro da diferença entre DTPi - DR5.\n"
      ],
      "metadata": {
        "id": "h2eG9MsQCHYu"
      }
    },
    {
      "cell_type": "code",
      "source": [
        "servEncontradosCaco.loc[\n",
        "    (servEncontradosCaco['REGRA'] == 'EBF <= 1'), 'INCREMENTO_CNR'] = servEncontradosCaco['COD_NIVEL_DR5'] + 3\n",
        "servEncontradosCaco.loc[\n",
        "    (servEncontradosCaco['REGRA'] == 'EBF > 1'), 'INCREMENTO_CNR'] = servEncontradosCaco['COD_NIVEL_DR5'] + 4\n",
        "\n",
        "\n",
        "servEncontradosCaco.loc[\n",
        "    (servEncontradosCaco['REGRA'] == 'EBTT <= 1'), 'INCREMENTO_CNR'] = servEncontradosCaco['COD_NIVEL_DR5'] + 2\n",
        "servEncontradosCaco.loc[\n",
        "    (servEncontradosCaco['REGRA'] == 'EBTT > 1'), 'INCREMENTO_CNR'] = servEncontradosCaco['COD_NIVEL_DR5'] + 3"
      ],
      "metadata": {
        "id": "P_VYDDIOBbTB"
      },
      "execution_count": null,
      "outputs": []
    },
    {
      "cell_type": "markdown",
      "source": [
        "Conversão do código de valores incrementados de acordo com a regra de diferença entre DTPi - DR5."
      ],
      "metadata": {
        "id": "FKFd51yoCf7i"
      }
    },
    {
      "cell_type": "code",
      "source": [
        "servEncontradosCaco.loc[\n",
        "    (servEncontradosCaco['INCREMENTO_CNR'] == 1), 'CNR'] = 101\n",
        "servEncontradosCaco.loc[\n",
        "    (servEncontradosCaco['INCREMENTO_CNR'] == 2), 'CNR'] = 102\n",
        "servEncontradosCaco.loc[\n",
        "    (servEncontradosCaco['INCREMENTO_CNR'] == 3), 'CNR'] = 201\n",
        "servEncontradosCaco.loc[\n",
        "    (servEncontradosCaco['INCREMENTO_CNR'] == 4), 'CNR'] = 202\n",
        "servEncontradosCaco.loc[\n",
        "    (servEncontradosCaco['INCREMENTO_CNR'] == 5), 'CNR'] = 301\n",
        "servEncontradosCaco.loc[\n",
        "    (servEncontradosCaco['INCREMENTO_CNR'] == 6), 'CNR'] = 302\n",
        "servEncontradosCaco.loc[\n",
        "    (servEncontradosCaco['INCREMENTO_CNR'] == 7), 'CNR'] = 303\n",
        "servEncontradosCaco.loc[\n",
        "    (servEncontradosCaco['INCREMENTO_CNR'] == 8), 'CNR'] = 304\n",
        "servEncontradosCaco.loc[\n",
        "    (servEncontradosCaco['INCREMENTO_CNR'] == 9), 'CNR'] = 401\n",
        "servEncontradosCaco.loc[\n",
        "    (servEncontradosCaco['INCREMENTO_CNR'] == 10), 'CNR'] = 402\n",
        "servEncontradosCaco.loc[\n",
        "    (servEncontradosCaco['INCREMENTO_CNR'] == 11), 'CNR'] = 403\n",
        "servEncontradosCaco.loc[\n",
        "    ((servEncontradosCaco['INCREMENTO_CNR'] == 12) | (servEncontradosCaco['INCREMENTO_CNR'] > 12)), 'CNR'] = 404"
      ],
      "metadata": {
        "id": "X02uS7nCCede"
      },
      "execution_count": null,
      "outputs": []
    },
    {
      "cell_type": "markdown",
      "source": [
        "Descrição do resultado da análise."
      ],
      "metadata": {
        "id": "-_Nj73OEELc8"
      }
    },
    {
      "cell_type": "code",
      "source": [
        "servEncontradosCaco.loc[\n",
        "    ((servEncontradosCaco['CNR'] < servEncontradosCaco['NIVEL_DR'])|\n",
        "     (servEncontradosCaco['CNR'] > servEncontradosCaco['NIVEL_DR'])|\n",
        "     (servEncontradosCaco['REGRA'] == 'MUDANÇA DE CARREIRA')), 'RESULTADO'] = 'A DECIDIR'\n",
        "servEncontradosCaco.loc[\n",
        "    (servEncontradosCaco['CNR'] == servEncontradosCaco['NIVEL_DR']), 'RESULTADO'] = 'INDEFERIDO'\n",
        "\n",
        "servEncontradosCaco.loc[\n",
        "    (servEncontradosCaco['CNR'] < servEncontradosCaco['NIVEL_DR']), 'CNRstatus'] = 'O CNR calculado é MENOR que o encontrado na Data do Requerimento'\n",
        "servEncontradosCaco.loc[\n",
        "    (servEncontradosCaco['CNR'] > servEncontradosCaco['NIVEL_DR']), 'CNRstatus'] = 'O CNR calculado é MAIOR que o encontrado na Data do Requerimento'\n",
        "servEncontradosCaco.loc[\n",
        "    (servEncontradosCaco['CNR'] == servEncontradosCaco['NIVEL_DR']), 'CNRstatus'] = 'O CNR calculado é IGUAL ao encontrado na Data do Requerimento'"
      ],
      "metadata": {
        "id": "ChxTXNOzBYAk"
      },
      "execution_count": null,
      "outputs": []
    },
    {
      "cell_type": "code",
      "source": [
        "servEncontradosCaco.drop('NOME',                  axis = 1, inplace=True)\n",
        "servEncontradosCaco.drop('CPF_',                  axis = 1, inplace=True)\n",
        "servEncontradosCaco.drop('SERVIDOR_',             axis = 1, inplace=True)\n",
        "servEncontradosCaco.drop('DiasDiffDR',            axis = 1, inplace=True)\n",
        "servEncontradosCaco.drop('NOME_',                 axis = 1, inplace=True)\n",
        "servEncontradosCaco.drop('VIGENCIA INICIAL_',     axis = 1, inplace=True)\n",
        "servEncontradosCaco.drop('VIGENCIA FINAL_',       axis = 1, inplace=True)\n",
        "servEncontradosCaco.drop('CPF__',                 axis = 1, inplace=True)\n",
        "servEncontradosCaco.drop('EXCLUSÃO_',             axis = 1, inplace=True)\n",
        "servEncontradosCaco.drop('DATA EXCLUSÃO_',        axis = 1, inplace=True)\n",
        "servEncontradosCaco.drop('SITUAÇÃO CADASTRO_',    axis = 1, inplace=True)\n",
        "servEncontradosCaco.drop('INTERESSADO_',          axis = 1, inplace=True)\n",
        "servEncontradosCaco.drop('SERVIDOR__',            axis = 1, inplace=True)\n",
        "servEncontradosCaco.drop('DiasDiff',              axis = 1, inplace=True)"
      ],
      "metadata": {
        "id": "7fH9ZbKiFOvi"
      },
      "execution_count": null,
      "outputs": []
    },
    {
      "cell_type": "markdown",
      "source": [
        "Geração do xlsx com os resultados."
      ],
      "metadata": {
        "id": "N_Aig2BwEnUN"
      }
    },
    {
      "cell_type": "code",
      "source": [
        "# Lista de colunas para manter\n",
        "colunas_manter = ['PROCESSO SEI', \n",
        "                  'DATA DO REQUERIMENTO', \n",
        "                  'SIAPE', \n",
        "                  'INTERESSADO',\n",
        "                  'ASSUNTO',\n",
        "                  'GR-MATRICULA',\n",
        "                  'Órgão',\n",
        "                  'IT-NU-IDEN-SERV-ORIGEM',\n",
        "                  'IT-NO-SERVIDOR',\n",
        "                  'IT-NU-CPF',\n",
        "                  'CONDIÇÃO', \n",
        "                  '_merge',\n",
        "                  'IT-CO-CARGO-EMPREGO']\n",
        "\n",
        "# Exclusão das colunas que não estão na lista\n",
        "servEncontradosCaco = servEncontradosCaco[colunas_manter]\n",
        "\n",
        "servEncontradosCaco.to_excel('ResultadoComplexov09.01.03.xlsx')"
      ],
      "metadata": {
        "id": "s6mGQHzzsn3C"
      },
      "execution_count": null,
      "outputs": []
    }
  ]
}