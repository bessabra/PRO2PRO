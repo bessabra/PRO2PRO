{
  "cells": [
    {
      "cell_type": "markdown",
      "metadata": {
        "id": "view-in-github",
        "colab_type": "text"
      },
      "source": [
        "<a href=\"https://colab.research.google.com/github/bessabra/PRO2PRO/blob/main/DadosMixSei.ipynb\" target=\"_parent\"><img src=\"https://colab.research.google.com/assets/colab-badge.svg\" alt=\"Open In Colab\"/></a>"
      ]
    },
    {
      "cell_type": "code",
      "execution_count": null,
      "metadata": {
        "id": "bPHovZ5jUisV"
      },
      "outputs": [],
      "source": [
        "# mixResultadoGeral = pd.concat([baserq, basedf]).drop_duplicates(subset=['SIAPE', 'SIAPE'], keep=False)"
      ]
    },
    {
      "cell_type": "code",
      "execution_count": null,
      "metadata": {
        "id": "-tcGX5RuWnRq"
      },
      "outputs": [],
      "source": [
        "import pandas as pd\n",
        "from datetime import datetime, timedelta\n",
        "\n",
        "basedf = pd.read_excel('/content/Dados Funcionais v01.01.xlsx')\n",
        "baserq = pd.read_excel('/content/LISTA_SEI_PROFESSORES_CONSOLIDADAv27.12.xlsx')"
      ]
    },
    {
      "cell_type": "code",
      "execution_count": null,
      "metadata": {
        "id": "zzq2iIr_XkFL"
      },
      "outputs": [],
      "source": [
        "# baserq = baserq.rename(\n",
        "#     columns = {'IT-NO-SERVIDOR':'NOME'}\n",
        "#     )\n",
        "\n",
        "basedf['INATIVIDADE'] = pd.to_datetime(basedf['INATIVIDADE'], errors=\"coerce\")\n",
        "basedf['OBITO']       = pd.to_datetime(basedf['OBITO'], errors=\"coerce\")\n",
        "\n",
        "baserq['DATA DO REQUERIMENTO'] = pd.to_datetime(baserq['DATA DO REQUERIMENTO'], errors=\"coerce\")"
      ]
    },
    {
      "cell_type": "code",
      "execution_count": null,
      "metadata": {
        "id": "WGQFccFxXzNE"
      },
      "outputs": [],
      "source": [
        "# Junta as planilhas basedf e baserq pra identificar correspondência de CPF, SIAPE e NOME\n",
        "mixResultadoGeral = baserq.merge(\n",
        "    basedf, on=['SIAPE'], \n",
        "    how='outer', \n",
        "    # how='right', \n",
        "    suffixes=['', '_'], \n",
        "    indicator=True\n",
        "    )\n",
        "\n",
        "# Adiciona uma coluna com legendas para cada situação\n",
        "mixResultadoGeral.loc[(mixResultadoGeral['_merge'] == 'right_only'), 'CONDIÇÃO']  = 'Servidor não fez requerimento'\n",
        "mixResultadoGeral.loc[(mixResultadoGeral['_merge'] == 'left_only'), 'CONDIÇÃO']   = 'Servidor não encontrado em Dados Funcionais'\n",
        "mixResultadoGeral.loc[(mixResultadoGeral['_merge'] == 'both'), 'CONDIÇÃO']        = 'Servidor encontrado em Dados Funcionais'\n",
        "\n",
        "\n",
        "mixResultadoGeral.to_excel('ResultadoGeralMixv01.01.xlsx')\n",
        "\n",
        "# Cria uma nova planilha somente com os servidores não encontrados na Dados Funcionais v13.12\n",
        "servNao = mixResultadoGeral.loc[(mixResultadoGeral['_merge'] == 'left_only')]\n",
        "servNao.to_excel('servNaoEncv09.01.xlsx')\n"
      ]
    },
    {
      "cell_type": "code",
      "execution_count": null,
      "metadata": {
        "id": "MFkx9GTrX7EK"
      },
      "outputs": [],
      "source": [
        "# Cria uma nova planilha somente com os servidores com requerimento e que foram encontrados na Dados Funcionais v13.12\n",
        "servEncontrados = basedf.merge(\n",
        "    baserq, on=['SIAPE'], \n",
        "    how='inner', \n",
        "    suffixes=['', '_'], \n",
        "    indicator=True\n",
        "    )\n",
        "\n",
        "servEncontrados.loc[(servEncontrados['_merge'] == 'both'), 'CONDIÇÃO'] = 'Servidor encontrado em Dados Funcionais'\n",
        "\n",
        "servEncontrados.to_excel('servEncontradosv09.01.xlsx')"
      ]
    }
  ],
  "metadata": {
    "colab": {
      "provenance": [],
      "mount_file_id": "15Y_fnqP7qHjskGfLxNtWvz4ClYFj1vDS",
      "authorship_tag": "ABX9TyOxQ8WPxltCo+fwcDI5HEXW",
      "include_colab_link": true
    },
    "kernelspec": {
      "display_name": "Python 3",
      "name": "python3"
    },
    "language_info": {
      "name": "python"
    }
  },
  "nbformat": 4,
  "nbformat_minor": 0
}