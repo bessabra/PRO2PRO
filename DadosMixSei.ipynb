{
  "nbformat": 4,
  "nbformat_minor": 0,
  "metadata": {
    "colab": {
      "provenance": [],
      "mount_file_id": "15Y_fnqP7qHjskGfLxNtWvz4ClYFj1vDS",
      "authorship_tag": "ABX9TyPmsmP/lTGxKygXwIpEC02I",
      "include_colab_link": true
    },
    "kernelspec": {
      "name": "python3",
      "display_name": "Python 3"
    },
    "language_info": {
      "name": "python"
    }
  },
  "cells": [
    {
      "cell_type": "markdown",
      "metadata": {
        "id": "view-in-github",
        "colab_type": "text"
      },
      "source": [
        "<a href=\"https://colab.research.google.com/github/bessabra/bessabra/blob/main/DadosMixSei.ipynb\" target=\"_parent\"><img src=\"https://colab.research.google.com/assets/colab-badge.svg\" alt=\"Open In Colab\"/></a>"
      ]
    },
    {
      "cell_type": "code",
      "execution_count": 9,
      "metadata": {
        "id": "-tcGX5RuWnRq"
      },
      "outputs": [],
      "source": [
        "import pandas as pd\n",
        "from datetime import datetime, timedelta\n",
        "\n",
        "\n",
        "basedf = pd.read_csv('/content/drive/MyDrive/Progressão Professores/Versões v13.12/Dados Funcionais v13.12.csv')\n",
        "baserq = pd.read_csv('/content/drive/MyDrive/Progressão Professores/Versões v13.12/LISTA_SEI_PROFESSORES RR RO AP v15.12.2.csv')"
      ]
    },
    {
      "cell_type": "code",
      "source": [
        "baserq = baserq.rename(\n",
        "    columns = {'INTERESSADO':'NOME'}\n",
        "    )\n",
        "\n",
        "basedf['INATIVIDADE'] = pd.to_datetime(basedf['INATIVIDADE'], errors=\"coerce\")\n",
        "basedf['OBITO'] = pd.to_datetime(basedf['OBITO'], errors=\"coerce\")\n",
        "\n",
        "baserq['DATA DO REQUERIMENTO'] = pd.to_datetime(baserq['DATA DO REQUERIMENTO'], errors=\"coerce\")"
      ],
      "metadata": {
        "id": "zzq2iIr_XkFL"
      },
      "execution_count": 10,
      "outputs": []
    },
    {
      "cell_type": "code",
      "source": [
        "# Junta as planilhas basedf e baserq pra identificar correspondência de CPF, SIAPE e NOME\n",
        "mixResultadoGeral = basedf.merge(\n",
        "    baserq, on=['CPF', 'SIAPE', 'NOME'], \n",
        "    how='right', \n",
        "    suffixes=['', '_'], \n",
        "    indicator=True\n",
        "    )\n",
        "\n",
        "# Adiciona uma coluna com legendas para cada situação\n",
        "mixResultadoGeral.loc[(mixResultadoGeral['_merge'] == 'right_only'), 'CONDIÇÃO'] = 'Servidor não encontrado no sistema'\n",
        "mixResultadoGeral.loc[(mixResultadoGeral['_merge'] == 'left_only'), 'CONDIÇÃO'] = 'Servidor não fez requerimento'\n",
        "mixResultadoGeral.loc[(mixResultadoGeral['_merge'] == 'both'), 'CONDIÇÃO'] = 'Servidor encontrado no sistema'\n",
        "\n",
        "# Cria uma nova planilha somente com os servidores não encontrados na CACOPOSPRO v13.12\n",
        "servNao = mixResultadoGeral.loc[(mixResultadoGeral['_merge'] == 'right_only')]\n",
        "servNao.to_excel('servNaoResultadoGeralv19.12.xlsx')"
      ],
      "metadata": {
        "id": "WGQFccFxXzNE"
      },
      "execution_count": 11,
      "outputs": []
    },
    {
      "cell_type": "code",
      "source": [
        "# Cria uma nova planilha somente com os servidores com requerimento e que foram encontrados na CACOPOSPRO v13.12\n",
        "servEncontrados = basedf.merge(\n",
        "    baserq, on=['CPF', 'SIAPE', 'NOME'], \n",
        "    how='inner', \n",
        "    suffixes=['', '_'], \n",
        "    indicator=True\n",
        "    )\n",
        "\n",
        "servEncontrados.loc[(servEncontrados['_merge'] == 'both'), 'CONDIÇÃO'] = 'Servidor encontrado no sistema'\n",
        "\n",
        "# servEncontrados.drop('_merge', axis = 1, inplace=True)\n",
        "# servEncontrados.drop('NIVEL', axis = 1, inplace=True)\n",
        "# servEncontrados.drop('CLASSE', axis = 1, inplace=True)\n",
        "\n",
        "servEncontrados.to_excel('servEncontradosv19.12.xlsx')"
      ],
      "metadata": {
        "id": "MFkx9GTrX7EK"
      },
      "execution_count": 12,
      "outputs": []
    }
  ]
}